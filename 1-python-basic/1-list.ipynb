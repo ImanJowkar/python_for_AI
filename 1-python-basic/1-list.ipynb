{
  "cells": [
    {
      "cell_type": "markdown",
      "metadata": {
        "id": "view-in-github",
        "colab_type": "text"
      },
      "source": [
        "<a href=\"https://colab.research.google.com/github/ImanJowkar/python_for_AI/blob/main/1-list.ipynb\" target=\"_parent\"><img src=\"https://colab.research.google.com/assets/colab-badge.svg\" alt=\"Open In Colab\"/></a>"
      ]
    },
    {
      "cell_type": "markdown",
      "source": [
        "## Lists"
      ],
      "metadata": {
        "id": "hAt5H2nxNOVm"
      }
    },
    {
      "cell_type": "code",
      "source": [
        "li1 = [4, 5, 9, 3, 2, 12]\n",
        "print(li1)"
      ],
      "metadata": {
        "id": "PdSh2iGaNPWy",
        "outputId": "dc05dc6c-6543-4505-80d4-cdb13f480501",
        "colab": {
          "base_uri": "https://localhost:8080/"
        }
      },
      "execution_count": 154,
      "outputs": [
        {
          "output_type": "stream",
          "name": "stdout",
          "text": [
            "[4, 5, 9, 3, 2, 12]\n"
          ]
        }
      ]
    },
    {
      "cell_type": "code",
      "source": [
        "print(type(li1))"
      ],
      "metadata": {
        "id": "zRIu0EzUN7lo",
        "outputId": "532cae3f-664b-456f-ef84-4299723a649e",
        "colab": {
          "base_uri": "https://localhost:8080/"
        }
      },
      "execution_count": 155,
      "outputs": [
        {
          "output_type": "stream",
          "name": "stdout",
          "text": [
            "<class 'list'>\n"
          ]
        }
      ]
    },
    {
      "cell_type": "code",
      "source": [
        "li1, type(li1)"
      ],
      "metadata": {
        "id": "fWDy9NCcN92L",
        "outputId": "00c24a1d-cda2-446d-a879-8619e3452950",
        "colab": {
          "base_uri": "https://localhost:8080/"
        }
      },
      "execution_count": 156,
      "outputs": [
        {
          "output_type": "execute_result",
          "data": {
            "text/plain": [
              "([4, 5, 9, 3, 2, 12], list)"
            ]
          },
          "metadata": {},
          "execution_count": 156
        }
      ]
    },
    {
      "cell_type": "code",
      "source": [
        "li2 = [\"python\", \"AI\", \"ML\", \"DevOps\", \"MLOPS\"]\n",
        "li2"
      ],
      "metadata": {
        "id": "tLaMSHBbOCqi",
        "outputId": "2f5ccda3-76e0-41c5-88ae-c2ae32fdd11f",
        "colab": {
          "base_uri": "https://localhost:8080/"
        }
      },
      "execution_count": 157,
      "outputs": [
        {
          "output_type": "execute_result",
          "data": {
            "text/plain": [
              "['python', 'AI', 'ML', 'DevOps', 'MLOPS']"
            ]
          },
          "metadata": {},
          "execution_count": 157
        }
      ]
    },
    {
      "cell_type": "code",
      "source": [
        "li3 = []\n",
        "li3 = list()\n",
        "li3"
      ],
      "metadata": {
        "id": "0MLYwPjWODkW",
        "outputId": "53fb3953-c761-4abf-fc21-8777a42b5c02",
        "colab": {
          "base_uri": "https://localhost:8080/"
        }
      },
      "execution_count": 158,
      "outputs": [
        {
          "output_type": "execute_result",
          "data": {
            "text/plain": [
              "[]"
            ]
          },
          "metadata": {},
          "execution_count": 158
        }
      ]
    },
    {
      "cell_type": "code",
      "source": [
        "name = \"MLOPS\"\n",
        "list(name)"
      ],
      "metadata": {
        "id": "L0V-yNjJOxVu",
        "outputId": "b562be24-16e5-4c52-ec6a-908da248902b",
        "colab": {
          "base_uri": "https://localhost:8080/"
        }
      },
      "execution_count": 159,
      "outputs": [
        {
          "output_type": "execute_result",
          "data": {
            "text/plain": [
              "['M', 'L', 'O', 'P', 'S']"
            ]
          },
          "metadata": {},
          "execution_count": 159
        }
      ]
    },
    {
      "cell_type": "markdown",
      "source": [
        "# indexing"
      ],
      "metadata": {
        "id": "MN2A3kRG5CDC"
      }
    },
    {
      "cell_type": "code",
      "source": [
        "print(li2[0])\n",
        "print(li2[-1])\n"
      ],
      "metadata": {
        "id": "DnzCU37fOxjE",
        "colab": {
          "base_uri": "https://localhost:8080/"
        },
        "outputId": "93a8f547-ae89-410f-ee09-0bbe41e0cf89"
      },
      "execution_count": 160,
      "outputs": [
        {
          "output_type": "stream",
          "name": "stdout",
          "text": [
            "python\n",
            "MLOPS\n"
          ]
        }
      ]
    },
    {
      "cell_type": "code",
      "source": [
        "li4 = [5,4,3,5,6,293,5094,54]\n",
        "li4[:3]"
      ],
      "metadata": {
        "colab": {
          "base_uri": "https://localhost:8080/"
        },
        "id": "5iDOn3yZ5Ius",
        "outputId": "36e538ea-1777-4130-e800-e194f8063f0d"
      },
      "execution_count": 161,
      "outputs": [
        {
          "output_type": "execute_result",
          "data": {
            "text/plain": [
              "[5, 4, 3]"
            ]
          },
          "metadata": {},
          "execution_count": 161
        }
      ]
    },
    {
      "cell_type": "code",
      "source": [
        "li4[3:7]"
      ],
      "metadata": {
        "colab": {
          "base_uri": "https://localhost:8080/"
        },
        "id": "SndoaAVf5uDJ",
        "outputId": "0cb11e49-87b8-46f4-e1fc-f1c4ff6c938c"
      },
      "execution_count": 162,
      "outputs": [
        {
          "output_type": "execute_result",
          "data": {
            "text/plain": [
              "[5, 6, 293, 5094]"
            ]
          },
          "metadata": {},
          "execution_count": 162
        }
      ]
    },
    {
      "cell_type": "code",
      "source": [
        "li4[4:-2]"
      ],
      "metadata": {
        "colab": {
          "base_uri": "https://localhost:8080/"
        },
        "id": "i7KbQPQm5yB7",
        "outputId": "50e2707d-af8a-4c19-904d-79e0aea040ce"
      },
      "execution_count": 163,
      "outputs": [
        {
          "output_type": "execute_result",
          "data": {
            "text/plain": [
              "[6, 293]"
            ]
          },
          "metadata": {},
          "execution_count": 163
        }
      ]
    },
    {
      "cell_type": "code",
      "source": [
        "li4[4:]"
      ],
      "metadata": {
        "colab": {
          "base_uri": "https://localhost:8080/"
        },
        "id": "UfptnwZD53lg",
        "outputId": "d4f584da-21a2-4350-c2ab-df5bf24f0e75"
      },
      "execution_count": 164,
      "outputs": [
        {
          "output_type": "execute_result",
          "data": {
            "text/plain": [
              "[6, 293, 5094, 54]"
            ]
          },
          "metadata": {},
          "execution_count": 164
        }
      ]
    },
    {
      "cell_type": "code",
      "source": [
        "li4[:4]"
      ],
      "metadata": {
        "colab": {
          "base_uri": "https://localhost:8080/"
        },
        "id": "FTgmbuHj5-zJ",
        "outputId": "b262ec32-f450-466b-c593-498023539363"
      },
      "execution_count": 165,
      "outputs": [
        {
          "output_type": "execute_result",
          "data": {
            "text/plain": [
              "[5, 4, 3, 5]"
            ]
          },
          "metadata": {},
          "execution_count": 165
        }
      ]
    },
    {
      "cell_type": "code",
      "source": [
        "li4[1:-1:2] # start:stop:step"
      ],
      "metadata": {
        "colab": {
          "base_uri": "https://localhost:8080/"
        },
        "id": "PwXpYzt36H_C",
        "outputId": "59f8315b-cd4b-4b50-8fc0-830c7ff6ef0e"
      },
      "execution_count": 166,
      "outputs": [
        {
          "output_type": "execute_result",
          "data": {
            "text/plain": [
              "[4, 5, 293]"
            ]
          },
          "metadata": {},
          "execution_count": 166
        }
      ]
    },
    {
      "cell_type": "code",
      "source": [
        "li4"
      ],
      "metadata": {
        "colab": {
          "base_uri": "https://localhost:8080/"
        },
        "id": "Rb3gYDjn6uS7",
        "outputId": "8ddd8355-6b12-4233-fe87-9b301d3e63d0"
      },
      "execution_count": 167,
      "outputs": [
        {
          "output_type": "execute_result",
          "data": {
            "text/plain": [
              "[5, 4, 3, 5, 6, 293, 5094, 54]"
            ]
          },
          "metadata": {},
          "execution_count": 167
        }
      ]
    },
    {
      "cell_type": "code",
      "source": [
        "li4[::2]"
      ],
      "metadata": {
        "colab": {
          "base_uri": "https://localhost:8080/"
        },
        "id": "USeZv4mO6bWn",
        "outputId": "6b7578ed-1ee8-4167-8483-0dcd29821f04"
      },
      "execution_count": 168,
      "outputs": [
        {
          "output_type": "execute_result",
          "data": {
            "text/plain": [
              "[5, 3, 6, 5094]"
            ]
          },
          "metadata": {},
          "execution_count": 168
        }
      ]
    },
    {
      "cell_type": "code",
      "source": [
        "li4[1::2]"
      ],
      "metadata": {
        "colab": {
          "base_uri": "https://localhost:8080/"
        },
        "id": "tH28K1DN6sH-",
        "outputId": "afe5f3e3-d35a-4b8b-948c-a7acc0b8507c"
      },
      "execution_count": 169,
      "outputs": [
        {
          "output_type": "execute_result",
          "data": {
            "text/plain": [
              "[4, 5, 293, 54]"
            ]
          },
          "metadata": {},
          "execution_count": 169
        }
      ]
    },
    {
      "cell_type": "code",
      "source": [
        "li4[2] = -122222222\n",
        "print(li4)"
      ],
      "metadata": {
        "colab": {
          "base_uri": "https://localhost:8080/"
        },
        "id": "jPOnu5UX60I4",
        "outputId": "1b9a20b0-9e9e-48e5-9ef6-29dc873daec7"
      },
      "execution_count": 170,
      "outputs": [
        {
          "output_type": "stream",
          "name": "stdout",
          "text": [
            "[5, 4, -122222222, 5, 6, 293, 5094, 54]\n"
          ]
        }
      ]
    },
    {
      "cell_type": "code",
      "source": [
        "mat = [[1, 2, 0, 7], \n",
        "       [9, 4, 8, 1],\n",
        "       [5, 3, 6, 1]]\n",
        "print(mat)"
      ],
      "metadata": {
        "colab": {
          "base_uri": "https://localhost:8080/"
        },
        "id": "Zd8l9Omh6-X-",
        "outputId": "80d278cf-8c26-4c45-bc01-c66a20f780ef"
      },
      "execution_count": 171,
      "outputs": [
        {
          "output_type": "stream",
          "name": "stdout",
          "text": [
            "[[1, 2, 0, 7], [9, 4, 8, 1], [5, 3, 6, 1]]\n"
          ]
        }
      ]
    },
    {
      "cell_type": "code",
      "source": [
        "mat[2][0]"
      ],
      "metadata": {
        "colab": {
          "base_uri": "https://localhost:8080/"
        },
        "id": "z_jWx5hY7fa3",
        "outputId": "dd5142a1-daab-4a45-fbaa-6cbf4b64245f"
      },
      "execution_count": 172,
      "outputs": [
        {
          "output_type": "execute_result",
          "data": {
            "text/plain": [
              "5"
            ]
          },
          "metadata": {},
          "execution_count": 172
        }
      ]
    },
    {
      "cell_type": "code",
      "source": [
        "mat[2]"
      ],
      "metadata": {
        "colab": {
          "base_uri": "https://localhost:8080/"
        },
        "id": "frgNZNHt7uNI",
        "outputId": "635ca226-00eb-426f-bf37-d6f4477c8d1f"
      },
      "execution_count": 173,
      "outputs": [
        {
          "output_type": "execute_result",
          "data": {
            "text/plain": [
              "[5, 3, 6, 1]"
            ]
          },
          "metadata": {},
          "execution_count": 173
        }
      ]
    },
    {
      "cell_type": "code",
      "source": [
        "mat[1][2:]"
      ],
      "metadata": {
        "colab": {
          "base_uri": "https://localhost:8080/"
        },
        "id": "K9_YXZOg7xeh",
        "outputId": "ed3b1949-f204-4b8b-c840-a9a8e1003555"
      },
      "execution_count": 174,
      "outputs": [
        {
          "output_type": "execute_result",
          "data": {
            "text/plain": [
              "[8, 1]"
            ]
          },
          "metadata": {},
          "execution_count": 174
        }
      ]
    },
    {
      "cell_type": "markdown",
      "source": [
        "# List methods"
      ],
      "metadata": {
        "id": "kkzE9qPU8Atw"
      }
    },
    {
      "cell_type": "code",
      "source": [
        "li4"
      ],
      "metadata": {
        "colab": {
          "base_uri": "https://localhost:8080/"
        },
        "id": "MCzDox4h8DB8",
        "outputId": "4e5ccad5-54ae-43eb-a946-a89c9d064e99"
      },
      "execution_count": 175,
      "outputs": [
        {
          "output_type": "execute_result",
          "data": {
            "text/plain": [
              "[5, 4, -122222222, 5, 6, 293, 5094, 54]"
            ]
          },
          "metadata": {},
          "execution_count": 175
        }
      ]
    },
    {
      "cell_type": "code",
      "source": [
        "print(li4.__len__())\n",
        "print(len(li4))\n"
      ],
      "metadata": {
        "colab": {
          "base_uri": "https://localhost:8080/"
        },
        "id": "JfOYYeVX8C_a",
        "outputId": "0f870c63-4a5a-48ef-925f-9366b23f4b6b"
      },
      "execution_count": 176,
      "outputs": [
        {
          "output_type": "stream",
          "name": "stdout",
          "text": [
            "8\n",
            "8\n"
          ]
        }
      ]
    },
    {
      "cell_type": "code",
      "source": [
        "li4.append(18823)"
      ],
      "metadata": {
        "id": "zK8UAkH88C8b"
      },
      "execution_count": 177,
      "outputs": []
    },
    {
      "cell_type": "code",
      "source": [
        "li4.append([1,2,3,4])\n",
        "print(li4)"
      ],
      "metadata": {
        "colab": {
          "base_uri": "https://localhost:8080/"
        },
        "id": "IIUcFaec8C5n",
        "outputId": "0ff283a1-6b8b-48a0-e88f-383e43ebe136"
      },
      "execution_count": 178,
      "outputs": [
        {
          "output_type": "stream",
          "name": "stdout",
          "text": [
            "[5, 4, -122222222, 5, 6, 293, 5094, 54, 18823, [1, 2, 3, 4]]\n"
          ]
        }
      ]
    },
    {
      "cell_type": "code",
      "source": [
        "li4.extend([1,2,3,4,5, 5, 5])"
      ],
      "metadata": {
        "id": "UVvCaE-v70Ty"
      },
      "execution_count": 179,
      "outputs": []
    },
    {
      "cell_type": "code",
      "source": [
        "li4"
      ],
      "metadata": {
        "colab": {
          "base_uri": "https://localhost:8080/"
        },
        "id": "4CmhLscj9EZV",
        "outputId": "e3050dfc-cbf4-46c3-f49d-7a143241c037"
      },
      "execution_count": 180,
      "outputs": [
        {
          "output_type": "execute_result",
          "data": {
            "text/plain": [
              "[5,\n",
              " 4,\n",
              " -122222222,\n",
              " 5,\n",
              " 6,\n",
              " 293,\n",
              " 5094,\n",
              " 54,\n",
              " 18823,\n",
              " [1, 2, 3, 4],\n",
              " 1,\n",
              " 2,\n",
              " 3,\n",
              " 4,\n",
              " 5,\n",
              " 5,\n",
              " 5]"
            ]
          },
          "metadata": {},
          "execution_count": 180
        }
      ]
    },
    {
      "cell_type": "code",
      "source": [
        "li4.insert(0,'ali')\n",
        "li4"
      ],
      "metadata": {
        "colab": {
          "base_uri": "https://localhost:8080/"
        },
        "id": "rfHcQpMz9Gnb",
        "outputId": "d2d29691-685f-49f7-c99c-1bda1c3cc995"
      },
      "execution_count": 181,
      "outputs": [
        {
          "output_type": "execute_result",
          "data": {
            "text/plain": [
              "['ali',\n",
              " 5,\n",
              " 4,\n",
              " -122222222,\n",
              " 5,\n",
              " 6,\n",
              " 293,\n",
              " 5094,\n",
              " 54,\n",
              " 18823,\n",
              " [1, 2, 3, 4],\n",
              " 1,\n",
              " 2,\n",
              " 3,\n",
              " 4,\n",
              " 5,\n",
              " 5,\n",
              " 5]"
            ]
          },
          "metadata": {},
          "execution_count": 181
        }
      ]
    },
    {
      "cell_type": "code",
      "source": [
        "li4.pop() # last element will droped"
      ],
      "metadata": {
        "colab": {
          "base_uri": "https://localhost:8080/"
        },
        "id": "32XvBhRw9SGF",
        "outputId": "b1462ff1-e39a-4c9c-bcf7-198e12fca8bb"
      },
      "execution_count": 182,
      "outputs": [
        {
          "output_type": "execute_result",
          "data": {
            "text/plain": [
              "5"
            ]
          },
          "metadata": {},
          "execution_count": 182
        }
      ]
    },
    {
      "cell_type": "code",
      "source": [
        "li4"
      ],
      "metadata": {
        "id": "FBqZedGO-2s_",
        "outputId": "cd6ec442-f4de-44b1-abbe-a319eb067ba6",
        "colab": {
          "base_uri": "https://localhost:8080/"
        }
      },
      "execution_count": 183,
      "outputs": [
        {
          "output_type": "execute_result",
          "data": {
            "text/plain": [
              "['ali',\n",
              " 5,\n",
              " 4,\n",
              " -122222222,\n",
              " 5,\n",
              " 6,\n",
              " 293,\n",
              " 5094,\n",
              " 54,\n",
              " 18823,\n",
              " [1, 2, 3, 4],\n",
              " 1,\n",
              " 2,\n",
              " 3,\n",
              " 4,\n",
              " 5,\n",
              " 5]"
            ]
          },
          "metadata": {},
          "execution_count": 183
        }
      ]
    },
    {
      "cell_type": "code",
      "source": [
        "li4.pop(3)\n"
      ],
      "metadata": {
        "id": "Lk8i_gkb-57w",
        "outputId": "ff3e2e77-4ec0-4bee-c619-1c99071138bb",
        "colab": {
          "base_uri": "https://localhost:8080/"
        }
      },
      "execution_count": 184,
      "outputs": [
        {
          "output_type": "execute_result",
          "data": {
            "text/plain": [
              "-122222222"
            ]
          },
          "metadata": {},
          "execution_count": 184
        }
      ]
    },
    {
      "cell_type": "code",
      "source": [
        "li4.remove(5) # remove first 5 in li4 \n"
      ],
      "metadata": {
        "id": "NncjbSzK_JcQ"
      },
      "execution_count": 185,
      "outputs": []
    },
    {
      "cell_type": "code",
      "source": [
        "li4"
      ],
      "metadata": {
        "id": "PtdzYisD_Rxo",
        "outputId": "0b591b60-4484-4a98-b256-109dc8533e6c",
        "colab": {
          "base_uri": "https://localhost:8080/"
        }
      },
      "execution_count": 186,
      "outputs": [
        {
          "output_type": "execute_result",
          "data": {
            "text/plain": [
              "['ali', 4, 5, 6, 293, 5094, 54, 18823, [1, 2, 3, 4], 1, 2, 3, 4, 5, 5]"
            ]
          },
          "metadata": {},
          "execution_count": 186
        }
      ]
    },
    {
      "cell_type": "code",
      "source": [
        "li4.clear()\n",
        "li4"
      ],
      "metadata": {
        "id": "fGD2dnc4_VGN",
        "outputId": "7f7ba8f6-cdee-4fb3-f640-2e4833835bf8",
        "colab": {
          "base_uri": "https://localhost:8080/"
        }
      },
      "execution_count": 187,
      "outputs": [
        {
          "output_type": "execute_result",
          "data": {
            "text/plain": [
              "[]"
            ]
          },
          "metadata": {},
          "execution_count": 187
        }
      ]
    },
    {
      "cell_type": "code",
      "source": [
        "li5 = [1, 2, 3, 4, 3, 3]"
      ],
      "metadata": {
        "id": "qTZaUIpp_dIY"
      },
      "execution_count": 188,
      "outputs": []
    },
    {
      "cell_type": "code",
      "source": [
        "li5.count(3)"
      ],
      "metadata": {
        "id": "qDwkr8Oj_i5Q",
        "outputId": "c344a9f7-67ee-47b6-a1a6-53294a9acc04",
        "colab": {
          "base_uri": "https://localhost:8080/"
        }
      },
      "execution_count": 189,
      "outputs": [
        {
          "output_type": "execute_result",
          "data": {
            "text/plain": [
              "3"
            ]
          },
          "metadata": {},
          "execution_count": 189
        }
      ]
    },
    {
      "cell_type": "code",
      "source": [
        "li5.index(2) # get index of a value"
      ],
      "metadata": {
        "id": "RkAHUVQ1_lXQ",
        "outputId": "b68ee4a8-9033-4a8c-d7ad-5dc385018014",
        "colab": {
          "base_uri": "https://localhost:8080/"
        }
      },
      "execution_count": 190,
      "outputs": [
        {
          "output_type": "execute_result",
          "data": {
            "text/plain": [
              "1"
            ]
          },
          "metadata": {},
          "execution_count": 190
        }
      ]
    },
    {
      "cell_type": "code",
      "source": [
        "li5.reverse()\n",
        "li5"
      ],
      "metadata": {
        "id": "nkdpcNRG_0D5",
        "outputId": "efbe3d07-9745-40e6-bc38-30be8d9940c7",
        "colab": {
          "base_uri": "https://localhost:8080/"
        }
      },
      "execution_count": 191,
      "outputs": [
        {
          "output_type": "execute_result",
          "data": {
            "text/plain": [
              "[3, 3, 4, 3, 2, 1]"
            ]
          },
          "metadata": {},
          "execution_count": 191
        }
      ]
    },
    {
      "cell_type": "code",
      "source": [
        "li5.sort()\n",
        "li5"
      ],
      "metadata": {
        "id": "AA9KfcD7AA0U",
        "outputId": "5c7a3425-6537-4139-90fa-729f08f6fd35",
        "colab": {
          "base_uri": "https://localhost:8080/"
        }
      },
      "execution_count": 192,
      "outputs": [
        {
          "output_type": "execute_result",
          "data": {
            "text/plain": [
              "[1, 2, 3, 3, 3, 4]"
            ]
          },
          "metadata": {},
          "execution_count": 192
        }
      ]
    },
    {
      "cell_type": "code",
      "source": [
        "li5.sort(reverse=True)\n",
        "li5"
      ],
      "metadata": {
        "id": "B7ThwhBhAFip",
        "outputId": "1d78ad1c-0fb1-4245-fafd-7b837b856f0a",
        "colab": {
          "base_uri": "https://localhost:8080/"
        }
      },
      "execution_count": 193,
      "outputs": [
        {
          "output_type": "execute_result",
          "data": {
            "text/plain": [
              "[4, 3, 3, 3, 2, 1]"
            ]
          },
          "metadata": {},
          "execution_count": 193
        }
      ]
    },
    {
      "cell_type": "code",
      "source": [
        "li6 = li5.copy()\n",
        "li6.append(58588585858)\n",
        "print(f\"li5 is: {li5}\")\n",
        "print(f\"li6 is: {li6}\")\n"
      ],
      "metadata": {
        "id": "fgbxeE2oAMad",
        "outputId": "5da31003-1501-4ef1-ef37-024056caaf01",
        "colab": {
          "base_uri": "https://localhost:8080/"
        }
      },
      "execution_count": 194,
      "outputs": [
        {
          "output_type": "stream",
          "name": "stdout",
          "text": [
            "li5 is: [4, 3, 3, 3, 2, 1]\n",
            "li6 is: [4, 3, 3, 3, 2, 1, 58588585858]\n"
          ]
        }
      ]
    },
    {
      "cell_type": "markdown",
      "source": [
        "## concat list"
      ],
      "metadata": {
        "id": "ZAyrv9ljWBhg"
      }
    },
    {
      "cell_type": "code",
      "source": [
        "li6 + [1,2,3,9,5,493,4]"
      ],
      "metadata": {
        "id": "aorPtEBlAPc3",
        "colab": {
          "base_uri": "https://localhost:8080/"
        },
        "outputId": "d694e72b-898d-41bb-dbce-4fddc4289670"
      },
      "execution_count": 195,
      "outputs": [
        {
          "output_type": "execute_result",
          "data": {
            "text/plain": [
              "[4, 3, 3, 3, 2, 1, 58588585858, 1, 2, 3, 9, 5, 493, 4]"
            ]
          },
          "metadata": {},
          "execution_count": 195
        }
      ]
    },
    {
      "cell_type": "code",
      "source": [
        "li6 * 2"
      ],
      "metadata": {
        "id": "vPgUikYLAPaW",
        "colab": {
          "base_uri": "https://localhost:8080/"
        },
        "outputId": "37ff895a-5671-466a-b8f8-5ddecf4ed19a"
      },
      "execution_count": 196,
      "outputs": [
        {
          "output_type": "execute_result",
          "data": {
            "text/plain": [
              "[4, 3, 3, 3, 2, 1, 58588585858, 4, 3, 3, 3, 2, 1, 58588585858]"
            ]
          },
          "metadata": {},
          "execution_count": 196
        }
      ]
    },
    {
      "cell_type": "code",
      "source": [
        "if 3 in li6:\n",
        "    print(\"exist\")\n",
        "else:\n",
        "    print(\"not-exist\")"
      ],
      "metadata": {
        "colab": {
          "base_uri": "https://localhost:8080/"
        },
        "id": "nXkM8VlQV2ST",
        "outputId": "37e445b2-e625-41d9-a84d-170491813a36"
      },
      "execution_count": 197,
      "outputs": [
        {
          "output_type": "stream",
          "name": "stdout",
          "text": [
            "exist\n"
          ]
        }
      ]
    },
    {
      "cell_type": "markdown",
      "source": [
        "## list properties\n",
        "* lists are ordered\n",
        "* list item are accessed by indexing\n",
        "* lists are dynamic\n",
        "* lists are heterogenenous --> [1, True, \"string\"]\n",
        "* lists are nestable ----> [1,2,3, [5,4,3],[4,3]]\n",
        "* lists are mutable  ----> it can be changed"
      ],
      "metadata": {
        "id": "zPFlBD9cW14V"
      }
    },
    {
      "cell_type": "code",
      "source": [
        "txt = \"\"\"Python is a high-level, general-purpose programming language. Its design philosophy emphasizes code readability with the use of significant indentation.[33] Python isdynamically-typed and garbage-collected. It supports multiple programming paradigms,including structured (particularly procedural), object-oriented and functional programming. It is often described as a 'batteries included' language due to its comprehensive standard library\"\"\"\n",
        "txt\n"
      ],
      "metadata": {
        "colab": {
          "base_uri": "https://localhost:8080/",
          "height": 87
        },
        "id": "-ixTA2jeV2NE",
        "outputId": "ee022f6f-0754-4b86-f434-314deb6c7f03"
      },
      "execution_count": 198,
      "outputs": [
        {
          "output_type": "execute_result",
          "data": {
            "text/plain": [
              "\"Python is a high-level, general-purpose programming language. Its design philosophy emphasizes code readability with the use of significant indentation.[33] Python isdynamically-typed and garbage-collected. It supports multiple programming paradigms,including structured (particularly procedural), object-oriented and functional programming. It is often described as a 'batteries included' language due to its comprehensive standard library\""
            ],
            "application/vnd.google.colaboratory.intrinsic+json": {
              "type": "string"
            }
          },
          "metadata": {},
          "execution_count": 198
        }
      ]
    },
    {
      "cell_type": "code",
      "source": [
        "list1 = txt.split() \n",
        "list1.count(\"Python\")"
      ],
      "metadata": {
        "colab": {
          "base_uri": "https://localhost:8080/"
        },
        "id": "f4Kcx7OxV2KL",
        "outputId": "5398ed0c-a5ab-4211-cfbf-d50f6064afde"
      },
      "execution_count": 200,
      "outputs": [
        {
          "output_type": "execute_result",
          "data": {
            "text/plain": [
              "2"
            ]
          },
          "metadata": {},
          "execution_count": 200
        }
      ]
    },
    {
      "cell_type": "code",
      "source": [],
      "metadata": {
        "id": "S0zqwvcQc0y2"
      },
      "execution_count": 199,
      "outputs": []
    },
    {
      "cell_type": "code",
      "source": [],
      "metadata": {
        "id": "u2_-V2-bc0wh"
      },
      "execution_count": 199,
      "outputs": []
    },
    {
      "cell_type": "code",
      "source": [],
      "metadata": {
        "id": "GnkNQqwFc0t2"
      },
      "execution_count": 199,
      "outputs": []
    },
    {
      "cell_type": "code",
      "source": [],
      "metadata": {
        "id": "CrvUCaPlc0qm"
      },
      "execution_count": 199,
      "outputs": []
    },
    {
      "cell_type": "code",
      "source": [],
      "metadata": {
        "id": "q9UoEPnoAPX2"
      },
      "execution_count": 199,
      "outputs": []
    }
  ],
  "metadata": {
    "colab": {
      "name": "Welcome To Colaboratory",
      "provenance": [],
      "include_colab_link": true
    },
    "kernelspec": {
      "display_name": "Python 3",
      "name": "python3"
    }
  },
  "nbformat": 4,
  "nbformat_minor": 0
}