{
  "cells": [
    {
      "cell_type": "markdown",
      "metadata": {
        "id": "view-in-github",
        "colab_type": "text"
      },
      "source": [
        "<a href=\"https://colab.research.google.com/github/ImanJowkar/python_for_AI/blob/main/6-tuple-sets.ipynb\" target=\"_parent\"><img src=\"https://colab.research.google.com/assets/colab-badge.svg\" alt=\"Open In Colab\"/></a>"
      ]
    },
    {
      "cell_type": "markdown",
      "source": [
        "# Tuple"
      ],
      "metadata": {
        "id": "I5vZr8xsR8v5"
      }
    },
    {
      "cell_type": "code",
      "source": [
        "tup1 = (1,2,23,4)"
      ],
      "metadata": {
        "id": "1mQeFHSUR8mZ"
      },
      "execution_count": 1,
      "outputs": []
    },
    {
      "cell_type": "markdown",
      "source": [
        "# Why Tuple\n",
        "* Tuples are faster than lists"
      ],
      "metadata": {
        "id": "wVDPRgrpSDFt"
      }
    },
    {
      "cell_type": "code",
      "source": [
        "''.join(['a','b','c','d','e','f','g'])"
      ],
      "metadata": {
        "id": "c3UqBtrER6wp",
        "outputId": "b6072b1a-cde4-439b-bdcb-8f5430cfab79",
        "colab": {
          "base_uri": "https://localhost:8080/",
          "height": 35
        }
      },
      "execution_count": 2,
      "outputs": [
        {
          "output_type": "execute_result",
          "data": {
            "text/plain": [
              "'abcdefg'"
            ],
            "application/vnd.google.colaboratory.intrinsic+json": {
              "type": "string"
            }
          },
          "metadata": {},
          "execution_count": 2
        }
      ]
    },
    {
      "cell_type": "code",
      "source": [
        "!python -m timeit \"for i in range(10000):\" \"     ''.join(['a','b','c','d','e','f','g'])\""
      ],
      "metadata": {
        "id": "_ipxTD0bR6zM",
        "outputId": "e499693b-fe94-4ce5-edb7-48dc6a9524f1",
        "colab": {
          "base_uri": "https://localhost:8080/"
        }
      },
      "execution_count": 3,
      "outputs": [
        {
          "output_type": "stream",
          "name": "stdout",
          "text": [
            "50 loops, best of 5: 3.33 msec per loop\n"
          ]
        }
      ]
    },
    {
      "cell_type": "code",
      "source": [
        "!python -m timeit \"for i in range(10000):\" \"     ''.join(('a','b','c','d','e','f','g'))\""
      ],
      "metadata": {
        "id": "KnBEpvZBR610",
        "outputId": "32067935-c0f2-41f4-9138-1b55d53f03af",
        "colab": {
          "base_uri": "https://localhost:8080/"
        }
      },
      "execution_count": 4,
      "outputs": [
        {
          "output_type": "stream",
          "name": "stdout",
          "text": [
            "100 loops, best of 5: 2.29 msec per loop\n"
          ]
        }
      ]
    },
    {
      "cell_type": "markdown",
      "source": [
        "* Tuple is immutable"
      ],
      "metadata": {
        "id": "4fy6UsiiTS5w"
      }
    },
    {
      "cell_type": "code",
      "source": [
        "tup1[0] = 5\n",
        "tup1"
      ],
      "metadata": {
        "id": "4f69mVAFTSX7",
        "outputId": "d0fc800f-04b1-4b26-b4fc-b1a5ddaaad13",
        "colab": {
          "base_uri": "https://localhost:8080/",
          "height": 183
        }
      },
      "execution_count": 5,
      "outputs": [
        {
          "output_type": "error",
          "ename": "TypeError",
          "evalue": "ignored",
          "traceback": [
            "\u001b[0;31m---------------------------------------------------------------------------\u001b[0m",
            "\u001b[0;31mTypeError\u001b[0m                                 Traceback (most recent call last)",
            "\u001b[0;32m<ipython-input-5-2a923e8fc45f>\u001b[0m in \u001b[0;36m<module>\u001b[0;34m\u001b[0m\n\u001b[0;32m----> 1\u001b[0;31m \u001b[0mtup1\u001b[0m\u001b[0;34m[\u001b[0m\u001b[0;36m0\u001b[0m\u001b[0;34m]\u001b[0m \u001b[0;34m=\u001b[0m \u001b[0;36m5\u001b[0m\u001b[0;34m\u001b[0m\u001b[0;34m\u001b[0m\u001b[0m\n\u001b[0m\u001b[1;32m      2\u001b[0m \u001b[0mtup1\u001b[0m\u001b[0;34m\u001b[0m\u001b[0;34m\u001b[0m\u001b[0m\n",
            "\u001b[0;31mTypeError\u001b[0m: 'tuple' object does not support item assignment"
          ]
        }
      ]
    },
    {
      "cell_type": "markdown",
      "source": [
        "\n",
        "* Tuple can be used as key in dictionary"
      ],
      "metadata": {
        "id": "s5_TgwPaTB5p"
      }
    },
    {
      "cell_type": "code",
      "source": [
        "d = {(1,2):3}\n",
        "d"
      ],
      "metadata": {
        "id": "JffNvufuR64B",
        "outputId": "dde40994-b956-4712-c959-723abe30e858",
        "colab": {
          "base_uri": "https://localhost:8080/"
        }
      },
      "execution_count": 7,
      "outputs": [
        {
          "output_type": "execute_result",
          "data": {
            "text/plain": [
              "{(1, 2): 3}"
            ]
          },
          "metadata": {},
          "execution_count": 7
        }
      ]
    },
    {
      "cell_type": "markdown",
      "source": [
        "# unpack and loop"
      ],
      "metadata": {
        "id": "CDaCZALSTrIZ"
      }
    },
    {
      "cell_type": "code",
      "source": [
        "a,b,c,d = tup1\n",
        "print(tup1)\n",
        "print(a)\n",
        "print(b)\n",
        "print(c)\n",
        "print(d)"
      ],
      "metadata": {
        "id": "ZvrT7G7BToEI",
        "outputId": "69982af9-3265-417b-fad9-0fdfe6eac6e9",
        "colab": {
          "base_uri": "https://localhost:8080/"
        }
      },
      "execution_count": 8,
      "outputs": [
        {
          "output_type": "stream",
          "name": "stdout",
          "text": [
            "(1, 2, 23, 4)\n",
            "1\n",
            "2\n",
            "23\n",
            "4\n"
          ]
        }
      ]
    },
    {
      "cell_type": "code",
      "source": [
        "a, *b = tup1\n",
        "print(tup1)\n",
        "print(a)\n",
        "print(b)\n"
      ],
      "metadata": {
        "id": "EgvCbLp3T1Mh",
        "outputId": "badb04c5-272c-4a28-9e44-da5e940d2640",
        "colab": {
          "base_uri": "https://localhost:8080/"
        }
      },
      "execution_count": 9,
      "outputs": [
        {
          "output_type": "stream",
          "name": "stdout",
          "text": [
            "(1, 2, 23, 4)\n",
            "1\n",
            "[2, 23, 4]\n"
          ]
        }
      ]
    },
    {
      "cell_type": "code",
      "source": [
        "*a,b = tup1\n",
        "print(tup1)\n",
        "print(a)\n",
        "print(b)"
      ],
      "metadata": {
        "id": "YKmmsbhiUDTE",
        "outputId": "990f2f35-14bc-400e-9214-2a855ab09771",
        "colab": {
          "base_uri": "https://localhost:8080/"
        }
      },
      "execution_count": 10,
      "outputs": [
        {
          "output_type": "stream",
          "name": "stdout",
          "text": [
            "(1, 2, 23, 4)\n",
            "[1, 2, 23]\n",
            "4\n"
          ]
        }
      ]
    },
    {
      "cell_type": "code",
      "source": [
        "tup3 = ((1,2,-1), (5,4,2),(6,4,2))\n",
        "for *i1, i2 in tup3:\n",
        "    print(i1, i2)"
      ],
      "metadata": {
        "id": "1AqFJ8-8UI9J",
        "outputId": "77a274cd-1560-402f-eff2-09651ad180f3",
        "colab": {
          "base_uri": "https://localhost:8080/"
        }
      },
      "execution_count": 11,
      "outputs": [
        {
          "output_type": "stream",
          "name": "stdout",
          "text": [
            "[1, 2] -1\n",
            "[5, 4] 2\n",
            "[6, 4] 2\n"
          ]
        }
      ]
    },
    {
      "cell_type": "code",
      "source": [
        "dict1 = {\"sara\": 23, \"ali\":15, \"Mahsa\":22}\n",
        "print(dict1.items())\n",
        "gen = [(name, age) for name, age in dict1.items() if age > 18]\n",
        "print(gen)"
      ],
      "metadata": {
        "id": "S-KTKIBCViMc",
        "outputId": "073bbf97-107b-42ee-b257-411f35b05b10",
        "colab": {
          "base_uri": "https://localhost:8080/"
        }
      },
      "execution_count": 12,
      "outputs": [
        {
          "output_type": "stream",
          "name": "stdout",
          "text": [
            "dict_items([('sara', 23), ('ali', 15), ('Mahsa', 22)])\n",
            "[('sara', 23), ('Mahsa', 22)]\n"
          ]
        }
      ]
    },
    {
      "cell_type": "code",
      "source": [
        "my_tup = (10,4,3,2,3,5,54,4)\n",
        "my_tup[:3] + my_tup[4:]"
      ],
      "metadata": {
        "id": "V1p84lPPV5Ms",
        "outputId": "4cbafc84-5d8a-4548-a816-d5c2935dac2f",
        "colab": {
          "base_uri": "https://localhost:8080/"
        }
      },
      "execution_count": 13,
      "outputs": [
        {
          "output_type": "execute_result",
          "data": {
            "text/plain": [
              "(10, 4, 3, 3, 5, 54, 4)"
            ]
          },
          "metadata": {},
          "execution_count": 13
        }
      ]
    },
    {
      "cell_type": "markdown",
      "source": [
        "# Sets"
      ],
      "metadata": {
        "id": "2a0M8h-_XTqq"
      }
    },
    {
      "cell_type": "code",
      "source": [
        "set1 = {1,2,3,4,4,4, True}\n",
        "set2 = {'a','b','b','c'}\n",
        "print(f'set1: {set1}')\n",
        "print(f'set2: {set2}')"
      ],
      "metadata": {
        "id": "g98BcSW3WStR",
        "outputId": "aa7d5d54-c7b2-41f1-8b04-3c9eb558e3d9",
        "colab": {
          "base_uri": "https://localhost:8080/"
        }
      },
      "execution_count": 14,
      "outputs": [
        {
          "output_type": "stream",
          "name": "stdout",
          "text": [
            "set1: {1, 2, 3, 4}\n",
            "set2: {'a', 'b', 'c'}\n"
          ]
        }
      ]
    },
    {
      "cell_type": "code",
      "source": [
        "set2 = set1.copy()\n",
        "set2"
      ],
      "metadata": {
        "id": "2ul5VhuxWSwQ",
        "outputId": "0a08e9fd-3280-46dc-d8b4-509cff0d26c5",
        "colab": {
          "base_uri": "https://localhost:8080/"
        }
      },
      "execution_count": 15,
      "outputs": [
        {
          "output_type": "execute_result",
          "data": {
            "text/plain": [
              "{1, 2, 3, 4}"
            ]
          },
          "metadata": {},
          "execution_count": 15
        }
      ]
    },
    {
      "cell_type": "code",
      "source": [
        "set2.add(4)\n",
        "set2"
      ],
      "metadata": {
        "id": "TvkX_RxpWSzD",
        "outputId": "d176865c-b28e-4582-9873-011947223176",
        "colab": {
          "base_uri": "https://localhost:8080/"
        }
      },
      "execution_count": 17,
      "outputs": [
        {
          "output_type": "execute_result",
          "data": {
            "text/plain": [
              "{1, 2, 3, 4}"
            ]
          },
          "metadata": {},
          "execution_count": 17
        }
      ]
    },
    {
      "cell_type": "code",
      "source": [
        "set3 = {5,'a','b'}\n",
        "set2.update(set3)\n",
        "set2"
      ],
      "metadata": {
        "id": "sCljQSSBWS1c",
        "outputId": "45a67bd8-a9e1-4b63-a104-69fc478edbfd",
        "colab": {
          "base_uri": "https://localhost:8080/"
        }
      },
      "execution_count": 18,
      "outputs": [
        {
          "output_type": "execute_result",
          "data": {
            "text/plain": [
              "{1, 2, 3, 4, 5, 'a', 'b'}"
            ]
          },
          "metadata": {},
          "execution_count": 18
        }
      ]
    },
    {
      "cell_type": "code",
      "source": [
        "set2.remove('a')\n",
        "set2"
      ],
      "metadata": {
        "id": "5DqMHt8RDec6",
        "outputId": "f6e4e0e9-b64a-4b16-ac78-c0cf6a12446c",
        "colab": {
          "base_uri": "https://localhost:8080/"
        }
      },
      "execution_count": 19,
      "outputs": [
        {
          "output_type": "execute_result",
          "data": {
            "text/plain": [
              "{1, 2, 3, 4, 5, 'b'}"
            ]
          },
          "metadata": {},
          "execution_count": 19
        }
      ]
    },
    {
      "cell_type": "code",
      "source": [
        "set2.discard(10)"
      ],
      "metadata": {
        "id": "AGnaJPhHDuwG"
      },
      "execution_count": 20,
      "outputs": []
    },
    {
      "cell_type": "code",
      "source": [
        "set1.union(set2)"
      ],
      "metadata": {
        "id": "pwmYzFQ9Dx80",
        "outputId": "49d51f14-495f-4008-a703-64e06a0e1bae",
        "colab": {
          "base_uri": "https://localhost:8080/"
        }
      },
      "execution_count": 21,
      "outputs": [
        {
          "output_type": "execute_result",
          "data": {
            "text/plain": [
              "{1, 2, 3, 4, 5, 'b'}"
            ]
          },
          "metadata": {},
          "execution_count": 21
        }
      ]
    },
    {
      "cell_type": "code",
      "source": [],
      "metadata": {
        "id": "hn6-KmRoEH5X",
        "outputId": "8a9a8f86-a597-4cb9-ed2c-b585b3e89a19",
        "colab": {
          "base_uri": "https://localhost:8080/"
        }
      },
      "execution_count": 22,
      "outputs": [
        {
          "output_type": "stream",
          "name": "stdout",
          "text": [
            "{1, 2, 3, 4, 'b', 5}\n"
          ]
        }
      ]
    },
    {
      "cell_type": "code",
      "source": [],
      "metadata": {
        "id": "FFuKRBTZEKNQ"
      },
      "execution_count": null,
      "outputs": []
    }
  ],
  "metadata": {
    "colab": {
      "name": "Welcome To Colaboratory",
      "provenance": [],
      "include_colab_link": true
    },
    "kernelspec": {
      "display_name": "Python 3",
      "name": "python3"
    }
  },
  "nbformat": 4,
  "nbformat_minor": 0
}