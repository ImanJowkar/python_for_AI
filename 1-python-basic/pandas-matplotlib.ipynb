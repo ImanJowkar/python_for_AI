{
 "cells": [
  {
   "cell_type": "markdown",
   "id": "b30cbfca-6b4a-42f7-ac94-5e223ffc829f",
   "metadata": {},
   "source": [
    "# Pandas"
   ]
  },
  {
   "cell_type": "code",
   "execution_count": 38,
   "id": "96c5e91e-3f68-44b5-9817-759ca98cb76b",
   "metadata": {},
   "outputs": [],
   "source": [
    "import pandas as pd\n",
    "import numpy as np"
   ]
  },
  {
   "cell_type": "code",
   "execution_count": 12,
   "id": "b1aac2c5-5d82-4a6d-a128-a31aef41b258",
   "metadata": {},
   "outputs": [
    {
     "data": {
      "text/plain": [
       "0      45.0\n",
       "1    1900.0\n",
       "2    4470.0\n",
       "3    2780.0\n",
       "4    3660.0\n",
       "5     870.0\n",
       "dtype: float32"
      ]
     },
     "execution_count": 12,
     "metadata": {},
     "output_type": "execute_result"
    }
   ],
   "source": [
    "s1 = pd.Series([45, 1900, 4470, 2780, 3660, 870], dtype = np.float32)\n",
    "s1"
   ]
  },
  {
   "cell_type": "code",
   "execution_count": 13,
   "id": "fcc3d6ae-2f14-40d9-907d-db9e7a363ea3",
   "metadata": {},
   "outputs": [
    {
     "data": {
      "text/plain": [
       "pandas.core.series.Series"
      ]
     },
     "execution_count": 13,
     "metadata": {},
     "output_type": "execute_result"
    }
   ],
   "source": [
    "type(s1)"
   ]
  },
  {
   "cell_type": "code",
   "execution_count": 14,
   "id": "bb16d509-6cd6-4e03-b32e-c9036b3b074d",
   "metadata": {},
   "outputs": [
    {
     "data": {
      "text/plain": [
       "0      45.0\n",
       "1    1900.0\n",
       "2    4470.0\n",
       "3    2780.0\n",
       "4    3660.0\n",
       "5     870.0\n",
       "Name: series_1, dtype: float32"
      ]
     },
     "execution_count": 14,
     "metadata": {},
     "output_type": "execute_result"
    }
   ],
   "source": [
    "s1.name = \"series_1\"\n",
    "s1"
   ]
  },
  {
   "cell_type": "code",
   "execution_count": 15,
   "id": "a7718f07-f9ae-4f55-ba7f-226e926b2757",
   "metadata": {},
   "outputs": [
    {
     "data": {
      "text/plain": [
       "array([  45., 1900., 4470., 2780., 3660.,  870.], dtype=float32)"
      ]
     },
     "execution_count": 15,
     "metadata": {},
     "output_type": "execute_result"
    }
   ],
   "source": [
    "s1.values"
   ]
  },
  {
   "cell_type": "code",
   "execution_count": 16,
   "id": "46087d39-caa4-4e34-b4cd-c8ef0bac46eb",
   "metadata": {},
   "outputs": [
    {
     "data": {
      "text/plain": [
       "numpy.ndarray"
      ]
     },
     "execution_count": 16,
     "metadata": {},
     "output_type": "execute_result"
    }
   ],
   "source": [
    "type(s1.values)"
   ]
  },
  {
   "cell_type": "code",
   "execution_count": 17,
   "id": "69edeea7-f5e4-4e0d-8469-cd2d5765a05b",
   "metadata": {},
   "outputs": [
    {
     "data": {
      "text/plain": [
       "idx1      45.0\n",
       "idx2    1900.0\n",
       "idx3    4470.0\n",
       "idx4    2780.0\n",
       "idx5    3660.0\n",
       "idx6     870.0\n",
       "Name: series_1, dtype: float32"
      ]
     },
     "execution_count": 17,
     "metadata": {},
     "output_type": "execute_result"
    }
   ],
   "source": [
    "s1.index = ['idx1', 'idx2', 'idx3', 'idx4', 'idx5', 'idx6']\n",
    "s1"
   ]
  },
  {
   "cell_type": "code",
   "execution_count": 18,
   "id": "0d2f2927-bc97-4d06-a648-3e4312602b62",
   "metadata": {},
   "outputs": [
    {
     "data": {
      "text/plain": [
       "idx1    650\n",
       "idx2    170\n",
       "idx3     10\n",
       "idx4    290\n",
       "idx5     90\n",
       "idx6     78\n",
       "Name: product_demand, dtype: int64"
      ]
     },
     "execution_count": 18,
     "metadata": {},
     "output_type": "execute_result"
    }
   ],
   "source": [
    "s1 = pd.Series({\n",
    "                'idx1': 650,\n",
    "                'idx2': 170,\n",
    "                'idx3': 10,\n",
    "                'idx4': 290,\n",
    "                'idx5': 90,\n",
    "                'idx6': 78\n",
    "               }, name ='product_demand')\n",
    "\n",
    "s1"
   ]
  },
  {
   "cell_type": "code",
   "execution_count": 19,
   "id": "c061300a-e4ff-4d23-a3b5-bc40397b2ba6",
   "metadata": {},
   "outputs": [
    {
     "data": {
      "text/plain": [
       "90"
      ]
     },
     "execution_count": 19,
     "metadata": {},
     "output_type": "execute_result"
    }
   ],
   "source": [
    "s1[4]"
   ]
  },
  {
   "cell_type": "code",
   "execution_count": 22,
   "id": "292f0ab2-7024-4a7c-b0d5-a169ebf10eb9",
   "metadata": {},
   "outputs": [
    {
     "data": {
      "text/plain": [
       "90"
      ]
     },
     "execution_count": 22,
     "metadata": {},
     "output_type": "execute_result"
    }
   ],
   "source": [
    "s1['idx5']"
   ]
  },
  {
   "cell_type": "code",
   "execution_count": 23,
   "id": "f652cd7a-f8c9-4df1-8ca5-7d9bb511ddc5",
   "metadata": {},
   "outputs": [
    {
     "data": {
      "text/plain": [
       "idx4    290\n",
       "idx5     90\n",
       "Name: product_demand, dtype: int64"
      ]
     },
     "execution_count": 23,
     "metadata": {},
     "output_type": "execute_result"
    }
   ],
   "source": [
    "s1[[3,4]]"
   ]
  },
  {
   "cell_type": "code",
   "execution_count": 24,
   "id": "2c912dd3-d346-43ab-abf2-5fb8be78cca8",
   "metadata": {},
   "outputs": [
    {
     "data": {
      "text/plain": [
       "idx1    650\n",
       "idx6     78\n",
       "Name: product_demand, dtype: int64"
      ]
     },
     "execution_count": 24,
     "metadata": {},
     "output_type": "execute_result"
    }
   ],
   "source": [
    "s1[['idx1', 'idx6']]"
   ]
  },
  {
   "cell_type": "code",
   "execution_count": 25,
   "id": "d0a2472d-021d-4467-944e-3503c4b6bb76",
   "metadata": {},
   "outputs": [
    {
     "data": {
      "text/plain": [
       "idx1     True\n",
       "idx2     True\n",
       "idx3    False\n",
       "idx4     True\n",
       "idx5     True\n",
       "idx6     True\n",
       "Name: product_demand, dtype: bool"
      ]
     },
     "execution_count": 25,
     "metadata": {},
     "output_type": "execute_result"
    }
   ],
   "source": [
    "s1 > 30"
   ]
  },
  {
   "cell_type": "code",
   "execution_count": 27,
   "id": "0ea1e553-aaa5-447c-bf08-b155ec0dac27",
   "metadata": {},
   "outputs": [
    {
     "data": {
      "text/plain": [
       "idx1    650\n",
       "idx2    170\n",
       "idx4    290\n",
       "Name: product_demand, dtype: int64"
      ]
     },
     "execution_count": 27,
     "metadata": {},
     "output_type": "execute_result"
    }
   ],
   "source": [
    "s1[s1 > 100]"
   ]
  },
  {
   "cell_type": "code",
   "execution_count": 29,
   "id": "3026da7e-fdf5-4ba7-a344-9eb0599aa5ba",
   "metadata": {},
   "outputs": [],
   "source": [
    "s1[s1 > 100] = 4000"
   ]
  },
  {
   "cell_type": "code",
   "execution_count": 30,
   "id": "6d946ffc-d06e-48d6-b424-bea85beff1ba",
   "metadata": {},
   "outputs": [
    {
     "data": {
      "text/plain": [
       "idx1    4000\n",
       "idx2    4000\n",
       "idx3      10\n",
       "idx4    4000\n",
       "idx5      90\n",
       "idx6      78\n",
       "Name: product_demand, dtype: int64"
      ]
     },
     "execution_count": 30,
     "metadata": {},
     "output_type": "execute_result"
    }
   ],
   "source": [
    "s1"
   ]
  },
  {
   "cell_type": "code",
   "execution_count": 31,
   "id": "227ed41b-6ae5-4085-a5d6-ec44c31e5c01",
   "metadata": {},
   "outputs": [
    {
     "data": {
      "text/plain": [
       "2029.6666666666667"
      ]
     },
     "execution_count": 31,
     "metadata": {},
     "output_type": "execute_result"
    }
   ],
   "source": [
    "s1.mean()"
   ]
  },
  {
   "cell_type": "code",
   "execution_count": 32,
   "id": "f44657fe-ff77-4d5d-8963-86b53d2b957d",
   "metadata": {},
   "outputs": [
    {
     "data": {
      "text/plain": [
       "2158.5644921258818"
      ]
     },
     "execution_count": 32,
     "metadata": {},
     "output_type": "execute_result"
    }
   ],
   "source": [
    "s1.std()"
   ]
  },
  {
   "cell_type": "code",
   "execution_count": 36,
   "id": "72651d9b-db32-4ddf-955c-ac912f5ea308",
   "metadata": {},
   "outputs": [
    {
     "data": {
      "text/plain": [
       "idx5    90\n",
       "idx6    78\n",
       "Name: product_demand, dtype: int64"
      ]
     },
     "execution_count": 36,
     "metadata": {},
     "output_type": "execute_result"
    }
   ],
   "source": [
    "s1[(s1 > 10) & (s1 < 150)]"
   ]
  },
  {
   "cell_type": "code",
   "execution_count": 46,
   "id": "a6a418cb-3e84-47ab-97c2-067beed5b499",
   "metadata": {},
   "outputs": [
    {
     "data": {
      "text/plain": [
       "array(['o', 'l', 'p', 'f', 'v', 'v'], dtype='<U1')"
      ]
     },
     "execution_count": 46,
     "metadata": {},
     "output_type": "execute_result"
    }
   ],
   "source": [
    "import random\n",
    "import string\n",
    "random.seed(10)\n",
    "letters = string.ascii_lowercase\n",
    "rand_letters = random.choices(letters,k=6)\n",
    "np.array(rand_letters)"
   ]
  },
  {
   "cell_type": "code",
   "execution_count": 47,
   "id": "97d9f180-60ae-4de4-b9f9-55392d7b3c88",
   "metadata": {},
   "outputs": [
    {
     "data": {
      "text/html": [
       "<div>\n",
       "<style scoped>\n",
       "    .dataframe tbody tr th:only-of-type {\n",
       "        vertical-align: middle;\n",
       "    }\n",
       "\n",
       "    .dataframe tbody tr th {\n",
       "        vertical-align: top;\n",
       "    }\n",
       "\n",
       "    .dataframe thead th {\n",
       "        text-align: right;\n",
       "    }\n",
       "</style>\n",
       "<table border=\"1\" class=\"dataframe\">\n",
       "  <thead>\n",
       "    <tr style=\"text-align: right;\">\n",
       "      <th></th>\n",
       "      <th>colume_1</th>\n",
       "      <th>colume_2</th>\n",
       "      <th>colume_3</th>\n",
       "      <th>colume_4</th>\n",
       "    </tr>\n",
       "  </thead>\n",
       "  <tbody>\n",
       "    <tr>\n",
       "      <th>0</th>\n",
       "      <td>0</td>\n",
       "      <td>-1.0</td>\n",
       "      <td>o</td>\n",
       "      <td>6</td>\n",
       "    </tr>\n",
       "    <tr>\n",
       "      <th>1</th>\n",
       "      <td>1</td>\n",
       "      <td>-0.6</td>\n",
       "      <td>l</td>\n",
       "      <td>4</td>\n",
       "    </tr>\n",
       "    <tr>\n",
       "      <th>2</th>\n",
       "      <td>2</td>\n",
       "      <td>-0.2</td>\n",
       "      <td>p</td>\n",
       "      <td>9</td>\n",
       "    </tr>\n",
       "    <tr>\n",
       "      <th>3</th>\n",
       "      <td>3</td>\n",
       "      <td>0.2</td>\n",
       "      <td>f</td>\n",
       "      <td>3</td>\n",
       "    </tr>\n",
       "    <tr>\n",
       "      <th>4</th>\n",
       "      <td>4</td>\n",
       "      <td>0.6</td>\n",
       "      <td>v</td>\n",
       "      <td>2</td>\n",
       "    </tr>\n",
       "    <tr>\n",
       "      <th>5</th>\n",
       "      <td>5</td>\n",
       "      <td>1.0</td>\n",
       "      <td>v</td>\n",
       "      <td>8</td>\n",
       "    </tr>\n",
       "  </tbody>\n",
       "</table>\n",
       "</div>"
      ],
      "text/plain": [
       "   colume_1  colume_2 colume_3  colume_4\n",
       "0         0      -1.0        o         6\n",
       "1         1      -0.6        l         4\n",
       "2         2      -0.2        p         9\n",
       "3         3       0.2        f         3\n",
       "4         4       0.6        v         2\n",
       "5         5       1.0        v         8"
      ]
     },
     "execution_count": 47,
     "metadata": {},
     "output_type": "execute_result"
    }
   ],
   "source": [
    "df = pd.DataFrame({'colume_1': np.arange(6),\n",
    "                    'colume_2' : np.linspace(-1, 1, 6),\n",
    "                    'colume_3' : np.array(rand_letters),\n",
    "                    'colume_4': [6,4,9,3,2,8]})\n",
    "df"
   ]
  },
  {
   "cell_type": "code",
   "execution_count": 48,
   "id": "9dbeab74-2473-4c7e-b90d-3daa7880fbaf",
   "metadata": {},
   "outputs": [
    {
     "data": {
      "text/html": [
       "<div>\n",
       "<style scoped>\n",
       "    .dataframe tbody tr th:only-of-type {\n",
       "        vertical-align: middle;\n",
       "    }\n",
       "\n",
       "    .dataframe tbody tr th {\n",
       "        vertical-align: top;\n",
       "    }\n",
       "\n",
       "    .dataframe thead th {\n",
       "        text-align: right;\n",
       "    }\n",
       "</style>\n",
       "<table border=\"1\" class=\"dataframe\">\n",
       "  <thead>\n",
       "    <tr style=\"text-align: right;\">\n",
       "      <th></th>\n",
       "      <th>colume_1</th>\n",
       "      <th>colume_2</th>\n",
       "      <th>colume_3</th>\n",
       "      <th>colume_4</th>\n",
       "    </tr>\n",
       "  </thead>\n",
       "  <tbody>\n",
       "    <tr>\n",
       "      <th>r1</th>\n",
       "      <td>0</td>\n",
       "      <td>-1.0</td>\n",
       "      <td>o</td>\n",
       "      <td>6</td>\n",
       "    </tr>\n",
       "    <tr>\n",
       "      <th>r2</th>\n",
       "      <td>1</td>\n",
       "      <td>-0.6</td>\n",
       "      <td>l</td>\n",
       "      <td>4</td>\n",
       "    </tr>\n",
       "    <tr>\n",
       "      <th>r3</th>\n",
       "      <td>2</td>\n",
       "      <td>-0.2</td>\n",
       "      <td>p</td>\n",
       "      <td>9</td>\n",
       "    </tr>\n",
       "    <tr>\n",
       "      <th>r4</th>\n",
       "      <td>3</td>\n",
       "      <td>0.2</td>\n",
       "      <td>f</td>\n",
       "      <td>3</td>\n",
       "    </tr>\n",
       "    <tr>\n",
       "      <th>r5</th>\n",
       "      <td>4</td>\n",
       "      <td>0.6</td>\n",
       "      <td>v</td>\n",
       "      <td>2</td>\n",
       "    </tr>\n",
       "    <tr>\n",
       "      <th>r6</th>\n",
       "      <td>5</td>\n",
       "      <td>1.0</td>\n",
       "      <td>v</td>\n",
       "      <td>8</td>\n",
       "    </tr>\n",
       "  </tbody>\n",
       "</table>\n",
       "</div>"
      ],
      "text/plain": [
       "    colume_1  colume_2 colume_3  colume_4\n",
       "r1         0      -1.0        o         6\n",
       "r2         1      -0.6        l         4\n",
       "r3         2      -0.2        p         9\n",
       "r4         3       0.2        f         3\n",
       "r5         4       0.6        v         2\n",
       "r6         5       1.0        v         8"
      ]
     },
     "execution_count": 48,
     "metadata": {},
     "output_type": "execute_result"
    }
   ],
   "source": [
    "df.index = ['r1', 'r2', 'r3', 'r4', 'r5', 'r6']\n",
    "df"
   ]
  },
  {
   "cell_type": "code",
   "execution_count": 49,
   "id": "6b77c8ca-80a1-4448-b9af-ae266a090b1e",
   "metadata": {},
   "outputs": [
    {
     "name": "stdout",
     "output_type": "stream",
     "text": [
      "<class 'pandas.core.frame.DataFrame'>\n",
      "Index: 6 entries, r1 to r6\n",
      "Data columns (total 4 columns):\n",
      " #   Column    Non-Null Count  Dtype  \n",
      "---  ------    --------------  -----  \n",
      " 0   colume_1  6 non-null      int64  \n",
      " 1   colume_2  6 non-null      float64\n",
      " 2   colume_3  6 non-null      object \n",
      " 3   colume_4  6 non-null      int64  \n",
      "dtypes: float64(1), int64(2), object(1)\n",
      "memory usage: 240.0+ bytes\n"
     ]
    }
   ],
   "source": [
    "df.info()"
   ]
  },
  {
   "cell_type": "code",
   "execution_count": 50,
   "id": "2ac2bd02-daee-4e69-b585-8647dc579694",
   "metadata": {},
   "outputs": [
    {
     "data": {
      "text/plain": [
       "(6, 4)"
      ]
     },
     "execution_count": 50,
     "metadata": {},
     "output_type": "execute_result"
    }
   ],
   "source": [
    "df.shape"
   ]
  },
  {
   "cell_type": "code",
   "execution_count": 52,
   "id": "4a2f2d70-ebb5-4e97-838c-94d31fd5b585",
   "metadata": {},
   "outputs": [
    {
     "data": {
      "text/plain": [
       "colume_1      int64\n",
       "colume_2    float64\n",
       "colume_3     object\n",
       "colume_4      int64\n",
       "dtype: object"
      ]
     },
     "execution_count": 52,
     "metadata": {},
     "output_type": "execute_result"
    }
   ],
   "source": [
    "df.dtypes"
   ]
  },
  {
   "cell_type": "code",
   "execution_count": 58,
   "id": "4135e92a-dff3-48e7-a9fb-5f31a4d93e37",
   "metadata": {},
   "outputs": [
    {
     "data": {
      "text/plain": [
       "-0.6"
      ]
     },
     "execution_count": 58,
     "metadata": {},
     "output_type": "execute_result"
    }
   ],
   "source": [
    "df.iloc[1,1]"
   ]
  },
  {
   "cell_type": "code",
   "execution_count": 59,
   "id": "e82aff8a-ec54-443c-819f-63ba4919729f",
   "metadata": {},
   "outputs": [
    {
     "data": {
      "text/plain": [
       "colume_1      1\n",
       "colume_2   -0.6\n",
       "colume_3      l\n",
       "colume_4      4\n",
       "Name: r2, dtype: object"
      ]
     },
     "execution_count": 59,
     "metadata": {},
     "output_type": "execute_result"
    }
   ],
   "source": [
    "df.iloc[1]"
   ]
  },
  {
   "cell_type": "code",
   "execution_count": 61,
   "id": "ec633487-1988-4b93-8494-871e15e34027",
   "metadata": {},
   "outputs": [
    {
     "data": {
      "text/plain": [
       "r1   -1.0\n",
       "r2   -0.6\n",
       "r3   -0.2\n",
       "r4    0.2\n",
       "r5    0.6\n",
       "r6    1.0\n",
       "Name: colume_2, dtype: float64"
      ]
     },
     "execution_count": 61,
     "metadata": {},
     "output_type": "execute_result"
    }
   ],
   "source": [
    "df.iloc[:,1]"
   ]
  },
  {
   "cell_type": "code",
   "execution_count": 63,
   "id": "e71b9098-c345-4053-ba2e-b6f74142a52b",
   "metadata": {},
   "outputs": [
    {
     "data": {
      "text/plain": [
       "array([-1. , -0.6, -0.2,  0.2,  0.6,  1. ])"
      ]
     },
     "execution_count": 63,
     "metadata": {},
     "output_type": "execute_result"
    }
   ],
   "source": [
    "np.array(df.iloc[:,1])"
   ]
  },
  {
   "cell_type": "code",
   "execution_count": 64,
   "id": "d1565fba-4b83-45d4-8ecb-65738af03d7b",
   "metadata": {},
   "outputs": [
    {
     "data": {
      "text/plain": [
       "array([-1. , -0.6, -0.2,  0.2,  0.6,  1. ])"
      ]
     },
     "execution_count": 64,
     "metadata": {},
     "output_type": "execute_result"
    }
   ],
   "source": [
    "df.iloc[:,1].values"
   ]
  },
  {
   "cell_type": "code",
   "execution_count": 68,
   "id": "707142af-b1b5-4ee7-809e-28158ba203dc",
   "metadata": {},
   "outputs": [
    {
     "data": {
      "text/html": [
       "<div>\n",
       "<style scoped>\n",
       "    .dataframe tbody tr th:only-of-type {\n",
       "        vertical-align: middle;\n",
       "    }\n",
       "\n",
       "    .dataframe tbody tr th {\n",
       "        vertical-align: top;\n",
       "    }\n",
       "\n",
       "    .dataframe thead th {\n",
       "        text-align: right;\n",
       "    }\n",
       "</style>\n",
       "<table border=\"1\" class=\"dataframe\">\n",
       "  <thead>\n",
       "    <tr style=\"text-align: right;\">\n",
       "      <th></th>\n",
       "      <th>colume_2</th>\n",
       "    </tr>\n",
       "  </thead>\n",
       "  <tbody>\n",
       "    <tr>\n",
       "      <th>r1</th>\n",
       "      <td>-1.0</td>\n",
       "    </tr>\n",
       "    <tr>\n",
       "      <th>r2</th>\n",
       "      <td>-0.6</td>\n",
       "    </tr>\n",
       "    <tr>\n",
       "      <th>r3</th>\n",
       "      <td>-0.2</td>\n",
       "    </tr>\n",
       "    <tr>\n",
       "      <th>r4</th>\n",
       "      <td>0.2</td>\n",
       "    </tr>\n",
       "    <tr>\n",
       "      <th>r5</th>\n",
       "      <td>0.6</td>\n",
       "    </tr>\n",
       "    <tr>\n",
       "      <th>r6</th>\n",
       "      <td>1.0</td>\n",
       "    </tr>\n",
       "  </tbody>\n",
       "</table>\n",
       "</div>"
      ],
      "text/plain": [
       "    colume_2\n",
       "r1      -1.0\n",
       "r2      -0.6\n",
       "r3      -0.2\n",
       "r4       0.2\n",
       "r5       0.6\n",
       "r6       1.0"
      ]
     },
     "execution_count": 68,
     "metadata": {},
     "output_type": "execute_result"
    }
   ],
   "source": [
    "df[['colume_2']]"
   ]
  },
  {
   "cell_type": "code",
   "execution_count": 69,
   "id": "bbf2175c-5f4b-47cd-a04f-bbb1167b7e58",
   "metadata": {},
   "outputs": [
    {
     "data": {
      "text/html": [
       "<div>\n",
       "<style scoped>\n",
       "    .dataframe tbody tr th:only-of-type {\n",
       "        vertical-align: middle;\n",
       "    }\n",
       "\n",
       "    .dataframe tbody tr th {\n",
       "        vertical-align: top;\n",
       "    }\n",
       "\n",
       "    .dataframe thead th {\n",
       "        text-align: right;\n",
       "    }\n",
       "</style>\n",
       "<table border=\"1\" class=\"dataframe\">\n",
       "  <thead>\n",
       "    <tr style=\"text-align: right;\">\n",
       "      <th></th>\n",
       "      <th>colume_2</th>\n",
       "      <th>colume_1</th>\n",
       "    </tr>\n",
       "  </thead>\n",
       "  <tbody>\n",
       "    <tr>\n",
       "      <th>r1</th>\n",
       "      <td>-1.0</td>\n",
       "      <td>0</td>\n",
       "    </tr>\n",
       "    <tr>\n",
       "      <th>r2</th>\n",
       "      <td>-0.6</td>\n",
       "      <td>1</td>\n",
       "    </tr>\n",
       "    <tr>\n",
       "      <th>r3</th>\n",
       "      <td>-0.2</td>\n",
       "      <td>2</td>\n",
       "    </tr>\n",
       "    <tr>\n",
       "      <th>r4</th>\n",
       "      <td>0.2</td>\n",
       "      <td>3</td>\n",
       "    </tr>\n",
       "    <tr>\n",
       "      <th>r5</th>\n",
       "      <td>0.6</td>\n",
       "      <td>4</td>\n",
       "    </tr>\n",
       "    <tr>\n",
       "      <th>r6</th>\n",
       "      <td>1.0</td>\n",
       "      <td>5</td>\n",
       "    </tr>\n",
       "  </tbody>\n",
       "</table>\n",
       "</div>"
      ],
      "text/plain": [
       "    colume_2  colume_1\n",
       "r1      -1.0         0\n",
       "r2      -0.6         1\n",
       "r3      -0.2         2\n",
       "r4       0.2         3\n",
       "r5       0.6         4\n",
       "r6       1.0         5"
      ]
     },
     "execution_count": 69,
     "metadata": {},
     "output_type": "execute_result"
    }
   ],
   "source": [
    "df[['colume_2', 'colume_1']]"
   ]
  },
  {
   "cell_type": "code",
   "execution_count": 70,
   "id": "0b2c879d-6813-4a42-ab76-e9ab8494deda",
   "metadata": {},
   "outputs": [
    {
     "data": {
      "text/html": [
       "<div>\n",
       "<style scoped>\n",
       "    .dataframe tbody tr th:only-of-type {\n",
       "        vertical-align: middle;\n",
       "    }\n",
       "\n",
       "    .dataframe tbody tr th {\n",
       "        vertical-align: top;\n",
       "    }\n",
       "\n",
       "    .dataframe thead th {\n",
       "        text-align: right;\n",
       "    }\n",
       "</style>\n",
       "<table border=\"1\" class=\"dataframe\">\n",
       "  <thead>\n",
       "    <tr style=\"text-align: right;\">\n",
       "      <th></th>\n",
       "      <th>colume_1</th>\n",
       "      <th>colume_2</th>\n",
       "      <th>colume_3</th>\n",
       "      <th>colume_4</th>\n",
       "    </tr>\n",
       "  </thead>\n",
       "  <tbody>\n",
       "    <tr>\n",
       "      <th>r1</th>\n",
       "      <td>0</td>\n",
       "      <td>-1.0</td>\n",
       "      <td>o</td>\n",
       "      <td>6</td>\n",
       "    </tr>\n",
       "    <tr>\n",
       "      <th>r2</th>\n",
       "      <td>1</td>\n",
       "      <td>-0.6</td>\n",
       "      <td>l</td>\n",
       "      <td>4</td>\n",
       "    </tr>\n",
       "    <tr>\n",
       "      <th>r3</th>\n",
       "      <td>2</td>\n",
       "      <td>-0.2</td>\n",
       "      <td>p</td>\n",
       "      <td>9</td>\n",
       "    </tr>\n",
       "    <tr>\n",
       "      <th>r4</th>\n",
       "      <td>3</td>\n",
       "      <td>0.2</td>\n",
       "      <td>f</td>\n",
       "      <td>3</td>\n",
       "    </tr>\n",
       "    <tr>\n",
       "      <th>r5</th>\n",
       "      <td>4</td>\n",
       "      <td>0.6</td>\n",
       "      <td>v</td>\n",
       "      <td>2</td>\n",
       "    </tr>\n",
       "    <tr>\n",
       "      <th>r6</th>\n",
       "      <td>5</td>\n",
       "      <td>1.0</td>\n",
       "      <td>v</td>\n",
       "      <td>8</td>\n",
       "    </tr>\n",
       "  </tbody>\n",
       "</table>\n",
       "</div>"
      ],
      "text/plain": [
       "    colume_1  colume_2 colume_3  colume_4\n",
       "r1         0      -1.0        o         6\n",
       "r2         1      -0.6        l         4\n",
       "r3         2      -0.2        p         9\n",
       "r4         3       0.2        f         3\n",
       "r5         4       0.6        v         2\n",
       "r6         5       1.0        v         8"
      ]
     },
     "execution_count": 70,
     "metadata": {},
     "output_type": "execute_result"
    }
   ],
   "source": [
    "df"
   ]
  },
  {
   "cell_type": "code",
   "execution_count": 78,
   "id": "8684f371-7f5e-4396-8126-1a0cdc41bb36",
   "metadata": {},
   "outputs": [
    {
     "data": {
      "text/html": [
       "<div>\n",
       "<style scoped>\n",
       "    .dataframe tbody tr th:only-of-type {\n",
       "        vertical-align: middle;\n",
       "    }\n",
       "\n",
       "    .dataframe tbody tr th {\n",
       "        vertical-align: top;\n",
       "    }\n",
       "\n",
       "    .dataframe thead th {\n",
       "        text-align: right;\n",
       "    }\n",
       "</style>\n",
       "<table border=\"1\" class=\"dataframe\">\n",
       "  <thead>\n",
       "    <tr style=\"text-align: right;\">\n",
       "      <th></th>\n",
       "      <th>colume_1</th>\n",
       "      <th>colume_2</th>\n",
       "      <th>colume_3</th>\n",
       "      <th>colume_4</th>\n",
       "      <th>colume_6</th>\n",
       "    </tr>\n",
       "  </thead>\n",
       "  <tbody>\n",
       "    <tr>\n",
       "      <th>r1</th>\n",
       "      <td>0</td>\n",
       "      <td>-1.0</td>\n",
       "      <td>o</td>\n",
       "      <td>6</td>\n",
       "      <td>0</td>\n",
       "    </tr>\n",
       "    <tr>\n",
       "      <th>r2</th>\n",
       "      <td>1</td>\n",
       "      <td>-0.6</td>\n",
       "      <td>l</td>\n",
       "      <td>4</td>\n",
       "      <td>2</td>\n",
       "    </tr>\n",
       "    <tr>\n",
       "      <th>r3</th>\n",
       "      <td>2</td>\n",
       "      <td>-0.2</td>\n",
       "      <td>p</td>\n",
       "      <td>9</td>\n",
       "      <td>4</td>\n",
       "    </tr>\n",
       "    <tr>\n",
       "      <th>r4</th>\n",
       "      <td>3</td>\n",
       "      <td>0.2</td>\n",
       "      <td>f</td>\n",
       "      <td>3</td>\n",
       "      <td>6</td>\n",
       "    </tr>\n",
       "    <tr>\n",
       "      <th>r5</th>\n",
       "      <td>4</td>\n",
       "      <td>0.6</td>\n",
       "      <td>v</td>\n",
       "      <td>2</td>\n",
       "      <td>8</td>\n",
       "    </tr>\n",
       "    <tr>\n",
       "      <th>r6</th>\n",
       "      <td>5</td>\n",
       "      <td>1.0</td>\n",
       "      <td>v</td>\n",
       "      <td>8</td>\n",
       "      <td>10</td>\n",
       "    </tr>\n",
       "  </tbody>\n",
       "</table>\n",
       "</div>"
      ],
      "text/plain": [
       "    colume_1  colume_2 colume_3  colume_4  colume_6\n",
       "r1         0      -1.0        o         6         0\n",
       "r2         1      -0.6        l         4         2\n",
       "r3         2      -0.2        p         9         4\n",
       "r4         3       0.2        f         3         6\n",
       "r5         4       0.6        v         2         8\n",
       "r6         5       1.0        v         8        10"
      ]
     },
     "execution_count": 78,
     "metadata": {},
     "output_type": "execute_result"
    }
   ],
   "source": [
    "df[['colume_6']] = df[[\"colume_1\"]] *2\n",
    "df"
   ]
  },
  {
   "cell_type": "code",
   "execution_count": 80,
   "id": "4ea927a5-bc22-4283-a3b7-a3907a42bce6",
   "metadata": {},
   "outputs": [
    {
     "data": {
      "text/plain": [
       "colume_1      1\n",
       "colume_2   -0.6\n",
       "colume_3      l\n",
       "colume_4      4\n",
       "colume_6      2\n",
       "Name: r2, dtype: object"
      ]
     },
     "execution_count": 80,
     "metadata": {},
     "output_type": "execute_result"
    }
   ],
   "source": [
    "df.loc[\"r2\"]"
   ]
  },
  {
   "cell_type": "code",
   "execution_count": null,
   "id": "ec29d525-488c-486e-92d4-2a0c8dbbb286",
   "metadata": {},
   "outputs": [],
   "source": []
  },
  {
   "cell_type": "code",
   "execution_count": null,
   "id": "f0f4018f-83c5-4326-b147-0831dbffefc1",
   "metadata": {},
   "outputs": [],
   "source": []
  },
  {
   "cell_type": "code",
   "execution_count": null,
   "id": "ec6434c6-d93b-49d2-a3fd-f832d07ee83d",
   "metadata": {},
   "outputs": [],
   "source": []
  },
  {
   "cell_type": "code",
   "execution_count": null,
   "id": "dfe4fe54-2f63-4e62-bd8c-6df6de05d701",
   "metadata": {},
   "outputs": [],
   "source": []
  },
  {
   "cell_type": "code",
   "execution_count": null,
   "id": "3a592576-e376-4ee8-9f95-08001271bb7b",
   "metadata": {},
   "outputs": [],
   "source": []
  },
  {
   "cell_type": "markdown",
   "id": "683fccad-5b74-4114-b2a9-b396e5220e61",
   "metadata": {},
   "source": [
    "# matplotlib"
   ]
  }
 ],
 "metadata": {
  "kernelspec": {
   "display_name": "Python 3 (ipykernel)",
   "language": "python",
   "name": "python3"
  },
  "language_info": {
   "codemirror_mode": {
    "name": "ipython",
    "version": 3
   },
   "file_extension": ".py",
   "mimetype": "text/x-python",
   "name": "python",
   "nbconvert_exporter": "python",
   "pygments_lexer": "ipython3",
   "version": "3.10.6"
  }
 },
 "nbformat": 4,
 "nbformat_minor": 5
}
