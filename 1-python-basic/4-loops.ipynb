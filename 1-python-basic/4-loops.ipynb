{
  "cells": [
    {
      "cell_type": "markdown",
      "metadata": {
        "id": "view-in-github",
        "colab_type": "text"
      },
      "source": [
        "<a href=\"https://colab.research.google.com/github/ImanJowkar/python_for_AI/blob/main/4-loops.ipynb\" target=\"_parent\"><img src=\"https://colab.research.google.com/assets/colab-badge.svg\" alt=\"Open In Colab\"/></a>"
      ]
    },
    {
      "cell_type": "markdown",
      "source": [
        "# Loops"
      ],
      "metadata": {
        "id": "e5ndEeZFnQMS"
      }
    },
    {
      "cell_type": "code",
      "source": [
        "for i in [1,2,3,4]:\n",
        "    print(i)"
      ],
      "metadata": {
        "id": "ZlWZHGs0nSFg",
        "outputId": "5a273103-c6ad-4925-b2d4-5a402b5e2c0c",
        "colab": {
          "base_uri": "https://localhost:8080/"
        }
      },
      "execution_count": 1,
      "outputs": [
        {
          "output_type": "stream",
          "name": "stdout",
          "text": [
            "1\n",
            "2\n",
            "3\n",
            "4\n"
          ]
        }
      ]
    },
    {
      "cell_type": "code",
      "source": [
        "for i in [1,2,3,4]:\n",
        "    print(i, end = '\\t')"
      ],
      "metadata": {
        "id": "WQYKscjJn45V",
        "outputId": "041b8e6a-beb6-46d5-b26b-b12dacfb9422",
        "colab": {
          "base_uri": "https://localhost:8080/"
        }
      },
      "execution_count": 2,
      "outputs": [
        {
          "output_type": "stream",
          "name": "stdout",
          "text": [
            "1\t2\t3\t4\t"
          ]
        }
      ]
    },
    {
      "cell_type": "code",
      "source": [
        "for i in range(100):\n",
        "    print(i**2, end=' ')"
      ],
      "metadata": {
        "id": "nE4by3XKn-ZX",
        "outputId": "63274fdb-8500-4e12-c277-c1362a7b285e",
        "colab": {
          "base_uri": "https://localhost:8080/"
        }
      },
      "execution_count": 16,
      "outputs": [
        {
          "output_type": "stream",
          "name": "stdout",
          "text": [
            "0 1 4 9 16 25 36 49 64 81 100 121 144 169 196 225 256 289 324 361 400 441 484 529 576 625 676 729 784 841 900 961 1024 1089 1156 1225 1296 1369 1444 1521 1600 1681 1764 1849 1936 2025 2116 2209 2304 2401 2500 2601 2704 2809 2916 3025 3136 3249 3364 3481 3600 3721 3844 3969 4096 4225 4356 4489 4624 4761 4900 5041 5184 5329 5476 5625 5776 5929 6084 6241 6400 6561 6724 6889 7056 7225 7396 7569 7744 7921 8100 8281 8464 8649 8836 9025 9216 9409 9604 9801 "
          ]
        }
      ]
    },
    {
      "cell_type": "code",
      "source": [
        "range(5)"
      ],
      "metadata": {
        "id": "6yVAVsQqoCzi",
        "outputId": "6d25536f-8f31-4e0e-bd90-26c4691a73ee",
        "colab": {
          "base_uri": "https://localhost:8080/"
        }
      },
      "execution_count": 5,
      "outputs": [
        {
          "output_type": "execute_result",
          "data": {
            "text/plain": [
              "range(0, 5)"
            ]
          },
          "metadata": {},
          "execution_count": 5
        }
      ]
    },
    {
      "cell_type": "code",
      "source": [
        "list(range(5))"
      ],
      "metadata": {
        "id": "doibKvIgoCoj",
        "outputId": "14a6fb70-7199-4c56-b656-4fdfad962931",
        "colab": {
          "base_uri": "https://localhost:8080/"
        }
      },
      "execution_count": 6,
      "outputs": [
        {
          "output_type": "execute_result",
          "data": {
            "text/plain": [
              "[0, 1, 2, 3, 4]"
            ]
          },
          "metadata": {},
          "execution_count": 6
        }
      ]
    },
    {
      "cell_type": "code",
      "source": [
        "tuple(range(5))"
      ],
      "metadata": {
        "id": "d9x0QryIoClu",
        "outputId": "91d64135-e336-4254-f453-f8d114e87b89",
        "colab": {
          "base_uri": "https://localhost:8080/"
        }
      },
      "execution_count": 7,
      "outputs": [
        {
          "output_type": "execute_result",
          "data": {
            "text/plain": [
              "(0, 1, 2, 3, 4)"
            ]
          },
          "metadata": {},
          "execution_count": 7
        }
      ]
    },
    {
      "cell_type": "code",
      "source": [
        "list(range(1,10,3))"
      ],
      "metadata": {
        "id": "sQQZzqmdoCjG",
        "outputId": "cdb2e773-7fbb-4442-f933-8c8dc8f36b4f",
        "colab": {
          "base_uri": "https://localhost:8080/"
        }
      },
      "execution_count": 10,
      "outputs": [
        {
          "output_type": "execute_result",
          "data": {
            "text/plain": [
              "[1, 4, 7]"
            ]
          },
          "metadata": {},
          "execution_count": 10
        }
      ]
    },
    {
      "cell_type": "code",
      "source": [
        "for s in \"This is string\":\n",
        "    print(s, end=\" \")"
      ],
      "metadata": {
        "id": "y_HX8sj2oCfy",
        "outputId": "9662db9c-74c3-49b7-80a8-fe46731d9cfd",
        "colab": {
          "base_uri": "https://localhost:8080/"
        }
      },
      "execution_count": 15,
      "outputs": [
        {
          "output_type": "stream",
          "name": "stdout",
          "text": [
            "T h i s   i s   s t r i n g "
          ]
        }
      ]
    },
    {
      "cell_type": "code",
      "source": [
        "mat = [[1,2,3],\n",
        "       [4,5,6],\n",
        "       [7,8,9]]\n",
        "for i in mat:\n",
        "    for j in i:\n",
        "        print(i, j)"
      ],
      "metadata": {
        "id": "dxph2MZWpAGK",
        "outputId": "e585a5bb-333e-4e70-a653-b9a793b81b08",
        "colab": {
          "base_uri": "https://localhost:8080/"
        }
      },
      "execution_count": 12,
      "outputs": [
        {
          "output_type": "stream",
          "name": "stdout",
          "text": [
            "[1, 2, 3] 1\n",
            "[1, 2, 3] 2\n",
            "[1, 2, 3] 3\n",
            "[4, 5, 6] 4\n",
            "[4, 5, 6] 5\n",
            "[4, 5, 6] 6\n",
            "[7, 8, 9] 7\n",
            "[7, 8, 9] 8\n",
            "[7, 8, 9] 9\n"
          ]
        }
      ]
    },
    {
      "cell_type": "code",
      "source": [
        "for i in range(3):\n",
        "    for j in range(3):\n",
        "        mat[i][j] += 1\n",
        "print(mat)"
      ],
      "metadata": {
        "id": "5PK-9Pu7oCa2",
        "outputId": "f6defbc2-e6a1-41e0-cdb4-4c5f01d510aa",
        "colab": {
          "base_uri": "https://localhost:8080/"
        }
      },
      "execution_count": 14,
      "outputs": [
        {
          "output_type": "stream",
          "name": "stdout",
          "text": [
            "[[2, 3, 4], [5, 6, 7], [8, 9, 10]]\n"
          ]
        }
      ]
    },
    {
      "cell_type": "markdown",
      "source": [
        "## one line for"
      ],
      "metadata": {
        "id": "D7l9Lmqgqyfd"
      }
    },
    {
      "cell_type": "code",
      "source": [
        "[(i**2) / 2 for i in range(5)]"
      ],
      "metadata": {
        "id": "_2KxcNWUpa4n",
        "outputId": "9c5f39f1-f270-4d74-9e3a-d8c606994ee6",
        "colab": {
          "base_uri": "https://localhost:8080/"
        }
      },
      "execution_count": 20,
      "outputs": [
        {
          "output_type": "execute_result",
          "data": {
            "text/plain": [
              "[0.0, 0.5, 2.0, 4.5, 8.0]"
            ]
          },
          "metadata": {},
          "execution_count": 20
        }
      ]
    },
    {
      "cell_type": "code",
      "source": [
        "numbers = list(range(10))\n",
        "numbers2 = [(i**2)/2 for i in numbers]\n",
        "print(numbers)\n",
        "print(numbers2)"
      ],
      "metadata": {
        "id": "aZNu0rvPp0KX",
        "outputId": "482a5ff9-6687-4907-a33b-dc4d5dac151d",
        "colab": {
          "base_uri": "https://localhost:8080/"
        }
      },
      "execution_count": 21,
      "outputs": [
        {
          "output_type": "stream",
          "name": "stdout",
          "text": [
            "[0, 1, 2, 3, 4, 5, 6, 7, 8, 9]\n",
            "[0.0, 0.5, 2.0, 4.5, 8.0, 12.5, 18.0, 24.5, 32.0, 40.5]\n"
          ]
        }
      ]
    },
    {
      "cell_type": "code",
      "source": [
        "[i for i in range(10) if i % 2 == 0]"
      ],
      "metadata": {
        "id": "wAoLpZJVp0Ho",
        "outputId": "8a9cbdc1-1aa4-4290-9bd7-11c1bcc0a5a0",
        "colab": {
          "base_uri": "https://localhost:8080/"
        }
      },
      "execution_count": 22,
      "outputs": [
        {
          "output_type": "execute_result",
          "data": {
            "text/plain": [
              "[0, 2, 4, 6, 8]"
            ]
          },
          "metadata": {},
          "execution_count": 22
        }
      ]
    },
    {
      "cell_type": "code",
      "source": [
        "i = 0\n",
        "while True:\n",
        "    print(\"hi\")\n",
        "    if i >= 10:\n",
        "        break\n",
        "    i += 1\n"
      ],
      "metadata": {
        "id": "ylR6QGANp0FX",
        "outputId": "0282089d-1f0f-479d-e966-ad21aa71d31d",
        "colab": {
          "base_uri": "https://localhost:8080/"
        }
      },
      "execution_count": 24,
      "outputs": [
        {
          "output_type": "stream",
          "name": "stdout",
          "text": [
            "hi\n",
            "hi\n",
            "hi\n",
            "hi\n",
            "hi\n",
            "hi\n",
            "hi\n",
            "hi\n",
            "hi\n",
            "hi\n",
            "hi\n"
          ]
        }
      ]
    },
    {
      "cell_type": "markdown",
      "source": [
        "# Hop game"
      ],
      "metadata": {
        "id": "wd_eI9JKt3Qj"
      }
    },
    {
      "cell_type": "code",
      "source": [
        "for i in range(1,30):\n",
        "    if i % 5 == 0:\n",
        "        print(\"Hop\", end=' ')\n",
        "    else:\n",
        "        print(i, end=' ')\n"
      ],
      "metadata": {
        "id": "cDRdJjmRp0Cc",
        "outputId": "5dae1330-b265-4c97-d826-ade6aa725c66",
        "colab": {
          "base_uri": "https://localhost:8080/"
        }
      },
      "execution_count": 28,
      "outputs": [
        {
          "output_type": "stream",
          "name": "stdout",
          "text": [
            "1 2 3 4 Hop 6 7 8 9 Hop 11 12 13 14 Hop 16 17 18 19 Hop 21 22 23 24 Hop 26 27 28 29 "
          ]
        }
      ]
    },
    {
      "cell_type": "markdown",
      "source": [
        "# fibo"
      ],
      "metadata": {
        "id": "2-BOZSv_t6YT"
      }
    },
    {
      "cell_type": "code",
      "source": [
        "num0 = 0\n",
        "num1 = 1\n",
        "fibo = []\n",
        "fibo.extend([num0, num1])\n",
        "for i in range(1, 30):\n",
        "    fibo.append(fibo[i] + fibo[i-1])\n",
        "print(fibo)"
      ],
      "metadata": {
        "id": "lg9Ogxm0pz_g",
        "outputId": "1e606b68-18c6-4124-ccfa-9e9bd3d27d37",
        "colab": {
          "base_uri": "https://localhost:8080/"
        }
      },
      "execution_count": 32,
      "outputs": [
        {
          "output_type": "stream",
          "name": "stdout",
          "text": [
            "[0, 1, 1, 2, 3, 5, 8, 13, 21, 34, 55, 89, 144, 233, 377, 610, 987, 1597, 2584, 4181, 6765, 10946, 17711, 28657, 46368, 75025, 121393, 196418, 317811, 514229, 832040]\n"
          ]
        }
      ]
    },
    {
      "cell_type": "code",
      "source": [],
      "metadata": {
        "id": "rRquytuApz8f"
      },
      "execution_count": null,
      "outputs": []
    },
    {
      "cell_type": "code",
      "source": [],
      "metadata": {
        "id": "1D6Io9gtr1p5"
      },
      "execution_count": null,
      "outputs": []
    },
    {
      "cell_type": "code",
      "source": [],
      "metadata": {
        "id": "Q77I7IW0r1nH"
      },
      "execution_count": null,
      "outputs": []
    },
    {
      "cell_type": "code",
      "source": [],
      "metadata": {
        "id": "au0zB0bLr1ks"
      },
      "execution_count": null,
      "outputs": []
    },
    {
      "cell_type": "code",
      "source": [],
      "metadata": {
        "id": "WND0FQnOr1iQ"
      },
      "execution_count": null,
      "outputs": []
    }
  ],
  "metadata": {
    "colab": {
      "name": "Welcome To Colaboratory",
      "provenance": [],
      "include_colab_link": true
    },
    "kernelspec": {
      "display_name": "Python 3",
      "name": "python3"
    }
  },
  "nbformat": 4,
  "nbformat_minor": 0
}