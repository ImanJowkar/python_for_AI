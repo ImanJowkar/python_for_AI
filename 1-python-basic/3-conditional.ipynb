{
  "cells": [
    {
      "cell_type": "markdown",
      "metadata": {
        "id": "view-in-github",
        "colab_type": "text"
      },
      "source": [
        "<a href=\"https://colab.research.google.com/github/ImanJowkar/python_for_AI/blob/main/3-conditional.ipynb\" target=\"_parent\"><img src=\"https://colab.research.google.com/assets/colab-badge.svg\" alt=\"Open In Colab\"/></a>"
      ]
    },
    {
      "cell_type": "markdown",
      "source": [
        "# conditional operation"
      ],
      "metadata": {
        "id": "t8OLsx4Ann1E"
      }
    },
    {
      "cell_type": "code",
      "source": [
        "val = True\n",
        "if val:\n",
        "    print(\"Hello \")\n",
        "else:\n",
        "    print('Goodbye')"
      ],
      "metadata": {
        "id": "IQxG-jfCnjnh",
        "outputId": "e4161c39-e488-4bd9-f231-a0ccac114d01",
        "colab": {
          "base_uri": "https://localhost:8080/"
        }
      },
      "execution_count": 1,
      "outputs": [
        {
          "output_type": "stream",
          "name": "stdout",
          "text": [
            "Hello \n"
          ]
        }
      ]
    },
    {
      "cell_type": "code",
      "source": [
        "x = float(input(\"Enter a number: \"))\n",
        "if x > 0:\n",
        "    print(\"Positive\")\n",
        "elif x == 0:\n",
        "    print(\"Zero\")\n",
        "else:\n",
        "    print(\"Negative\")"
      ],
      "metadata": {
        "id": "Kg9i5P1wnjsy",
        "outputId": "c71a7665-2eeb-4176-d079-c509b942b354",
        "colab": {
          "base_uri": "https://localhost:8080/"
        }
      },
      "execution_count": 2,
      "outputs": [
        {
          "output_type": "stream",
          "name": "stdout",
          "text": [
            "Enter a number: 0\n",
            "Zero\n"
          ]
        }
      ]
    },
    {
      "cell_type": "code",
      "source": [
        "sent = \"This is a simple sentence\"\n",
        "print(len(sent))"
      ],
      "metadata": {
        "id": "hk_HPH5Enjv5",
        "outputId": "93a4459b-380f-4547-df9a-76b581c66117",
        "colab": {
          "base_uri": "https://localhost:8080/"
        }
      },
      "execution_count": 3,
      "outputs": [
        {
          "output_type": "stream",
          "name": "stdout",
          "text": [
            "25\n"
          ]
        }
      ]
    },
    {
      "cell_type": "code",
      "source": [
        "x = 6\n",
        "if (x > 0) and (x % 2 == 0):\n",
        "    print(f\"{x} is positive and Even number.\")"
      ],
      "metadata": {
        "id": "KbWzhYjinjzJ",
        "outputId": "024ec84d-280b-4f97-fa05-67e40849f0d7",
        "colab": {
          "base_uri": "https://localhost:8080/"
        }
      },
      "execution_count": 4,
      "outputs": [
        {
          "output_type": "stream",
          "name": "stdout",
          "text": [
            "6 is positive and Even number.\n"
          ]
        }
      ]
    },
    {
      "cell_type": "code",
      "source": [
        "print(\"HI\") if x > 3 else print(\"NO\")"
      ],
      "metadata": {
        "id": "AW74YwPOnj4b",
        "outputId": "e736d83c-56ab-43fa-c17c-028adcf87a3e",
        "colab": {
          "base_uri": "https://localhost:8080/"
        }
      },
      "execution_count": 5,
      "outputs": [
        {
          "output_type": "stream",
          "name": "stdout",
          "text": [
            "HI\n"
          ]
        }
      ]
    },
    {
      "cell_type": "code",
      "source": [
        "t = 4\n",
        "y = 0 if (x <= t) else (x - t)\n",
        "print(y)"
      ],
      "metadata": {
        "id": "03m6XCW_nj7E",
        "outputId": "9fa02113-ea8c-416e-c184-0e332fa33970",
        "colab": {
          "base_uri": "https://localhost:8080/"
        }
      },
      "execution_count": 7,
      "outputs": [
        {
          "output_type": "stream",
          "name": "stdout",
          "text": [
            "2\n"
          ]
        }
      ]
    },
    {
      "cell_type": "code",
      "source": [
        "a,b,c = 1, -5, 1\n",
        "delta = b**2 - 4*a*c\n",
        "if delta > 0:\n",
        "    x1 = (-b + delta**0.5) / (2*a)\n",
        "    x2 = (-b - delta**0.5) / (2*a)\n",
        "    print(f\"The value of x1: {x1} and x2: {x2}\")\n",
        "elif delta == 0:\n",
        "    x = (-b) / (2*a)\n",
        "    print(f\"The value of x: {x}\")\n",
        "else:\n",
        "    print(\"There is no Real root\")"
      ],
      "metadata": {
        "id": "HjkdOfu0wH5w",
        "outputId": "20d449fa-7e9f-4b33-824a-944227dae71f",
        "colab": {
          "base_uri": "https://localhost:8080/"
        }
      },
      "execution_count": 14,
      "outputs": [
        {
          "output_type": "stream",
          "name": "stdout",
          "text": [
            "The value of x1: 4.7912878474779195 and x2: 0.20871215252208009\n"
          ]
        }
      ]
    },
    {
      "cell_type": "code",
      "source": [],
      "metadata": {
        "id": "qa807fzlzgyc"
      },
      "execution_count": null,
      "outputs": []
    }
  ],
  "metadata": {
    "colab": {
      "name": "Welcome To Colaboratory",
      "provenance": [],
      "include_colab_link": true
    },
    "kernelspec": {
      "display_name": "Python 3",
      "name": "python3"
    }
  },
  "nbformat": 4,
  "nbformat_minor": 0
}