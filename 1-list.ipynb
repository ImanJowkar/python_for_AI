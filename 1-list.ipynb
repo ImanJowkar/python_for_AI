{
  "cells": [
    {
      "cell_type": "markdown",
      "metadata": {
        "id": "view-in-github",
        "colab_type": "text"
      },
      "source": [
        "<a href=\"https://colab.research.google.com/github/ImanJowkar/python_for_AI/blob/main/1-list.ipynb\" target=\"_parent\"><img src=\"https://colab.research.google.com/assets/colab-badge.svg\" alt=\"Open In Colab\"/></a>"
      ]
    },
    {
      "cell_type": "markdown",
      "source": [
        "## Lists"
      ],
      "metadata": {
        "id": "hAt5H2nxNOVm"
      }
    },
    {
      "cell_type": "code",
      "source": [
        "li1 = [4, 5, 9, 3, 2, 12]\n",
        "print(li1)"
      ],
      "metadata": {
        "id": "PdSh2iGaNPWy",
        "outputId": "e875e43e-187b-4afd-b2e7-28a781450773",
        "colab": {
          "base_uri": "https://localhost:8080/"
        }
      },
      "execution_count": 5,
      "outputs": [
        {
          "output_type": "stream",
          "name": "stdout",
          "text": [
            "[4, 5, 9, 3, 2, 12]\n"
          ]
        }
      ]
    },
    {
      "cell_type": "code",
      "source": [
        "print(type(li1))"
      ],
      "metadata": {
        "id": "zRIu0EzUN7lo",
        "outputId": "dbb16db2-2f65-4991-81a8-b6d791ccef8d",
        "colab": {
          "base_uri": "https://localhost:8080/"
        }
      },
      "execution_count": 6,
      "outputs": [
        {
          "output_type": "stream",
          "name": "stdout",
          "text": [
            "<class 'list'>\n"
          ]
        }
      ]
    },
    {
      "cell_type": "code",
      "source": [
        "li1, type(li1)"
      ],
      "metadata": {
        "id": "fWDy9NCcN92L",
        "outputId": "a7fb6e4d-51f0-4f11-81f9-f16731d5cc3c",
        "colab": {
          "base_uri": "https://localhost:8080/"
        }
      },
      "execution_count": 7,
      "outputs": [
        {
          "output_type": "execute_result",
          "data": {
            "text/plain": [
              "([4, 5, 9, 3, 2, 12], list)"
            ]
          },
          "metadata": {},
          "execution_count": 7
        }
      ]
    },
    {
      "cell_type": "code",
      "source": [
        "li2 = [\"python\", \"AI\", \"ML\", \"DevOps\", \"MLOPS\"]\n",
        "li2"
      ],
      "metadata": {
        "id": "tLaMSHBbOCqi",
        "outputId": "0f611d79-5f80-4af8-a3be-3866a8d9fd10",
        "colab": {
          "base_uri": "https://localhost:8080/"
        }
      },
      "execution_count": 11,
      "outputs": [
        {
          "output_type": "execute_result",
          "data": {
            "text/plain": [
              "['python', 'AI', 'ML', 'DevOps', 'MLOPS']"
            ]
          },
          "metadata": {},
          "execution_count": 11
        }
      ]
    },
    {
      "cell_type": "code",
      "source": [
        "li3 = []\n",
        "li3 = list()\n",
        "li3"
      ],
      "metadata": {
        "id": "0MLYwPjWODkW",
        "outputId": "36d74a4c-50d9-4d5a-f98b-c95461da8c3d",
        "colab": {
          "base_uri": "https://localhost:8080/"
        }
      },
      "execution_count": 13,
      "outputs": [
        {
          "output_type": "execute_result",
          "data": {
            "text/plain": [
              "[]"
            ]
          },
          "metadata": {},
          "execution_count": 13
        }
      ]
    },
    {
      "cell_type": "code",
      "source": [
        "name = \"MLOPS\"\n",
        "list(name)"
      ],
      "metadata": {
        "id": "L0V-yNjJOxVu",
        "outputId": "52bf323f-195e-46fd-d81f-0afb1340176d",
        "colab": {
          "base_uri": "https://localhost:8080/"
        }
      },
      "execution_count": 14,
      "outputs": [
        {
          "output_type": "execute_result",
          "data": {
            "text/plain": [
              "['M', 'L', 'O', 'P', 'S']"
            ]
          },
          "metadata": {},
          "execution_count": 14
        }
      ]
    },
    {
      "cell_type": "code",
      "source": [],
      "metadata": {
        "id": "DnzCU37fOxjE"
      },
      "execution_count": null,
      "outputs": []
    }
  ],
  "metadata": {
    "colab": {
      "name": "Welcome To Colaboratory",
      "provenance": [],
      "include_colab_link": true
    },
    "kernelspec": {
      "display_name": "Python 3",
      "name": "python3"
    }
  },
  "nbformat": 4,
  "nbformat_minor": 0
}