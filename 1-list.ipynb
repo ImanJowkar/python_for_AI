{
  "cells": [
    {
      "cell_type": "markdown",
      "metadata": {
        "id": "view-in-github",
        "colab_type": "text"
      },
      "source": [
        "<a href=\"https://colab.research.google.com/github/ImanJowkar/python_for_AI/blob/main/1-list.ipynb\" target=\"_parent\"><img src=\"https://colab.research.google.com/assets/colab-badge.svg\" alt=\"Open In Colab\"/></a>"
      ]
    },
    {
      "cell_type": "markdown",
      "source": [
        "## Lists"
      ],
      "metadata": {
        "id": "hAt5H2nxNOVm"
      }
    },
    {
      "cell_type": "code",
      "source": [
        "li1 = [4, 5, 9, 3, 2, 12]\n",
        "print(li1)"
      ],
      "metadata": {
        "id": "PdSh2iGaNPWy",
        "outputId": "754b2ab9-3cbb-45b7-8395-68052aba9c90",
        "colab": {
          "base_uri": "https://localhost:8080/"
        }
      },
      "execution_count": 26,
      "outputs": [
        {
          "output_type": "stream",
          "name": "stdout",
          "text": [
            "[4, 5, 9, 3, 2, 12]\n"
          ]
        }
      ]
    },
    {
      "cell_type": "code",
      "source": [
        "print(type(li1))"
      ],
      "metadata": {
        "id": "zRIu0EzUN7lo",
        "outputId": "e08929a5-e938-4519-d971-8c29795df3d3",
        "colab": {
          "base_uri": "https://localhost:8080/"
        }
      },
      "execution_count": 27,
      "outputs": [
        {
          "output_type": "stream",
          "name": "stdout",
          "text": [
            "<class 'list'>\n"
          ]
        }
      ]
    },
    {
      "cell_type": "code",
      "source": [
        "li1, type(li1)"
      ],
      "metadata": {
        "id": "fWDy9NCcN92L",
        "outputId": "f5bff88d-9ca5-40a2-bc36-b6cbbca77ba1",
        "colab": {
          "base_uri": "https://localhost:8080/"
        }
      },
      "execution_count": 28,
      "outputs": [
        {
          "output_type": "execute_result",
          "data": {
            "text/plain": [
              "([4, 5, 9, 3, 2, 12], list)"
            ]
          },
          "metadata": {},
          "execution_count": 28
        }
      ]
    },
    {
      "cell_type": "code",
      "source": [
        "li2 = [\"python\", \"AI\", \"ML\", \"DevOps\", \"MLOPS\"]\n",
        "li2"
      ],
      "metadata": {
        "id": "tLaMSHBbOCqi",
        "outputId": "261b0c79-5d23-42a1-a8fd-9a7dca88dc0f",
        "colab": {
          "base_uri": "https://localhost:8080/"
        }
      },
      "execution_count": 29,
      "outputs": [
        {
          "output_type": "execute_result",
          "data": {
            "text/plain": [
              "['python', 'AI', 'ML', 'DevOps', 'MLOPS']"
            ]
          },
          "metadata": {},
          "execution_count": 29
        }
      ]
    },
    {
      "cell_type": "code",
      "source": [
        "li3 = []\n",
        "li3 = list()\n",
        "li3"
      ],
      "metadata": {
        "id": "0MLYwPjWODkW",
        "outputId": "c3da660a-a820-4ef9-e3a4-7a2bc75c2438",
        "colab": {
          "base_uri": "https://localhost:8080/"
        }
      },
      "execution_count": 30,
      "outputs": [
        {
          "output_type": "execute_result",
          "data": {
            "text/plain": [
              "[]"
            ]
          },
          "metadata": {},
          "execution_count": 30
        }
      ]
    },
    {
      "cell_type": "code",
      "source": [
        "name = \"MLOPS\"\n",
        "list(name)"
      ],
      "metadata": {
        "id": "L0V-yNjJOxVu",
        "outputId": "723b1d53-5f1e-4ffc-99a9-0ea09fc666b2",
        "colab": {
          "base_uri": "https://localhost:8080/"
        }
      },
      "execution_count": 31,
      "outputs": [
        {
          "output_type": "execute_result",
          "data": {
            "text/plain": [
              "['M', 'L', 'O', 'P', 'S']"
            ]
          },
          "metadata": {},
          "execution_count": 31
        }
      ]
    },
    {
      "cell_type": "markdown",
      "source": [
        "# indexing"
      ],
      "metadata": {
        "id": "MN2A3kRG5CDC"
      }
    },
    {
      "cell_type": "code",
      "source": [
        "print(li2[0])\n",
        "print(li2[-1])\n"
      ],
      "metadata": {
        "id": "DnzCU37fOxjE",
        "colab": {
          "base_uri": "https://localhost:8080/"
        },
        "outputId": "a53cbe76-1533-47c2-d573-2a34b1c799ab"
      },
      "execution_count": 32,
      "outputs": [
        {
          "output_type": "stream",
          "name": "stdout",
          "text": [
            "python\n",
            "MLOPS\n"
          ]
        }
      ]
    },
    {
      "cell_type": "code",
      "source": [
        "li4 = [5,4,3,5,6,293,5094,54]\n",
        "li4[:3]"
      ],
      "metadata": {
        "colab": {
          "base_uri": "https://localhost:8080/"
        },
        "id": "5iDOn3yZ5Ius",
        "outputId": "3602d434-91d0-4804-99bb-b8e233a4b27a"
      },
      "execution_count": 33,
      "outputs": [
        {
          "output_type": "execute_result",
          "data": {
            "text/plain": [
              "[5, 4, 3]"
            ]
          },
          "metadata": {},
          "execution_count": 33
        }
      ]
    },
    {
      "cell_type": "code",
      "source": [
        "li4[3:7]"
      ],
      "metadata": {
        "colab": {
          "base_uri": "https://localhost:8080/"
        },
        "id": "SndoaAVf5uDJ",
        "outputId": "9319388c-6901-4e42-dd9d-b53cba737c4f"
      },
      "execution_count": 34,
      "outputs": [
        {
          "output_type": "execute_result",
          "data": {
            "text/plain": [
              "[5, 6, 293, 5094]"
            ]
          },
          "metadata": {},
          "execution_count": 34
        }
      ]
    },
    {
      "cell_type": "code",
      "source": [
        "li4[4:-2]"
      ],
      "metadata": {
        "colab": {
          "base_uri": "https://localhost:8080/"
        },
        "id": "i7KbQPQm5yB7",
        "outputId": "62932272-977e-499b-e5fd-c35f4eac5841"
      },
      "execution_count": 35,
      "outputs": [
        {
          "output_type": "execute_result",
          "data": {
            "text/plain": [
              "[6, 293]"
            ]
          },
          "metadata": {},
          "execution_count": 35
        }
      ]
    },
    {
      "cell_type": "code",
      "source": [
        "li4[4:]"
      ],
      "metadata": {
        "colab": {
          "base_uri": "https://localhost:8080/"
        },
        "id": "UfptnwZD53lg",
        "outputId": "907e3d42-8800-4709-aa6b-92e4b1bf3b16"
      },
      "execution_count": 36,
      "outputs": [
        {
          "output_type": "execute_result",
          "data": {
            "text/plain": [
              "[6, 293, 5094, 54]"
            ]
          },
          "metadata": {},
          "execution_count": 36
        }
      ]
    },
    {
      "cell_type": "code",
      "source": [
        "li4[:4]"
      ],
      "metadata": {
        "colab": {
          "base_uri": "https://localhost:8080/"
        },
        "id": "FTgmbuHj5-zJ",
        "outputId": "14e0c465-c596-4ab7-e496-1e9dbb6cb3e7"
      },
      "execution_count": 37,
      "outputs": [
        {
          "output_type": "execute_result",
          "data": {
            "text/plain": [
              "[5, 4, 3, 5]"
            ]
          },
          "metadata": {},
          "execution_count": 37
        }
      ]
    },
    {
      "cell_type": "code",
      "source": [
        "li4[1:-1:2] # start:stop:step"
      ],
      "metadata": {
        "colab": {
          "base_uri": "https://localhost:8080/"
        },
        "id": "PwXpYzt36H_C",
        "outputId": "ac856858-af9d-4abb-9a18-e246740c4554"
      },
      "execution_count": 38,
      "outputs": [
        {
          "output_type": "execute_result",
          "data": {
            "text/plain": [
              "[4, 5, 293]"
            ]
          },
          "metadata": {},
          "execution_count": 38
        }
      ]
    },
    {
      "cell_type": "code",
      "source": [
        "li4"
      ],
      "metadata": {
        "colab": {
          "base_uri": "https://localhost:8080/"
        },
        "id": "Rb3gYDjn6uS7",
        "outputId": "b87585db-7e09-45c8-8a3e-fb28976eebec"
      },
      "execution_count": 39,
      "outputs": [
        {
          "output_type": "execute_result",
          "data": {
            "text/plain": [
              "[5, 4, 3, 5, 6, 293, 5094, 54]"
            ]
          },
          "metadata": {},
          "execution_count": 39
        }
      ]
    },
    {
      "cell_type": "code",
      "source": [
        "li4[::2]"
      ],
      "metadata": {
        "colab": {
          "base_uri": "https://localhost:8080/"
        },
        "id": "USeZv4mO6bWn",
        "outputId": "8fd3135e-7486-4d50-a01c-fe060a0b54ff"
      },
      "execution_count": 40,
      "outputs": [
        {
          "output_type": "execute_result",
          "data": {
            "text/plain": [
              "[5, 3, 6, 5094]"
            ]
          },
          "metadata": {},
          "execution_count": 40
        }
      ]
    },
    {
      "cell_type": "code",
      "source": [
        "li4[1::2]"
      ],
      "metadata": {
        "colab": {
          "base_uri": "https://localhost:8080/"
        },
        "id": "tH28K1DN6sH-",
        "outputId": "68700d19-ae0a-4460-d2af-bb9210745fc2"
      },
      "execution_count": 41,
      "outputs": [
        {
          "output_type": "execute_result",
          "data": {
            "text/plain": [
              "[4, 5, 293, 54]"
            ]
          },
          "metadata": {},
          "execution_count": 41
        }
      ]
    },
    {
      "cell_type": "code",
      "source": [
        "li4[2] = -122222222\n",
        "print(li4)"
      ],
      "metadata": {
        "colab": {
          "base_uri": "https://localhost:8080/"
        },
        "id": "jPOnu5UX60I4",
        "outputId": "cbb16127-981d-4730-f19e-53a1cd6a032f"
      },
      "execution_count": 42,
      "outputs": [
        {
          "output_type": "stream",
          "name": "stdout",
          "text": [
            "[5, 4, -122222222, 5, 6, 293, 5094, 54]\n"
          ]
        }
      ]
    },
    {
      "cell_type": "code",
      "source": [
        "mat = [[1, 2, 0, 7], \n",
        "       [9, 4, 8, 1],\n",
        "       [5, 3, 6, 1]]\n",
        "print(mat)"
      ],
      "metadata": {
        "colab": {
          "base_uri": "https://localhost:8080/"
        },
        "id": "Zd8l9Omh6-X-",
        "outputId": "8d30a7e8-230a-4af6-87ba-0afdde1c2f96"
      },
      "execution_count": 43,
      "outputs": [
        {
          "output_type": "stream",
          "name": "stdout",
          "text": [
            "[[1, 2, 0, 7], [9, 4, 8, 1], [5, 3, 6, 1]]\n"
          ]
        }
      ]
    },
    {
      "cell_type": "code",
      "source": [
        "mat[2][0]"
      ],
      "metadata": {
        "colab": {
          "base_uri": "https://localhost:8080/"
        },
        "id": "z_jWx5hY7fa3",
        "outputId": "da427db7-d03b-427c-c0f4-1993cd51a0ad"
      },
      "execution_count": 44,
      "outputs": [
        {
          "output_type": "execute_result",
          "data": {
            "text/plain": [
              "5"
            ]
          },
          "metadata": {},
          "execution_count": 44
        }
      ]
    },
    {
      "cell_type": "code",
      "source": [
        "mat[2]"
      ],
      "metadata": {
        "colab": {
          "base_uri": "https://localhost:8080/"
        },
        "id": "frgNZNHt7uNI",
        "outputId": "6857c251-3828-47b6-ed3c-fb2cdb691901"
      },
      "execution_count": 45,
      "outputs": [
        {
          "output_type": "execute_result",
          "data": {
            "text/plain": [
              "[5, 3, 6, 1]"
            ]
          },
          "metadata": {},
          "execution_count": 45
        }
      ]
    },
    {
      "cell_type": "code",
      "source": [
        "mat[1][2:]"
      ],
      "metadata": {
        "colab": {
          "base_uri": "https://localhost:8080/"
        },
        "id": "K9_YXZOg7xeh",
        "outputId": "fa607cab-8473-4b5c-88c8-8b8e0f61db81"
      },
      "execution_count": 46,
      "outputs": [
        {
          "output_type": "execute_result",
          "data": {
            "text/plain": [
              "[8, 1]"
            ]
          },
          "metadata": {},
          "execution_count": 46
        }
      ]
    },
    {
      "cell_type": "markdown",
      "source": [
        "# List methods"
      ],
      "metadata": {
        "id": "kkzE9qPU8Atw"
      }
    },
    {
      "cell_type": "code",
      "source": [
        "li4"
      ],
      "metadata": {
        "colab": {
          "base_uri": "https://localhost:8080/"
        },
        "id": "MCzDox4h8DB8",
        "outputId": "c21f7257-33cb-48e5-cbf1-dda8db53b338"
      },
      "execution_count": 47,
      "outputs": [
        {
          "output_type": "execute_result",
          "data": {
            "text/plain": [
              "[5, 4, -122222222, 5, 6, 293, 5094, 54]"
            ]
          },
          "metadata": {},
          "execution_count": 47
        }
      ]
    },
    {
      "cell_type": "code",
      "source": [
        "print(li4.__len__())\n",
        "print(len(li4))\n"
      ],
      "metadata": {
        "colab": {
          "base_uri": "https://localhost:8080/"
        },
        "id": "JfOYYeVX8C_a",
        "outputId": "462f8f32-4cfb-4e0f-f6f7-1027219bac01"
      },
      "execution_count": 48,
      "outputs": [
        {
          "output_type": "stream",
          "name": "stdout",
          "text": [
            "8\n",
            "8\n"
          ]
        }
      ]
    },
    {
      "cell_type": "code",
      "source": [
        "li4.append(18823)"
      ],
      "metadata": {
        "id": "zK8UAkH88C8b"
      },
      "execution_count": 49,
      "outputs": []
    },
    {
      "cell_type": "code",
      "source": [
        "li4.append([1,2,3,4])\n",
        "print(li4)"
      ],
      "metadata": {
        "colab": {
          "base_uri": "https://localhost:8080/"
        },
        "id": "IIUcFaec8C5n",
        "outputId": "4b70c7a9-b1e7-4615-c980-113470e7808d"
      },
      "execution_count": 50,
      "outputs": [
        {
          "output_type": "stream",
          "name": "stdout",
          "text": [
            "[5, 4, -122222222, 5, 6, 293, 5094, 54, 18823, [1, 2, 3, 4]]\n"
          ]
        }
      ]
    },
    {
      "cell_type": "code",
      "source": [
        "li4.extend([1,2,3,4,5])"
      ],
      "metadata": {
        "id": "UVvCaE-v70Ty"
      },
      "execution_count": 51,
      "outputs": []
    },
    {
      "cell_type": "code",
      "source": [
        "li4"
      ],
      "metadata": {
        "colab": {
          "base_uri": "https://localhost:8080/"
        },
        "id": "4CmhLscj9EZV",
        "outputId": "c7711ce9-c3e4-4eed-d54f-09bde785a800"
      },
      "execution_count": 52,
      "outputs": [
        {
          "output_type": "execute_result",
          "data": {
            "text/plain": [
              "[5, 4, -122222222, 5, 6, 293, 5094, 54, 18823, [1, 2, 3, 4], 1, 2, 3, 4, 5]"
            ]
          },
          "metadata": {},
          "execution_count": 52
        }
      ]
    },
    {
      "cell_type": "code",
      "source": [
        "li4.insert(0,'ali')\n",
        "li4"
      ],
      "metadata": {
        "colab": {
          "base_uri": "https://localhost:8080/"
        },
        "id": "rfHcQpMz9Gnb",
        "outputId": "30d30440-fefc-4d3f-cd41-f33437659eb8"
      },
      "execution_count": 54,
      "outputs": [
        {
          "output_type": "execute_result",
          "data": {
            "text/plain": [
              "['ali',\n",
              " 5,\n",
              " 4,\n",
              " -122222222,\n",
              " 5,\n",
              " 6,\n",
              " 293,\n",
              " 5094,\n",
              " 54,\n",
              " 18823,\n",
              " [1, 2, 3, 4],\n",
              " 1,\n",
              " 2,\n",
              " 3,\n",
              " 4,\n",
              " 5]"
            ]
          },
          "metadata": {},
          "execution_count": 54
        }
      ]
    },
    {
      "cell_type": "code",
      "source": [
        "li4.pop() # last element will droped"
      ],
      "metadata": {
        "colab": {
          "base_uri": "https://localhost:8080/"
        },
        "id": "32XvBhRw9SGF",
        "outputId": "b2222154-518e-42c6-957a-fff416a12d51"
      },
      "execution_count": 56,
      "outputs": [
        {
          "output_type": "execute_result",
          "data": {
            "text/plain": [
              "5"
            ]
          },
          "metadata": {},
          "execution_count": 56
        }
      ]
    },
    {
      "cell_type": "code",
      "source": [
        "li4"
      ],
      "metadata": {
        "id": "FBqZedGO-2s_",
        "outputId": "482a1459-fcca-41a2-d756-f8e19e8f3036",
        "colab": {
          "base_uri": "https://localhost:8080/"
        }
      },
      "execution_count": 57,
      "outputs": [
        {
          "output_type": "execute_result",
          "data": {
            "text/plain": [
              "['ali', 5, 4, -122222222, 5, 6, 293, 5094, 54, 18823, [1, 2, 3, 4], 1, 2, 3, 4]"
            ]
          },
          "metadata": {},
          "execution_count": 57
        }
      ]
    },
    {
      "cell_type": "code",
      "source": [
        "li4.pop(3)\n"
      ],
      "metadata": {
        "id": "Lk8i_gkb-57w",
        "outputId": "b8e6701a-278b-4e5a-d44d-22a5a18cbfca",
        "colab": {
          "base_uri": "https://localhost:8080/"
        }
      },
      "execution_count": 58,
      "outputs": [
        {
          "output_type": "execute_result",
          "data": {
            "text/plain": [
              "-122222222"
            ]
          },
          "metadata": {},
          "execution_count": 58
        }
      ]
    },
    {
      "cell_type": "code",
      "source": [
        "li4.remove(5) # remove first 5 in li4 \n"
      ],
      "metadata": {
        "id": "NncjbSzK_JcQ"
      },
      "execution_count": 59,
      "outputs": []
    },
    {
      "cell_type": "code",
      "source": [
        "li4"
      ],
      "metadata": {
        "id": "PtdzYisD_Rxo",
        "outputId": "d62a5a59-5d7a-4474-9042-b0377b90a50c",
        "colab": {
          "base_uri": "https://localhost:8080/"
        }
      },
      "execution_count": 60,
      "outputs": [
        {
          "output_type": "execute_result",
          "data": {
            "text/plain": [
              "['ali', 4, 5, 6, 293, 5094, 54, 18823, [1, 2, 3, 4], 1, 2, 3, 4]"
            ]
          },
          "metadata": {},
          "execution_count": 60
        }
      ]
    },
    {
      "cell_type": "code",
      "source": [
        "li4.clear()\n",
        "li4"
      ],
      "metadata": {
        "id": "fGD2dnc4_VGN",
        "outputId": "188eafc8-393a-40a1-85a9-9394254b8756",
        "colab": {
          "base_uri": "https://localhost:8080/"
        }
      },
      "execution_count": 61,
      "outputs": [
        {
          "output_type": "execute_result",
          "data": {
            "text/plain": [
              "[]"
            ]
          },
          "metadata": {},
          "execution_count": 61
        }
      ]
    },
    {
      "cell_type": "code",
      "source": [
        "li5 = [1, 2, 3, 4, 3, 3]"
      ],
      "metadata": {
        "id": "qTZaUIpp_dIY"
      },
      "execution_count": 64,
      "outputs": []
    },
    {
      "cell_type": "code",
      "source": [
        "li5.count(3)"
      ],
      "metadata": {
        "id": "qDwkr8Oj_i5Q",
        "outputId": "d0aec9aa-e270-4f6c-adb8-9d7261ae83a6",
        "colab": {
          "base_uri": "https://localhost:8080/"
        }
      },
      "execution_count": 65,
      "outputs": [
        {
          "output_type": "execute_result",
          "data": {
            "text/plain": [
              "3"
            ]
          },
          "metadata": {},
          "execution_count": 65
        }
      ]
    },
    {
      "cell_type": "code",
      "source": [
        "li5.index(2) # get index of a value"
      ],
      "metadata": {
        "id": "RkAHUVQ1_lXQ",
        "outputId": "ed4b5ef2-1e58-4cc8-f4f7-6140cafdcd97",
        "colab": {
          "base_uri": "https://localhost:8080/"
        }
      },
      "execution_count": 66,
      "outputs": [
        {
          "output_type": "execute_result",
          "data": {
            "text/plain": [
              "1"
            ]
          },
          "metadata": {},
          "execution_count": 66
        }
      ]
    },
    {
      "cell_type": "code",
      "source": [
        "li5.reverse()\n",
        "li5"
      ],
      "metadata": {
        "id": "nkdpcNRG_0D5",
        "outputId": "0c125334-b8ce-4d4b-d5c1-5491dff7fd8c",
        "colab": {
          "base_uri": "https://localhost:8080/"
        }
      },
      "execution_count": 67,
      "outputs": [
        {
          "output_type": "execute_result",
          "data": {
            "text/plain": [
              "[3, 3, 4, 3, 2, 1]"
            ]
          },
          "metadata": {},
          "execution_count": 67
        }
      ]
    },
    {
      "cell_type": "code",
      "source": [
        "li5.sort()\n",
        "li5"
      ],
      "metadata": {
        "id": "AA9KfcD7AA0U",
        "outputId": "92f41f0f-650e-4540-e08a-b5aa04248712",
        "colab": {
          "base_uri": "https://localhost:8080/"
        }
      },
      "execution_count": 69,
      "outputs": [
        {
          "output_type": "execute_result",
          "data": {
            "text/plain": [
              "[1, 2, 3, 3, 3, 4]"
            ]
          },
          "metadata": {},
          "execution_count": 69
        }
      ]
    },
    {
      "cell_type": "code",
      "source": [
        "li5.sort(reverse=True)\n",
        "li5"
      ],
      "metadata": {
        "id": "B7ThwhBhAFip",
        "outputId": "ddf85a48-c823-4d54-831f-fd396ce3ff2a",
        "colab": {
          "base_uri": "https://localhost:8080/"
        }
      },
      "execution_count": 70,
      "outputs": [
        {
          "output_type": "execute_result",
          "data": {
            "text/plain": [
              "[4, 3, 3, 3, 2, 1]"
            ]
          },
          "metadata": {},
          "execution_count": 70
        }
      ]
    },
    {
      "cell_type": "code",
      "source": [
        "li6 = li5.copy()\n",
        "li6.append(58588585858)\n",
        "print(f\"li5 is: {li5}\")\n",
        "print(f\"li6 is: {li6}\")\n"
      ],
      "metadata": {
        "id": "fgbxeE2oAMad",
        "outputId": "e8e5909e-58c8-4ebe-9c4b-9b455a1e12bc",
        "colab": {
          "base_uri": "https://localhost:8080/"
        }
      },
      "execution_count": 71,
      "outputs": [
        {
          "output_type": "stream",
          "name": "stdout",
          "text": [
            "li5 is: [4, 3, 3, 3, 2, 1]\n",
            "li6 is: [4, 3, 3, 3, 2, 1, 58588585858]\n"
          ]
        }
      ]
    },
    {
      "cell_type": "code",
      "source": [],
      "metadata": {
        "id": "aorPtEBlAPc3"
      },
      "execution_count": null,
      "outputs": []
    },
    {
      "cell_type": "code",
      "source": [],
      "metadata": {
        "id": "vPgUikYLAPaW"
      },
      "execution_count": null,
      "outputs": []
    },
    {
      "cell_type": "code",
      "source": [],
      "metadata": {
        "id": "q9UoEPnoAPX2"
      },
      "execution_count": null,
      "outputs": []
    }
  ],
  "metadata": {
    "colab": {
      "name": "Welcome To Colaboratory",
      "provenance": [],
      "include_colab_link": true
    },
    "kernelspec": {
      "display_name": "Python 3",
      "name": "python3"
    }
  },
  "nbformat": 4,
  "nbformat_minor": 0
}