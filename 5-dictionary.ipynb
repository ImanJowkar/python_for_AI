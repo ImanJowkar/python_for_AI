{
  "cells": [
    {
      "cell_type": "markdown",
      "metadata": {
        "id": "view-in-github",
        "colab_type": "text"
      },
      "source": [
        "<a href=\"https://colab.research.google.com/github/ImanJowkar/python_for_AI/blob/main/5-dictionary.ipynb\" target=\"_parent\"><img src=\"https://colab.research.google.com/assets/colab-badge.svg\" alt=\"Open In Colab\"/></a>"
      ]
    },
    {
      "cell_type": "markdown",
      "source": [
        "# Dictionary"
      ],
      "metadata": {
        "id": "oFHM_afyvIqo"
      }
    },
    {
      "cell_type": "code",
      "source": [
        "my_dict = {\"key1\": \"value\", \"key2\": \"ali\", \"key3\": [1,2,3], \"key4\": (9,8,4)}\n",
        "print(my_dict)"
      ],
      "metadata": {
        "id": "ErSlr62XvILI",
        "outputId": "687f3f59-8739-4cee-b17e-28f7290cc16e",
        "colab": {
          "base_uri": "https://localhost:8080/"
        }
      },
      "execution_count": 80,
      "outputs": [
        {
          "output_type": "stream",
          "name": "stdout",
          "text": [
            "{'key1': 'value', 'key2': 'ali', 'key3': [1, 2, 3], 'key4': (9, 8, 4)}\n"
          ]
        }
      ]
    },
    {
      "cell_type": "code",
      "source": [
        "my_dict[\"key2\"]"
      ],
      "metadata": {
        "id": "isqWawfVvRjp",
        "outputId": "31d3e575-52e2-4297-eb63-632aa35c376c",
        "colab": {
          "base_uri": "https://localhost:8080/",
          "height": 35
        }
      },
      "execution_count": 81,
      "outputs": [
        {
          "output_type": "execute_result",
          "data": {
            "text/plain": [
              "'ali'"
            ],
            "application/vnd.google.colaboratory.intrinsic+json": {
              "type": "string"
            }
          },
          "metadata": {},
          "execution_count": 81
        }
      ]
    },
    {
      "cell_type": "code",
      "source": [
        "my_dict.keys()"
      ],
      "metadata": {
        "id": "1obiUh4VwJit",
        "outputId": "3d145e07-a6eb-4fe4-ac4f-5fee25daf3a9",
        "colab": {
          "base_uri": "https://localhost:8080/"
        }
      },
      "execution_count": 82,
      "outputs": [
        {
          "output_type": "execute_result",
          "data": {
            "text/plain": [
              "dict_keys(['key1', 'key2', 'key3', 'key4'])"
            ]
          },
          "metadata": {},
          "execution_count": 82
        }
      ]
    },
    {
      "cell_type": "code",
      "source": [
        "my_dict.values()"
      ],
      "metadata": {
        "id": "4uEgKVwDwMob",
        "outputId": "1e7221eb-d7cc-48af-936b-3eba0b593ebf",
        "colab": {
          "base_uri": "https://localhost:8080/"
        }
      },
      "execution_count": 83,
      "outputs": [
        {
          "output_type": "execute_result",
          "data": {
            "text/plain": [
              "dict_values(['value', 'ali', [1, 2, 3], (9, 8, 4)])"
            ]
          },
          "metadata": {},
          "execution_count": 83
        }
      ]
    },
    {
      "cell_type": "code",
      "source": [
        "my_dict.items()"
      ],
      "metadata": {
        "id": "Y0hfWIXGwQsC",
        "outputId": "95e5304a-83db-482a-8164-eeb67201ca7e",
        "colab": {
          "base_uri": "https://localhost:8080/"
        }
      },
      "execution_count": 84,
      "outputs": [
        {
          "output_type": "execute_result",
          "data": {
            "text/plain": [
              "dict_items([('key1', 'value'), ('key2', 'ali'), ('key3', [1, 2, 3]), ('key4', (9, 8, 4))])"
            ]
          },
          "metadata": {},
          "execution_count": 84
        }
      ]
    },
    {
      "cell_type": "code",
      "source": [
        "for k,v in my_dict.items():\n",
        "    print(f\"Key: {k},\\t Value: {v}\")\n",
        "    print()"
      ],
      "metadata": {
        "id": "Up4RizImwU61",
        "outputId": "92b134a3-3a4f-40a7-dd4d-c991402a1f61",
        "colab": {
          "base_uri": "https://localhost:8080/"
        }
      },
      "execution_count": 85,
      "outputs": [
        {
          "output_type": "stream",
          "name": "stdout",
          "text": [
            "Key: key1,\t Value: value\n",
            "\n",
            "Key: key2,\t Value: ali\n",
            "\n",
            "Key: key3,\t Value: [1, 2, 3]\n",
            "\n",
            "Key: key4,\t Value: (9, 8, 4)\n",
            "\n"
          ]
        }
      ]
    },
    {
      "cell_type": "code",
      "source": [
        "\"key2\" in my_dict"
      ],
      "metadata": {
        "id": "wafj0E-lwhjd",
        "outputId": "c03a0f7a-23fb-47a5-9222-d5f9695cd7d9",
        "colab": {
          "base_uri": "https://localhost:8080/"
        }
      },
      "execution_count": 86,
      "outputs": [
        {
          "output_type": "execute_result",
          "data": {
            "text/plain": [
              "True"
            ]
          },
          "metadata": {},
          "execution_count": 86
        }
      ]
    },
    {
      "cell_type": "code",
      "source": [
        "if \"key3\" in my_dict:\n",
        "    print(\"key3 is avalible in dict\")"
      ],
      "metadata": {
        "id": "klu_XNC0wq4Z",
        "outputId": "da21f14e-6228-4dc9-95af-0dec78539100",
        "colab": {
          "base_uri": "https://localhost:8080/"
        }
      },
      "execution_count": 87,
      "outputs": [
        {
          "output_type": "stream",
          "name": "stdout",
          "text": [
            "key3 is avalible in dict\n"
          ]
        }
      ]
    },
    {
      "cell_type": "markdown",
      "source": [
        "# Add key-value to dict"
      ],
      "metadata": {
        "id": "C9hHHNEEw4Sx"
      }
    },
    {
      "cell_type": "code",
      "source": [
        "my_dict[\"key5\"] = [1,2]\n",
        "print(my_dict)"
      ],
      "metadata": {
        "id": "YQu8O5_Owv9z",
        "outputId": "e4c48651-929e-4142-8538-4924f57be2da",
        "colab": {
          "base_uri": "https://localhost:8080/"
        }
      },
      "execution_count": 88,
      "outputs": [
        {
          "output_type": "stream",
          "name": "stdout",
          "text": [
            "{'key1': 'value', 'key2': 'ali', 'key3': [1, 2, 3], 'key4': (9, 8, 4), 'key5': [1, 2]}\n"
          ]
        }
      ]
    },
    {
      "cell_type": "code",
      "source": [
        "my_dict[\"key3\"] = 10\n",
        "print(my_dict)"
      ],
      "metadata": {
        "id": "KoTzqOXvw2wO",
        "outputId": "d33a1213-86bb-4621-9287-b1e9d3254c74",
        "colab": {
          "base_uri": "https://localhost:8080/"
        }
      },
      "execution_count": 89,
      "outputs": [
        {
          "output_type": "stream",
          "name": "stdout",
          "text": [
            "{'key1': 'value', 'key2': 'ali', 'key3': 10, 'key4': (9, 8, 4), 'key5': [1, 2]}\n"
          ]
        }
      ]
    },
    {
      "cell_type": "code",
      "source": [
        "len(my_dict)"
      ],
      "metadata": {
        "id": "Ah6Rl55lw2tS",
        "outputId": "3666ce85-37b1-450c-b0bf-63e49153d71a",
        "colab": {
          "base_uri": "https://localhost:8080/"
        }
      },
      "execution_count": 90,
      "outputs": [
        {
          "output_type": "execute_result",
          "data": {
            "text/plain": [
              "5"
            ]
          },
          "metadata": {},
          "execution_count": 90
        }
      ]
    },
    {
      "cell_type": "code",
      "source": [
        "my_dict.get(\"key1\")"
      ],
      "metadata": {
        "id": "J98xfMV3w2q2",
        "outputId": "d42ffcea-f9a8-4094-f2be-826f5aa17904",
        "colab": {
          "base_uri": "https://localhost:8080/",
          "height": 35
        }
      },
      "execution_count": 91,
      "outputs": [
        {
          "output_type": "execute_result",
          "data": {
            "text/plain": [
              "'value'"
            ],
            "application/vnd.google.colaboratory.intrinsic+json": {
              "type": "string"
            }
          },
          "metadata": {},
          "execution_count": 91
        }
      ]
    },
    {
      "cell_type": "code",
      "source": [
        "my_dict.get(\"key5\")"
      ],
      "metadata": {
        "id": "IR5XQ-Dtw2oU",
        "outputId": "6863c1ae-b7e2-4f58-f233-0513687bd312",
        "colab": {
          "base_uri": "https://localhost:8080/"
        }
      },
      "execution_count": 92,
      "outputs": [
        {
          "output_type": "execute_result",
          "data": {
            "text/plain": [
              "[1, 2]"
            ]
          },
          "metadata": {},
          "execution_count": 92
        }
      ]
    },
    {
      "cell_type": "code",
      "source": [
        "print(my_dict)\n",
        "my_dict.update({\"key1\": \"val\", \"key7\":43})\n",
        "print(my_dict)"
      ],
      "metadata": {
        "id": "7UPikzUjw2lt",
        "outputId": "fd4a99a2-3f7e-4885-8f1d-206c03e4b823",
        "colab": {
          "base_uri": "https://localhost:8080/"
        }
      },
      "execution_count": 93,
      "outputs": [
        {
          "output_type": "stream",
          "name": "stdout",
          "text": [
            "{'key1': 'value', 'key2': 'ali', 'key3': 10, 'key4': (9, 8, 4), 'key5': [1, 2]}\n",
            "{'key1': 'val', 'key2': 'ali', 'key3': 10, 'key4': (9, 8, 4), 'key5': [1, 2], 'key7': 43}\n"
          ]
        }
      ]
    },
    {
      "cell_type": "code",
      "source": [
        "my_dict.pop(\"key2\")\n",
        "print(my_dict)"
      ],
      "metadata": {
        "id": "7umSfcwew2ip",
        "outputId": "cd58726b-de50-408c-b957-679dcf932151",
        "colab": {
          "base_uri": "https://localhost:8080/"
        }
      },
      "execution_count": 94,
      "outputs": [
        {
          "output_type": "stream",
          "name": "stdout",
          "text": [
            "{'key1': 'val', 'key3': 10, 'key4': (9, 8, 4), 'key5': [1, 2], 'key7': 43}\n"
          ]
        }
      ]
    },
    {
      "cell_type": "code",
      "source": [
        "my_dict2 = dict.fromkeys([\"key1\",'key2','key3'], 5)\n",
        "print(my_dict2)"
      ],
      "metadata": {
        "id": "HM1tbMZ9y5mz",
        "outputId": "62146984-66dc-430a-98d2-582e9e9ebafd",
        "colab": {
          "base_uri": "https://localhost:8080/"
        }
      },
      "execution_count": 95,
      "outputs": [
        {
          "output_type": "stream",
          "name": "stdout",
          "text": [
            "{'key1': 5, 'key2': 5, 'key3': 5}\n"
          ]
        }
      ]
    },
    {
      "cell_type": "code",
      "source": [
        "my_dict3 = my_dict2.copy()\n",
        "my_dict3['key1'] = 3333\n",
        "\n",
        "print(my_dict2)\n",
        "print(my_dict3)"
      ],
      "metadata": {
        "id": "mBDkWB7Izasu",
        "outputId": "14ecfadb-bd5e-4cb1-c413-aaa051e4ea5b",
        "colab": {
          "base_uri": "https://localhost:8080/"
        }
      },
      "execution_count": 96,
      "outputs": [
        {
          "output_type": "stream",
          "name": "stdout",
          "text": [
            "{'key1': 5, 'key2': 5, 'key3': 5}\n",
            "{'key1': 3333, 'key2': 5, 'key3': 5}\n"
          ]
        }
      ]
    },
    {
      "cell_type": "code",
      "source": [
        "for i in my_dict2:\n",
        "    print(i)"
      ],
      "metadata": {
        "id": "kYM7Vb5gzs6j",
        "outputId": "a5bcedb5-98ea-43ac-dbea-630531fa8451",
        "colab": {
          "base_uri": "https://localhost:8080/"
        }
      },
      "execution_count": 97,
      "outputs": [
        {
          "output_type": "stream",
          "name": "stdout",
          "text": [
            "key1\n",
            "key2\n",
            "key3\n"
          ]
        }
      ]
    },
    {
      "cell_type": "code",
      "source": [
        "for key in my_dict2:\n",
        "    print(f\"{key} ---> {my_dict2[key]}\")"
      ],
      "metadata": {
        "id": "uDu_tKN6zzIA",
        "outputId": "f159e93b-4928-4075-ff46-885e890e34ef",
        "colab": {
          "base_uri": "https://localhost:8080/"
        }
      },
      "execution_count": 98,
      "outputs": [
        {
          "output_type": "stream",
          "name": "stdout",
          "text": [
            "key1 ---> 5\n",
            "key2 ---> 5\n",
            "key3 ---> 5\n"
          ]
        }
      ]
    },
    {
      "cell_type": "code",
      "source": [
        "scores = {\"ali\": [3,2,3,4], \n",
        "          \"mohammad\": [4,3,3,2]}\n",
        "\n",
        "mean = dict.fromkeys(scores.keys(), 0)\n",
        "\n",
        "for k,v in scores.items():\n",
        "    mean[k] = sum(v) / len(v)\n",
        "\n",
        "print(mean)"
      ],
      "metadata": {
        "id": "lowvKgD2zzFQ",
        "outputId": "20c33598-de1c-4363-e133-94fbfcb23485",
        "colab": {
          "base_uri": "https://localhost:8080/"
        }
      },
      "execution_count": 99,
      "outputs": [
        {
          "output_type": "stream",
          "name": "stdout",
          "text": [
            "{'ali': 3.0, 'mohammad': 3.0}\n"
          ]
        }
      ]
    }
  ],
  "metadata": {
    "colab": {
      "name": "Welcome To Colaboratory",
      "provenance": [],
      "include_colab_link": true
    },
    "kernelspec": {
      "display_name": "Python 3",
      "name": "python3"
    }
  },
  "nbformat": 4,
  "nbformat_minor": 0
}