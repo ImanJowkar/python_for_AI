{
 "cells": [
  {
   "cell_type": "markdown",
   "id": "4b868bf0-54a4-43da-a880-a02eecf92edc",
   "metadata": {},
   "source": [
    "## train by writing algorithm"
   ]
  },
  {
   "cell_type": "code",
   "execution_count": 5,
   "id": "b8e952a2-f0ce-48dc-9cc0-95a49e88a1c6",
   "metadata": {},
   "outputs": [],
   "source": [
    "import numpy as np\n",
    "import pandas as pd\n",
    "import matplotlib.pyplot as plt\n",
    "import sklearn\n",
    "from sklearn import datasets\n",
    "from sklearn.model_selection import train_test_split"
   ]
  },
  {
   "cell_type": "code",
   "execution_count": 17,
   "id": "1e9b0e0e-5089-4e54-8807-15749136b2ed",
   "metadata": {},
   "outputs": [
    {
     "name": "stdout",
     "output_type": "stream",
     "text": [
      "w0_real: 2.7, w1_real: 33.86708459143266\n"
     ]
    }
   ],
   "source": [
    "bias = 2.7\n",
    "X, y, coef = datasets.make_regression(n_samples=100, \n",
    "                                 n_features=1, \n",
    "                                 n_informative=2, \n",
    "                                 n_targets=1, \n",
    "                                 bias=bias, \n",
    "                                 effective_rank=None, \n",
    "                                 tail_strength=0.5, \n",
    "                                 noise=5.5, \n",
    "                                 shuffle=True, \n",
    "                                 coef=True, \n",
    "                                 random_state=123)\n",
    "\n",
    "X = X.reshape(1, -1)[0]\n",
    "w0_real, w1_real = bias, coef\n",
    "print(f\"w0_real: {w0_real}, w1_real: {w1_real}\")"
   ]
  },
  {
   "cell_type": "code",
   "execution_count": 7,
   "id": "6f90193f-1d63-4fa2-b254-ab6af6f0f256",
   "metadata": {},
   "outputs": [],
   "source": [
    "X_train, X_test, y_train, y_test = train_test_split(X, y, test_size=0.33, random_state=123)"
   ]
  },
  {
   "cell_type": "code",
   "execution_count": 8,
   "id": "71d8ce7f-e7c5-4a3d-b548-e6e25a32fb76",
   "metadata": {},
   "outputs": [
    {
     "name": "stdout",
     "output_type": "stream",
     "text": [
      "The shape of X_train is: (67,)\n",
      "The shape of y_train is: (67,)\n",
      "The shape of X_test is: (33,)\n",
      "The shape of y_test is: (33,)\n"
     ]
    }
   ],
   "source": [
    "print(f\"The shape of X_train is: {X_train.shape}\")\n",
    "print(f\"The shape of y_train is: {y_train.shape}\")\n",
    "print(f\"The shape of X_test is: {X_test.shape}\")\n",
    "print(f\"The shape of y_test is: {y_test.shape}\")\n"
   ]
  },
  {
   "cell_type": "code",
   "execution_count": 46,
   "id": "021a059b-2db5-4e36-9e84-2f582a16fb98",
   "metadata": {},
   "outputs": [
    {
     "name": "stdout",
     "output_type": "stream",
     "text": [
      "range X_train: (-2.7985891054607244, 2.392365265937726)\n",
      "range X_test: (-1.771533104509847, 1.6609524881479396)\n",
      "_-------_\n",
      "range y_train is: (-86.90936343414613, 84.24183423117017)\n",
      "range y_test is: (-51.42641900329474, 57.42900951158072)\n"
     ]
    }
   ],
   "source": [
    "print(f\"range X_train: {X_train.min(), X_train.max()}\")\n",
    "print(f\"range X_test: {X_test.min(), X_test.max()}\")\n",
    "print('_-------_')\n",
    "print(f\"range y_train is: {y_train.min(), y_train.max()}\")\n",
    "print(f\"range y_test is: {y_test.min(), y_test.max()}\")\n"
   ]
  },
  {
   "cell_type": "code",
   "execution_count": 10,
   "id": "3c414c6d-20d4-48ab-8b60-85a24e50cc3f",
   "metadata": {},
   "outputs": [
    {
     "data": {
      "image/png": "[encoded data removed]",
      "text/plain": [
       "<Figure size 640x480 with 1 Axes>"
      ]
     },
     "metadata": {},
     "output_type": "display_data"
    }
   ],
   "source": [
    "plt.scatter(X_train, y_train, color = 'red', label='train')\n",
    "plt.scatter(X_test, y_test, color = 'blue', label='test')\n",
    "plt.legend()\n",
    "plt.show()"
   ]
  },
  {
   "cell_type": "code",
   "execution_count": 11,
   "id": "b969ebf3-9dfa-4b54-9acf-98abe0288e22",
   "metadata": {},
   "outputs": [],
   "source": [
    "def linear_regression(x, w0, w1):\n",
    "    return w1*x + w0\n",
    "\n",
    "def mse(y, y_hat):\n",
    "    return np.mean((y - y_hat)**2)"
   ]
  },
  {
   "cell_type": "code",
   "execution_count": 36,
   "id": "335104b8-9159-4987-9d0e-05b7cc978196",
   "metadata": {
    "tags": []
   },
   "outputs": [
    {
     "name": "stdout",
     "output_type": "stream",
     "text": [
      "epoch: 0 \t loss: 1.5e+03 \t w0: 1.301 \t w1: 10.21\n",
      "epoch: 1 \t loss: 8.2e+02 \t w0: 2.2 \t w1: 16.76\n",
      "epoch: 2 \t loss: 4.4e+02 \t w0: 2.744 \t w1: 21.5\n",
      "epoch: 3 \t loss: 2.5e+02 \t w0: 3.053 \t w1: 24.95\n",
      "epoch: 4 \t loss: 1.4e+02 \t w0: 3.208 \t w1: 27.45\n",
      "epoch: 5 \t loss: 8.9e+01 \t w0: 3.264 \t w1: 29.26\n",
      "epoch: 6 \t loss: 6.1e+01 \t w0: 3.261 \t w1: 30.58\n",
      "epoch: 7 \t loss: 4.5e+01 \t w0: 3.224 \t w1: 31.55\n",
      "epoch: 8 \t loss: 3.7e+01 \t w0: 3.168 \t w1: 32.25\n",
      "epoch: 9 \t loss: 3.3e+01 \t w0: 3.104 \t w1: 32.76\n",
      "epoch: 10 \t loss: 3.1e+01 \t w0: 3.04 \t w1: 33.14\n",
      "epoch: 11 \t loss: 2.9e+01 \t w0: 2.978 \t w1: 33.41\n",
      "epoch: 12 \t loss: 2.9e+01 \t w0: 2.921 \t w1: 33.62\n",
      "epoch: 13 \t loss: 2.8e+01 \t w0: 2.87 \t w1: 33.76\n",
      "epoch: 14 \t loss: 2.8e+01 \t w0: 2.826 \t w1: 33.87\n",
      "epoch: 15 \t loss: 2.8e+01 \t w0: 2.787 \t w1: 33.96\n",
      "epoch: 16 \t loss: 2.8e+01 \t w0: 2.754 \t w1: 34.02\n",
      "epoch: 17 \t loss: 2.8e+01 \t w0: 2.726 \t w1: 34.06\n",
      "epoch: 18 \t loss: 2.8e+01 \t w0: 2.702 \t w1: 34.09\n",
      "epoch: 19 \t loss: 2.8e+01 \t w0: 2.683 \t w1: 34.12\n"
     ]
    }
   ],
   "source": [
    "w0, w1 = np.random.randn(), np.random.randn()\n",
    "lr = 0.1\n",
    "n_epochs = 20\n",
    "loss = []\n",
    "for epoch in range(n_epochs):\n",
    "    # predictions\n",
    "    y_hat = linear_regression(X_train, w0, w1)\n",
    "    \n",
    "    # loss\n",
    "    e = mse(y_train, y_hat)\n",
    "    loss.append(e)\n",
    "    # gradients\n",
    "    grad_w0 = 2 * np.mean(y_hat - y_train)\n",
    "    grad_w1 = 2 * np.mean(X_train * (y_hat - y_train))\n",
    "    \n",
    "    # gradient descent\n",
    "    \n",
    "    w0 -= lr * grad_w0\n",
    "    w1 -= lr * grad_w1\n",
    "    \n",
    "    print(f\"epoch: {epoch} \\t loss: {e:.2} \\t w0: {w0:.4} \\t w1: {w1:.4}\")\n"
   ]
  },
  {
   "cell_type": "code",
   "execution_count": 30,
   "id": "ae1a8e03-4606-47d0-b25d-cece196ed760",
   "metadata": {},
   "outputs": [
    {
     "name": "stdout",
     "output_type": "stream",
     "text": [
      "w0_real: 2.7, w1_real: 33.86708459143266\n"
     ]
    }
   ],
   "source": [
    "print(f\"w0_real: {w0_real}, w1_real: {w1_real}\")"
   ]
  },
  {
   "cell_type": "code",
   "execution_count": 40,
   "id": "d27855a9-3bf6-4d27-9d26-467b9bcd794d",
   "metadata": {},
   "outputs": [
    {
     "data": {
      "image/png": "[encoded data removed]",
      "text/plain": [
       "<Figure size 640x480 with 1 Axes>"
      ]
     },
     "metadata": {},
     "output_type": "display_data"
    }
   ],
   "source": [
    "plt.scatter(X_train, y_train)\n",
    "plt.plot(X_train, y_hat, 'r')\n",
    "plt.title(f\"y = {w1:.3}x + {w0:.4}\");"
   ]
  },
  {
   "cell_type": "code",
   "execution_count": 89,
   "id": "9bcd3f1a-1708-4559-a4a8-8957f58815b7",
   "metadata": {},
   "outputs": [],
   "source": [
    "np.savetxt(\"Linear-Regression\", np.array([w0, w1]))"
   ]
  },
  {
   "cell_type": "code",
   "execution_count": 90,
   "id": "b4ba0e1c-5736-48c7-a1d4-084e84eccf0e",
   "metadata": {},
   "outputs": [
    {
     "name": "stdout",
     "output_type": "stream",
     "text": [
      "w0: 2.651940111673889\n",
      "w1: 33.92123912155274\n"
     ]
    }
   ],
   "source": [
    "w0, w1 = np.loadtxt(\"Linear-Regression\")\n",
    "print(f\"w0: {w0}\")\n",
    "print(f\"w1: {w1}\")"
   ]
  },
  {
   "cell_type": "code",
   "execution_count": 91,
   "id": "aa1bbc84-d6d1-4151-86b4-88dd5c33a72b",
   "metadata": {},
   "outputs": [
    {
     "name": "stderr",
     "output_type": "stream",
     "text": [
      "/tmp/ipykernel_2575/562274086.py:2: FutureWarning: The frame.append method is deprecated and will be removed from pandas in a future version. Use pandas.concat instead.\n",
      "  model_comp = model_comp.append(pd.DataFrame({'w0': w0,\n"
     ]
    },
    {
     "data": {
      "text/html": [
       "<div>\n",
       "<style scoped>\n",
       "    .dataframe tbody tr th:only-of-type {\n",
       "        vertical-align: middle;\n",
       "    }\n",
       "\n",
       "    .dataframe tbody tr th {\n",
       "        vertical-align: top;\n",
       "    }\n",
       "\n",
       "    .dataframe thead th {\n",
       "        text-align: right;\n",
       "    }\n",
       "</style>\n",
       "<table border=\"1\" class=\"dataframe\">\n",
       "  <thead>\n",
       "    <tr style=\"text-align: right;\">\n",
       "      <th></th>\n",
       "      <th>w0</th>\n",
       "      <th>w1</th>\n",
       "    </tr>\n",
       "  </thead>\n",
       "  <tbody>\n",
       "    <tr>\n",
       "      <th>Custom</th>\n",
       "      <td>2.65194</td>\n",
       "      <td>33.921239</td>\n",
       "    </tr>\n",
       "  </tbody>\n",
       "</table>\n",
       "</div>"
      ],
      "text/plain": [
       "             w0         w1\n",
       "Custom  2.65194  33.921239"
      ]
     },
     "execution_count": 91,
     "metadata": {},
     "output_type": "execute_result"
    }
   ],
   "source": [
    "model_comp = pd.DataFrame()\n",
    "model_comp = model_comp.append(pd.DataFrame({'w0': w0,\n",
    "                                             'w1' : w1},\n",
    "                                            index = ['Custom']), \n",
    "                               ignore_index = False)\n",
    "\n",
    "model_comp"
   ]
  },
  {
   "cell_type": "markdown",
   "id": "6cbd90c1-721e-49fd-8d26-5f28d58ee9f5",
   "metadata": {},
   "source": [
    "## Validation"
   ]
  },
  {
   "cell_type": "code",
   "execution_count": 51,
   "id": "cbd375fc-336d-4e7f-8539-89001d0cf379",
   "metadata": {},
   "outputs": [
    {
     "data": {
      "text/plain": [
       "array([ 51.03839093, -10.25426356, -38.68661997,  14.23466066,\n",
       "       -34.3572651 ,  -0.54872276, -38.20139024,  22.25985382,\n",
       "        39.16842356, -12.13673427, -10.65424442,  37.86243682,\n",
       "        29.80193193,  42.33498824,  53.71139071, -41.46938172,\n",
       "        -1.61732834, -22.30775915, -24.79513641, -46.06154456,\n",
       "         2.27894829,  42.86920852, -27.32568331, -26.88910781,\n",
       "       -21.19602344, -57.75907908, -52.11010364, -17.05826132,\n",
       "        45.50912535, -56.26252811, -34.75209696,  59.35142742,\n",
       "         9.49000274])"
      ]
     },
     "execution_count": 51,
     "metadata": {},
     "output_type": "execute_result"
    }
   ],
   "source": [
    "y_pred_test = linear_regression(X_test, w0, w1)\n",
    "y_pred_test"
   ]
  },
  {
   "cell_type": "code",
   "execution_count": 52,
   "id": "3c362197-f43e-4625-a9ca-355576f9a0da",
   "metadata": {},
   "outputs": [
    {
     "data": {
      "text/plain": [
       "array([ 1.41729905, -0.37917643, -1.21252313,  0.33858905, -1.0856306 ,\n",
       "       -0.09470897, -1.19830114,  0.57380586,  1.06939267, -0.43435128,\n",
       "       -0.39089979,  1.03111446,  0.79486267,  1.16220405,  1.49564414,\n",
       "       -1.29408532, -0.12602959, -0.73246199, -0.80536652, -1.4286807 ,\n",
       "       -0.01183049,  1.17786194, -0.87953634, -0.8667404 , -0.69987723,\n",
       "       -1.7715331 , -1.60596276, -0.57860025,  1.25523737, -1.72766949,\n",
       "       -1.09720305,  1.66095249,  0.19952407])"
      ]
     },
     "execution_count": 52,
     "metadata": {},
     "output_type": "execute_result"
    }
   ],
   "source": [
    "X_test"
   ]
  },
  {
   "cell_type": "code",
   "execution_count": 56,
   "id": "55e4d8ed-50d3-4dd5-9c5f-d97f44f34edd",
   "metadata": {},
   "outputs": [
    {
     "data": {
      "image/png": "[encoded data removed]",
      "text/plain": [
       "<Figure size 640x480 with 1 Axes>"
      ]
     },
     "metadata": {},
     "output_type": "display_data"
    }
   ],
   "source": [
    "plt.scatter(X_test, y_test)\n",
    "plt.scatter(X_test, y_pred_test, color = 'red')\n",
    "plt.grid()"
   ]
  },
  {
   "cell_type": "code",
   "execution_count": 58,
   "id": "7ef2fcc0-35cc-42e0-b3ab-f40c7b5e225e",
   "metadata": {},
   "outputs": [
    {
     "data": {
      "text/plain": [
       "0.9791657365922132"
      ]
     },
     "execution_count": 58,
     "metadata": {},
     "output_type": "execute_result"
    }
   ],
   "source": [
    "def r2(y, y_hat):\n",
    "    return 1 - np.sum((y - y_hat)**2) / np.sum((y - y.mean())**2)\n"
   ]
  },
  {
   "cell_type": "code",
   "execution_count": 59,
   "id": "d36ed5e4-1f84-43cb-9b09-c40f5eee2d8e",
   "metadata": {},
   "outputs": [
    {
     "name": "stdout",
     "output_type": "stream",
     "text": [
      "R2 for Train data is: 0.9824954158289385\n"
     ]
    }
   ],
   "source": [
    "y_pred_train = linear_regression(X_train, w0, w1)\n",
    "r2_train = r2(y_train, y_pred_train)\n",
    "print(f\"R2 for Train data is: {r2_train}\")"
   ]
  },
  {
   "cell_type": "code",
   "execution_count": 60,
   "id": "0f40163e-b029-4ded-ad4d-38e76f3a32e1",
   "metadata": {},
   "outputs": [
    {
     "name": "stdout",
     "output_type": "stream",
     "text": [
      "R2 for Test data is: 0.9791657365922132\n"
     ]
    }
   ],
   "source": [
    "y_pred_test = linear_regression(X_test, w0, w1)\n",
    "r2_test = r2(y_test, y_pred_test)\n",
    "print(f\"R2 for Test data is: {r2_test}\")"
   ]
  },
  {
   "cell_type": "code",
   "execution_count": 62,
   "id": "d3fe82f7-1d17-4f5f-b698-feb37cf9a40c",
   "metadata": {},
   "outputs": [
    {
     "data": {
      "image/png": "[encoded data removed]",
      "text/plain": [
       "<Figure size 640x480 with 1 Axes>"
      ]
     },
     "metadata": {},
     "output_type": "display_data"
    }
   ],
   "source": [
    "plt.scatter(y_train, y_pred_train);"
   ]
  },
  {
   "cell_type": "code",
   "execution_count": 63,
   "id": "e5030697-2743-4bf9-87ab-0dfa5d932af6",
   "metadata": {},
   "outputs": [
    {
     "data": {
      "image/png": "[encoded data removed]",
      "text/plain": [
       "<Figure size 640x480 with 1 Axes>"
      ]
     },
     "metadata": {},
     "output_type": "display_data"
    }
   ],
   "source": [
    "plt.scatter(y_test, y_pred_test)"
   ]
  },
  {
   "cell_type": "markdown",
   "id": "f0bfa3a1-8434-47b5-8459-c076a7f8a2f6",
   "metadata": {},
   "source": [
    "## train with sklearn "
   ]
  },
  {
   "cell_type": "code",
   "execution_count": null,
   "id": "5856083f-551b-40ea-8334-b9a9b8d7e366",
   "metadata": {},
   "outputs": [],
   "source": [
    "from sklearn.linear_model import LinearRegression"
   ]
  },
  {
   "cell_type": "code",
   "execution_count": null,
   "id": "c4a883d1-7563-4943-b491-f2a99f391750",
   "metadata": {},
   "outputs": [
    {
     "name": "stdout",
     "output_type": "stream",
     "text": [
      "w0_real: 2.7, w1_real: 33.86708459143266\n"
     ]
    }
   ],
   "source": [
    "bias = 2.7\n",
    "x_train, y_train, coef = datasets.make_regression(n_samples=100, \n",
    "                                 n_features=1, \n",
    "                                 n_informative=2, \n",
    "                                 n_targets=1, \n",
    "                                 bias=bias, \n",
    "                                 effective_rank=None, \n",
    "                                 tail_strength=0.5, \n",
    "                                 noise=5.5, \n",
    "                                 shuffle=True, \n",
    "                                 coef=True, \n",
    "                                 random_state=123)\n",
    "\n",
    "\n",
    "print(f\"w0_real: {bias}, w1_real: {coef}\")"
   ]
  },
  {
   "cell_type": "code",
   "execution_count": null,
   "id": "cd351859-a1ff-4330-83ae-129e518ec64d",
   "metadata": {},
   "outputs": [
    {
     "data": {
      "text/plain": [
       "(100, 1)"
      ]
     },
     "execution_count": 99,
     "metadata": {},
     "output_type": "execute_result"
    }
   ],
   "source": [
    "x_train.shape"
   ]
  },
  {
   "cell_type": "code",
   "execution_count": null,
   "id": "7c271866-f31a-4749-b8d8-86cb19413e95",
   "metadata": {},
   "outputs": [
    {
     "data": {
      "text/plain": [
       "(100,)"
      ]
     },
     "execution_count": 100,
     "metadata": {},
     "output_type": "execute_result"
    }
   ],
   "source": [
    "y_train.shape"
   ]
  },
  {
   "cell_type": "code",
   "execution_count": null,
   "id": "74168345-536d-4422-847c-d057100c53be",
   "metadata": {},
   "outputs": [
    {
     "data": {
      "text/html": [
       "<style>#sk-container-id-2 {color: black;background-color: white;}#sk-container-id-2 pre{padding: 0;}#sk-container-id-2 div.sk-toggleable {background-color: white;}#sk-container-id-2 label.sk-toggleable__label {cursor: pointer;display: block;width: 100%;margin-bottom: 0;padding: 0.3em;box-sizing: border-box;text-align: center;}#sk-container-id-2 label.sk-toggleable__label-arrow:before {content: \"▸\";float: left;margin-right: 0.25em;color: #696969;}#sk-container-id-2 label.sk-toggleable__label-arrow:hover:before {color: black;}#sk-container-id-2 div.sk-estimator:hover label.sk-toggleable__label-arrow:before {color: black;}#sk-container-id-2 div.sk-toggleable__content {max-height: 0;max-width: 0;overflow: hidden;text-align: left;background-color: #f0f8ff;}#sk-container-id-2 div.sk-toggleable__content pre {margin: 0.2em;color: black;border-radius: 0.25em;background-color: #f0f8ff;}#sk-container-id-2 input.sk-toggleable__control:checked~div.sk-toggleable__content {max-height: 200px;max-width: 100%;overflow: auto;}#sk-container-id-2 input.sk-toggleable__control:checked~label.sk-toggleable__label-arrow:before {content: \"▾\";}#sk-container-id-2 div.sk-estimator input.sk-toggleable__control:checked~label.sk-toggleable__label {background-color: #d4ebff;}#sk-container-id-2 div.sk-label input.sk-toggleable__control:checked~label.sk-toggleable__label {background-color: #d4ebff;}#sk-container-id-2 input.sk-hidden--visually {border: 0;clip: rect(1px 1px 1px 1px);clip: rect(1px, 1px, 1px, 1px);height: 1px;margin: -1px;overflow: hidden;padding: 0;position: absolute;width: 1px;}#sk-container-id-2 div.sk-estimator {font-family: monospace;background-color: #f0f8ff;border: 1px dotted black;border-radius: 0.25em;box-sizing: border-box;margin-bottom: 0.5em;}#sk-container-id-2 div.sk-estimator:hover {background-color: #d4ebff;}#sk-container-id-2 div.sk-parallel-item::after {content: \"\";width: 100%;border-bottom: 1px solid gray;flex-grow: 1;}#sk-container-id-2 div.sk-label:hover label.sk-toggleable__label {background-color: #d4ebff;}#sk-container-id-2 div.sk-serial::before {content: \"\";position: absolute;border-left: 1px solid gray;box-sizing: border-box;top: 0;bottom: 0;left: 50%;z-index: 0;}#sk-container-id-2 div.sk-serial {display: flex;flex-direction: column;align-items: center;background-color: white;padding-right: 0.2em;padding-left: 0.2em;position: relative;}#sk-container-id-2 div.sk-item {position: relative;z-index: 1;}#sk-container-id-2 div.sk-parallel {display: flex;align-items: stretch;justify-content: center;background-color: white;position: relative;}#sk-container-id-2 div.sk-item::before, #sk-container-id-2 div.sk-parallel-item::before {content: \"\";position: absolute;border-left: 1px solid gray;box-sizing: border-box;top: 0;bottom: 0;left: 50%;z-index: -1;}#sk-container-id-2 div.sk-parallel-item {display: flex;flex-direction: column;z-index: 1;position: relative;background-color: white;}#sk-container-id-2 div.sk-parallel-item:first-child::after {align-self: flex-end;width: 50%;}#sk-container-id-2 div.sk-parallel-item:last-child::after {align-self: flex-start;width: 50%;}#sk-container-id-2 div.sk-parallel-item:only-child::after {width: 0;}#sk-container-id-2 div.sk-dashed-wrapped {border: 1px dashed gray;margin: 0 0.4em 0.5em 0.4em;box-sizing: border-box;padding-bottom: 0.4em;background-color: white;}#sk-container-id-2 div.sk-label label {font-family: monospace;font-weight: bold;display: inline-block;line-height: 1.2em;}#sk-container-id-2 div.sk-label-container {text-align: center;}#sk-container-id-2 div.sk-container {/* jupyter's `normalize.less` sets `[hidden] { display: none; }` but bootstrap.min.css set `[hidden] { display: none !important; }` so we also need the `!important` here to be able to override the default hidden behavior on the sphinx rendered scikit-learn.org. See: https://github.com/scikit-learn/scikit-learn/issues/21755 */display: inline-block !important;position: relative;}#sk-container-id-2 div.sk-text-repr-fallback {display: none;}</style><div id=\"sk-container-id-2\" class=\"sk-top-container\"><div class=\"sk-text-repr-fallback\"><pre>LinearRegression()</pre><b>In a Jupyter environment, please rerun this cell to show the HTML representation or trust the notebook. <br />On GitHub, the HTML representation is unable to render, please try loading this page with nbviewer.org.</b></div><div class=\"sk-container\" hidden><div class=\"sk-item\"><div class=\"sk-estimator sk-toggleable\"><input class=\"sk-toggleable__control sk-hidden--visually\" id=\"sk-estimator-id-2\" type=\"checkbox\" checked><label for=\"sk-estimator-id-2\" class=\"sk-toggleable__label sk-toggleable__label-arrow\">LinearRegression</label><div class=\"sk-toggleable__content\"><pre>LinearRegression()</pre></div></div></div></div></div>"
      ],
      "text/plain": [
       "LinearRegression()"
      ]
     },
     "execution_count": 101,
     "metadata": {},
     "output_type": "execute_result"
    }
   ],
   "source": [
    "model = LinearRegression()\n",
    "\n",
    "model.fit(x_train, y_train)"
   ]
  },
  {
   "cell_type": "code",
   "execution_count": null,
   "id": "84c0990a-09b7-41d0-a128-ec265da78e32",
   "metadata": {},
   "outputs": [
    {
     "data": {
      "text/plain": [
       "array([33.92123912])"
      ]
     },
     "execution_count": 102,
     "metadata": {},
     "output_type": "execute_result"
    }
   ],
   "source": [
    "model.coef_"
   ]
  },
  {
   "cell_type": "code",
   "execution_count": null,
   "id": "6c7f11b3-017f-4a7c-b8f7-6a8b93520169",
   "metadata": {},
   "outputs": [
    {
     "data": {
      "text/plain": [
       "2.6519401116738885"
      ]
     },
     "execution_count": 103,
     "metadata": {},
     "output_type": "execute_result"
    }
   ],
   "source": [
    "model.intercept_\n"
   ]
  },
  {
   "cell_type": "code",
   "execution_count": 104,
   "id": "dc233c77-6e5e-4a59-8e04-d6f01d5d7104",
   "metadata": {},
   "outputs": [
    {
     "name": "stderr",
     "output_type": "stream",
     "text": [
      "/tmp/ipykernel_2575/3473405800.py:1: FutureWarning: The frame.append method is deprecated and will be removed from pandas in a future version. Use pandas.concat instead.\n",
      "  model_comp = model_comp.append(pd.DataFrame({'w0': model.intercept_,\n"
     ]
    },
    {
     "data": {
      "text/html": [
       "<div>\n",
       "<style scoped>\n",
       "    .dataframe tbody tr th:only-of-type {\n",
       "        vertical-align: middle;\n",
       "    }\n",
       "\n",
       "    .dataframe tbody tr th {\n",
       "        vertical-align: top;\n",
       "    }\n",
       "\n",
       "    .dataframe thead th {\n",
       "        text-align: right;\n",
       "    }\n",
       "</style>\n",
       "<table border=\"1\" class=\"dataframe\">\n",
       "  <thead>\n",
       "    <tr style=\"text-align: right;\">\n",
       "      <th></th>\n",
       "      <th>w0</th>\n",
       "      <th>w1</th>\n",
       "    </tr>\n",
       "  </thead>\n",
       "  <tbody>\n",
       "    <tr>\n",
       "      <th>Custom</th>\n",
       "      <td>2.65194</td>\n",
       "      <td>33.921239</td>\n",
       "    </tr>\n",
       "    <tr>\n",
       "      <th>sklearn</th>\n",
       "      <td>2.65194</td>\n",
       "      <td>33.921239</td>\n",
       "    </tr>\n",
       "  </tbody>\n",
       "</table>\n",
       "</div>"
      ],
      "text/plain": [
       "              w0         w1\n",
       "Custom   2.65194  33.921239\n",
       "sklearn  2.65194  33.921239"
      ]
     },
     "execution_count": 104,
     "metadata": {},
     "output_type": "execute_result"
    }
   ],
   "source": [
    "model_comp = model_comp.append(pd.DataFrame({'w0': model.intercept_,\n",
    "                                             'w1' : model.coef_},\n",
    "                                            index = ['sklearn']), \n",
    "                               ignore_index = False)\n",
    "\n",
    "model_comp"
   ]
  },
  {
   "cell_type": "code",
   "execution_count": 105,
   "id": "ff0b44a1-299a-41ee-92eb-6e842cb8a5b8",
   "metadata": {},
   "outputs": [
    {
     "data": {
      "text/plain": [
       "0.9819502482138802"
      ]
     },
     "execution_count": 105,
     "metadata": {},
     "output_type": "execute_result"
    }
   ],
   "source": [
    "model.score(x_train, y_train)"
   ]
  },
  {
   "cell_type": "markdown",
   "id": "f1ad8618-503d-4211-a411-c83b3ea1d46a",
   "metadata": {},
   "source": [
    "## stats library"
   ]
  },
  {
   "cell_type": "code",
   "execution_count": 107,
   "id": "b98481ba-af57-4af4-a72c-bb0f31eba111",
   "metadata": {},
   "outputs": [],
   "source": [
    "import statsmodels.api as sm"
   ]
  },
  {
   "cell_type": "code",
   "execution_count": 109,
   "id": "55d4b56b-fa42-44b0-a5d0-baf561270860",
   "metadata": {},
   "outputs": [],
   "source": [
    "x_train = sm.add_constant(x_train)"
   ]
  },
  {
   "cell_type": "code",
   "execution_count": 111,
   "id": "f0a332ad-0761-4328-be42-32d4d77f5dc4",
   "metadata": {},
   "outputs": [],
   "source": [
    "model = sm.OLS(y_train, x_train)"
   ]
  },
  {
   "cell_type": "code",
   "execution_count": 112,
   "id": "130bfa80-c988-41b3-88eb-9cf4973fb189",
   "metadata": {},
   "outputs": [],
   "source": [
    "results = model.fit()"
   ]
  },
  {
   "cell_type": "code",
   "execution_count": 114,
   "id": "4679e938-3587-47de-8399-503bb2e1b280",
   "metadata": {},
   "outputs": [
    {
     "name": "stdout",
     "output_type": "stream",
     "text": [
      "                            OLS Regression Results                            \n",
      "==============================================================================\n",
      "Dep. Variable:                      y   R-squared:                       0.982\n",
      "Model:                            OLS   Adj. R-squared:                  0.982\n",
      "Method:                 Least Squares   F-statistic:                     5331.\n",
      "Date:                Fri, 20 Jan 2023   Prob (F-statistic):           2.99e-87\n",
      "Time:                        21:17:23   Log-Likelihood:                -306.54\n",
      "No. Observations:                 100   AIC:                             617.1\n",
      "Df Residuals:                      98   BIC:                             622.3\n",
      "Df Model:                           1                                         \n",
      "Covariance Type:            nonrobust                                         \n",
      "==============================================================================\n",
      "                 coef    std err          t      P>|t|      [0.025      0.975]\n",
      "------------------------------------------------------------------------------\n",
      "const          2.6519      0.524      5.058      0.000       1.611       3.692\n",
      "x1            33.9212      0.465     73.017      0.000      32.999      34.843\n",
      "==============================================================================\n",
      "Omnibus:                        0.243   Durbin-Watson:                   1.854\n",
      "Prob(Omnibus):                  0.886   Jarque-Bera (JB):                0.057\n",
      "Skew:                          -0.051   Prob(JB):                        0.972\n",
      "Kurtosis:                       3.055   Cond. No.                         1.13\n",
      "==============================================================================\n",
      "\n",
      "Notes:\n",
      "[1] Standard Errors assume that the covariance matrix of the errors is correctly specified.\n"
     ]
    }
   ],
   "source": [
    "print(results.summary())"
   ]
  },
  {
   "cell_type": "code",
   "execution_count": 116,
   "id": "24cec0c5-a2f4-43ad-9a98-437849edbb41",
   "metadata": {},
   "outputs": [
    {
     "data": {
      "text/plain": [
       "array([ 2.65194011, 33.92123912])"
      ]
     },
     "execution_count": 116,
     "metadata": {},
     "output_type": "execute_result"
    }
   ],
   "source": [
    "results.params"
   ]
  },
  {
   "cell_type": "code",
   "execution_count": 119,
   "id": "2cc0fd20-4f1a-4cf2-a4d8-1dbd3442adf8",
   "metadata": {},
   "outputs": [
    {
     "name": "stderr",
     "output_type": "stream",
     "text": [
      "/tmp/ipykernel_2575/373848473.py:1: FutureWarning: The frame.append method is deprecated and will be removed from pandas in a future version. Use pandas.concat instead.\n",
      "  model_comp = model_comp.append(pd.DataFrame({'w0': results.params[0],\n"
     ]
    },
    {
     "data": {
      "text/html": [
       "<div>\n",
       "<style scoped>\n",
       "    .dataframe tbody tr th:only-of-type {\n",
       "        vertical-align: middle;\n",
       "    }\n",
       "\n",
       "    .dataframe tbody tr th {\n",
       "        vertical-align: top;\n",
       "    }\n",
       "\n",
       "    .dataframe thead th {\n",
       "        text-align: right;\n",
       "    }\n",
       "</style>\n",
       "<table border=\"1\" class=\"dataframe\">\n",
       "  <thead>\n",
       "    <tr style=\"text-align: right;\">\n",
       "      <th></th>\n",
       "      <th>w0</th>\n",
       "      <th>w1</th>\n",
       "    </tr>\n",
       "  </thead>\n",
       "  <tbody>\n",
       "    <tr>\n",
       "      <th>Custom</th>\n",
       "      <td>2.65194</td>\n",
       "      <td>33.921239</td>\n",
       "    </tr>\n",
       "    <tr>\n",
       "      <th>sklearn</th>\n",
       "      <td>2.65194</td>\n",
       "      <td>33.921239</td>\n",
       "    </tr>\n",
       "    <tr>\n",
       "      <th>stats</th>\n",
       "      <td>2.65194</td>\n",
       "      <td>33.921239</td>\n",
       "    </tr>\n",
       "  </tbody>\n",
       "</table>\n",
       "</div>"
      ],
      "text/plain": [
       "              w0         w1\n",
       "Custom   2.65194  33.921239\n",
       "sklearn  2.65194  33.921239\n",
       "stats    2.65194  33.921239"
      ]
     },
     "execution_count": 119,
     "metadata": {},
     "output_type": "execute_result"
    }
   ],
   "source": [
    "model_comp = model_comp.append(pd.DataFrame({'w0': results.params[0],\n",
    "                                             'w1' : results.params[1]},\n",
    "                                            index = ['stats']), \n",
    "                               ignore_index = False)\n",
    "\n",
    "model_comp"
   ]
  },
  {
   "cell_type": "code",
   "execution_count": null,
   "id": "47529c2f-958a-466e-acb0-2bcf955d8c69",
   "metadata": {},
   "outputs": [],
   "source": []
  },
  {
   "cell_type": "code",
   "execution_count": null,
   "id": "ee3c4ee3-3985-4d4c-8864-f6fd384440c0",
   "metadata": {},
   "outputs": [],
   "source": []
  },
  {
   "cell_type": "code",
   "execution_count": null,
   "id": "c7f40f02-32b1-4362-b641-ad70e963b900",
   "metadata": {},
   "outputs": [],
   "source": []
  },
  {
   "cell_type": "code",
   "execution_count": null,
   "id": "e2e0cc32-f0da-45c7-b4fb-2de09a3385fe",
   "metadata": {},
   "outputs": [],
   "source": []
  },
  {
   "cell_type": "code",
   "execution_count": null,
   "id": "35dc241f-9355-41af-9cfc-91118a46ef82",
   "metadata": {},
   "outputs": [],
   "source": []
  }
 ],
 "metadata": {
  "kernelspec": {
   "display_name": "Python 3 (ipykernel)",
   "language": "python",
   "name": "python3"
  },
  "language_info": {
   "codemirror_mode": {
    "name": "ipython",
    "version": 3
   },
   "file_extension": ".py",
   "mimetype": "text/x-python",
   "name": "python",
   "nbconvert_exporter": "python",
   "pygments_lexer": "ipython3",
   "version": "3.10.6"
  }
 },
 "nbformat": 4,
 "nbformat_minor": 5
}
