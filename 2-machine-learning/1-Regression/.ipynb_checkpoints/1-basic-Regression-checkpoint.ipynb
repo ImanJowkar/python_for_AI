{
 "cells": [
  {
   "cell_type": "markdown",
   "id": "4b868bf0-54a4-43da-a880-a02eecf92edc",
   "metadata": {},
   "source": [
    "## train by writing algorithm"
   ]
  },
  {
   "cell_type": "code",
   "execution_count": 82,
   "id": "b8e952a2-f0ce-48dc-9cc0-95a49e88a1c6",
   "metadata": {},
   "outputs": [],
   "source": [
    "import numpy as np\n",
    "import pandas as pd\n",
    "import matplotlib.pyplot as plt\n",
    "import sklearn\n",
    "from sklearn import datasets"
   ]
  },
  {
   "cell_type": "code",
   "execution_count": 83,
   "id": "1e9b0e0e-5089-4e54-8807-15749136b2ed",
   "metadata": {},
   "outputs": [
    {
     "name": "stdout",
     "output_type": "stream",
     "text": [
      "w0_real: 2.7, w1_real: 33.86708459143266\n"
     ]
    }
   ],
   "source": [
    "bias = 2.7\n",
    "x_train, y_train, coef = datasets.make_regression(n_samples=100, \n",
    "                                 n_features=1, \n",
    "                                 n_informative=2, \n",
    "                                 n_targets=1, \n",
    "                                 bias=bias, \n",
    "                                 effective_rank=None, \n",
    "                                 tail_strength=0.5, \n",
    "                                 noise=5.5, \n",
    "                                 shuffle=True, \n",
    "                                 coef=True, \n",
    "                                 random_state=123)\n",
    "\n",
    "x_train = x_train.reshape(1, -1)[0]\n",
    "print(f\"w0_real: {bias}, w1_real: {coef}\")"
   ]
  },
  {
   "cell_type": "code",
   "execution_count": 84,
   "id": "b0cfc8c3-a685-49ab-a5f2-485d8875a6b4",
   "metadata": {},
   "outputs": [
    {
     "name": "stdout",
     "output_type": "stream",
     "text": [
      "[-0.09470897 -1.25388067  0.00284592  1.03972709 -0.43435128 -1.19830114\n",
      " -2.42667924 -0.638902    1.41729905 -0.57860025 -0.68886898 -0.77270871\n",
      "  0.92746243  1.17582904  0.16444123  0.97873601 -0.67888615  0.04549008\n",
      " -0.83115498 -0.87953634  1.0040539  -1.09720305  1.75488618 -0.39089979\n",
      "  1.49564414 -0.17363568 -2.12310035 -0.93583387  0.33858905 -0.8667404\n",
      " -0.8617549  -0.69987723  2.18678609  0.19952407  0.9071052  -0.01183049\n",
      "  2.23814334 -1.0859024  -0.73246199  1.65143654 -1.03878821 -1.72766949\n",
      " -1.29408532  2.08711336  0.37940061 -0.33501076  1.49138963  0.41291216\n",
      "  0.31427199  0.28362732  0.57380586  2.39236527 -0.79806274  1.25523737\n",
      "  0.02968323 -0.23309206 -0.80536652  1.26593626 -0.40336604 -1.36347154\n",
      "  1.16220405 -0.14006872 -0.6377515  -1.0856306   0.89070639  1.03111446\n",
      "  0.18103513  0.73736858 -1.32626546  0.3861864  -0.37917643 -0.31475815\n",
      "  0.99734545  2.20593008  0.80723653 -1.4286807   0.79486267 -0.12602959\n",
      " -0.42891263  0.46843912 -2.79858911  1.06939267 -1.21252313  1.49073203\n",
      " -0.83751672 -1.60596276 -1.50629471 -0.25561937  1.17786194  1.06931597\n",
      "  1.66095249 -1.7715331   1.15020554 -1.26735205 -1.08456791 -0.44398196\n",
      "  0.2829785   0.80730819  1.74371223  0.68822271]\n",
      "\n",
      "\n",
      "\n",
      "\n",
      "[ -4.27035065 -35.23768394   4.65462126  38.8388089  -16.32792729\n",
      " -38.90108708 -74.36509725 -25.14480191  50.54831249 -20.56741814\n",
      " -13.14949161 -30.91307116  35.87807767  55.14698369   3.3976528\n",
      "  44.3221618  -12.06042717   2.53564569 -31.15746025 -37.58858193\n",
      "  31.8216915  -37.47004976  69.61462533  -9.66152875  57.42900951\n",
      "  -7.34687317 -74.19240041 -36.78596401  11.2022779  -25.11253898\n",
      " -24.75098836 -27.87717768  68.99430324  18.65788595  33.75888049\n",
      "   8.02824333  80.99381736 -36.60790592 -23.95796042  53.45593687\n",
      " -38.1561781  -47.507593   -42.70625465  72.95120789  17.22178449\n",
      "  -8.93202895  55.05317413  17.56991927   8.88360006   2.16359523\n",
      "  17.7291286   84.24183423 -35.17657019  42.91582713   2.38154714\n",
      "  -4.69884049 -22.5193287   52.92562518  -5.32275933 -41.389722\n",
      "  43.12637127  -3.75137147 -14.15284124 -22.25031542  32.09709605\n",
      "  36.96078772   7.67960859  29.99625207 -34.19147012  16.35247655\n",
      " -10.1932876   -3.06442231  44.35543351  76.11095512  30.09293728\n",
      " -46.41608123  31.70092963   5.42246258 -11.57113559  19.20814906\n",
      " -86.90936343  39.40406381 -45.37392185  52.08277733 -40.27948058\n",
      " -47.99928896 -48.28205321  -9.88505863  40.81135378  37.23996777\n",
      "  51.58879437 -51.426419    30.72654648 -40.09153995 -33.85959071\n",
      " -13.07187375  11.5502134   29.60237799  70.67172832  29.67946208]\n"
     ]
    }
   ],
   "source": [
    "print(x_train)\n",
    "print(\"\\n\\n\\n\")\n",
    "print(y_train)"
   ]
  },
  {
   "cell_type": "code",
   "execution_count": 85,
   "id": "b969ebf3-9dfa-4b54-9acf-98abe0288e22",
   "metadata": {},
   "outputs": [],
   "source": [
    "def linear_regression(x, w0, w1):\n",
    "    y_hat = w1*x + w0\n",
    "    return y_hat\n",
    "\n",
    "def mse(y, y_hat):\n",
    "    loss = np.mean((y - y_hat)**2)\n",
    "    return loss"
   ]
  },
  {
   "cell_type": "code",
   "execution_count": 86,
   "id": "335104b8-9159-4987-9d0e-05b7cc978196",
   "metadata": {
    "tags": []
   },
   "outputs": [
    {
     "name": "stdout",
     "output_type": "stream",
     "text": [
      "epoch: 0 \t loss: 1.5e+03 \t w0: 2.074 \t w1: 25.92\n",
      "epoch: 1 \t loss: 1.1e+02 \t w0: 2.551 \t w1: 32.04\n",
      "epoch: 2 \t loss: 3.1e+01 \t w0: 2.642 \t w1: 33.48\n",
      "epoch: 3 \t loss: 2.7e+01 \t w0: 2.655 \t w1: 33.82\n",
      "epoch: 4 \t loss: 2.7e+01 \t w0: 2.655 \t w1: 33.9\n",
      "epoch: 5 \t loss: 2.7e+01 \t w0: 2.654 \t w1: 33.92\n",
      "epoch: 6 \t loss: 2.7e+01 \t w0: 2.653 \t w1: 33.92\n",
      "epoch: 7 \t loss: 2.7e+01 \t w0: 2.652 \t w1: 33.92\n",
      "epoch: 8 \t loss: 2.7e+01 \t w0: 2.652 \t w1: 33.92\n",
      "epoch: 9 \t loss: 2.7e+01 \t w0: 2.652 \t w1: 33.92\n",
      "epoch: 10 \t loss: 2.7e+01 \t w0: 2.652 \t w1: 33.92\n",
      "epoch: 11 \t loss: 2.7e+01 \t w0: 2.652 \t w1: 33.92\n",
      "epoch: 12 \t loss: 2.7e+01 \t w0: 2.652 \t w1: 33.92\n",
      "epoch: 13 \t loss: 2.7e+01 \t w0: 2.652 \t w1: 33.92\n",
      "epoch: 14 \t loss: 2.7e+01 \t w0: 2.652 \t w1: 33.92\n",
      "epoch: 15 \t loss: 2.7e+01 \t w0: 2.652 \t w1: 33.92\n",
      "epoch: 16 \t loss: 2.7e+01 \t w0: 2.652 \t w1: 33.92\n",
      "epoch: 17 \t loss: 2.7e+01 \t w0: 2.652 \t w1: 33.92\n",
      "epoch: 18 \t loss: 2.7e+01 \t w0: 2.652 \t w1: 33.92\n",
      "epoch: 19 \t loss: 2.7e+01 \t w0: 2.652 \t w1: 33.92\n",
      "epoch: 20 \t loss: 2.7e+01 \t w0: 2.652 \t w1: 33.92\n",
      "epoch: 21 \t loss: 2.7e+01 \t w0: 2.652 \t w1: 33.92\n",
      "epoch: 22 \t loss: 2.7e+01 \t w0: 2.652 \t w1: 33.92\n",
      "epoch: 23 \t loss: 2.7e+01 \t w0: 2.652 \t w1: 33.92\n",
      "epoch: 24 \t loss: 2.7e+01 \t w0: 2.652 \t w1: 33.92\n",
      "epoch: 25 \t loss: 2.7e+01 \t w0: 2.652 \t w1: 33.92\n",
      "epoch: 26 \t loss: 2.7e+01 \t w0: 2.652 \t w1: 33.92\n",
      "epoch: 27 \t loss: 2.7e+01 \t w0: 2.652 \t w1: 33.92\n",
      "epoch: 28 \t loss: 2.7e+01 \t w0: 2.652 \t w1: 33.92\n",
      "epoch: 29 \t loss: 2.7e+01 \t w0: 2.652 \t w1: 33.92\n",
      "epoch: 30 \t loss: 2.7e+01 \t w0: 2.652 \t w1: 33.92\n",
      "epoch: 31 \t loss: 2.7e+01 \t w0: 2.652 \t w1: 33.92\n",
      "epoch: 32 \t loss: 2.7e+01 \t w0: 2.652 \t w1: 33.92\n",
      "epoch: 33 \t loss: 2.7e+01 \t w0: 2.652 \t w1: 33.92\n",
      "epoch: 34 \t loss: 2.7e+01 \t w0: 2.652 \t w1: 33.92\n",
      "epoch: 35 \t loss: 2.7e+01 \t w0: 2.652 \t w1: 33.92\n",
      "epoch: 36 \t loss: 2.7e+01 \t w0: 2.652 \t w1: 33.92\n",
      "epoch: 37 \t loss: 2.7e+01 \t w0: 2.652 \t w1: 33.92\n",
      "epoch: 38 \t loss: 2.7e+01 \t w0: 2.652 \t w1: 33.92\n",
      "epoch: 39 \t loss: 2.7e+01 \t w0: 2.652 \t w1: 33.92\n",
      "epoch: 40 \t loss: 2.7e+01 \t w0: 2.652 \t w1: 33.92\n",
      "epoch: 41 \t loss: 2.7e+01 \t w0: 2.652 \t w1: 33.92\n",
      "epoch: 42 \t loss: 2.7e+01 \t w0: 2.652 \t w1: 33.92\n",
      "epoch: 43 \t loss: 2.7e+01 \t w0: 2.652 \t w1: 33.92\n",
      "epoch: 44 \t loss: 2.7e+01 \t w0: 2.652 \t w1: 33.92\n",
      "epoch: 45 \t loss: 2.7e+01 \t w0: 2.652 \t w1: 33.92\n",
      "epoch: 46 \t loss: 2.7e+01 \t w0: 2.652 \t w1: 33.92\n",
      "epoch: 47 \t loss: 2.7e+01 \t w0: 2.652 \t w1: 33.92\n",
      "epoch: 48 \t loss: 2.7e+01 \t w0: 2.652 \t w1: 33.92\n",
      "epoch: 49 \t loss: 2.7e+01 \t w0: 2.652 \t w1: 33.92\n",
      "epoch: 50 \t loss: 2.7e+01 \t w0: 2.652 \t w1: 33.92\n",
      "epoch: 51 \t loss: 2.7e+01 \t w0: 2.652 \t w1: 33.92\n",
      "epoch: 52 \t loss: 2.7e+01 \t w0: 2.652 \t w1: 33.92\n",
      "epoch: 53 \t loss: 2.7e+01 \t w0: 2.652 \t w1: 33.92\n",
      "epoch: 54 \t loss: 2.7e+01 \t w0: 2.652 \t w1: 33.92\n",
      "epoch: 55 \t loss: 2.7e+01 \t w0: 2.652 \t w1: 33.92\n",
      "epoch: 56 \t loss: 2.7e+01 \t w0: 2.652 \t w1: 33.92\n",
      "epoch: 57 \t loss: 2.7e+01 \t w0: 2.652 \t w1: 33.92\n",
      "epoch: 58 \t loss: 2.7e+01 \t w0: 2.652 \t w1: 33.92\n",
      "epoch: 59 \t loss: 2.7e+01 \t w0: 2.652 \t w1: 33.92\n",
      "epoch: 60 \t loss: 2.7e+01 \t w0: 2.652 \t w1: 33.92\n",
      "epoch: 61 \t loss: 2.7e+01 \t w0: 2.652 \t w1: 33.92\n",
      "epoch: 62 \t loss: 2.7e+01 \t w0: 2.652 \t w1: 33.92\n",
      "epoch: 63 \t loss: 2.7e+01 \t w0: 2.652 \t w1: 33.92\n",
      "epoch: 64 \t loss: 2.7e+01 \t w0: 2.652 \t w1: 33.92\n",
      "epoch: 65 \t loss: 2.7e+01 \t w0: 2.652 \t w1: 33.92\n",
      "epoch: 66 \t loss: 2.7e+01 \t w0: 2.652 \t w1: 33.92\n",
      "epoch: 67 \t loss: 2.7e+01 \t w0: 2.652 \t w1: 33.92\n",
      "epoch: 68 \t loss: 2.7e+01 \t w0: 2.652 \t w1: 33.92\n",
      "epoch: 69 \t loss: 2.7e+01 \t w0: 2.652 \t w1: 33.92\n",
      "epoch: 70 \t loss: 2.7e+01 \t w0: 2.652 \t w1: 33.92\n",
      "epoch: 71 \t loss: 2.7e+01 \t w0: 2.652 \t w1: 33.92\n",
      "epoch: 72 \t loss: 2.7e+01 \t w0: 2.652 \t w1: 33.92\n",
      "epoch: 73 \t loss: 2.7e+01 \t w0: 2.652 \t w1: 33.92\n",
      "epoch: 74 \t loss: 2.7e+01 \t w0: 2.652 \t w1: 33.92\n",
      "epoch: 75 \t loss: 2.7e+01 \t w0: 2.652 \t w1: 33.92\n",
      "epoch: 76 \t loss: 2.7e+01 \t w0: 2.652 \t w1: 33.92\n",
      "epoch: 77 \t loss: 2.7e+01 \t w0: 2.652 \t w1: 33.92\n",
      "epoch: 78 \t loss: 2.7e+01 \t w0: 2.652 \t w1: 33.92\n",
      "epoch: 79 \t loss: 2.7e+01 \t w0: 2.652 \t w1: 33.92\n",
      "epoch: 80 \t loss: 2.7e+01 \t w0: 2.652 \t w1: 33.92\n",
      "epoch: 81 \t loss: 2.7e+01 \t w0: 2.652 \t w1: 33.92\n",
      "epoch: 82 \t loss: 2.7e+01 \t w0: 2.652 \t w1: 33.92\n",
      "epoch: 83 \t loss: 2.7e+01 \t w0: 2.652 \t w1: 33.92\n",
      "epoch: 84 \t loss: 2.7e+01 \t w0: 2.652 \t w1: 33.92\n",
      "epoch: 85 \t loss: 2.7e+01 \t w0: 2.652 \t w1: 33.92\n",
      "epoch: 86 \t loss: 2.7e+01 \t w0: 2.652 \t w1: 33.92\n",
      "epoch: 87 \t loss: 2.7e+01 \t w0: 2.652 \t w1: 33.92\n",
      "epoch: 88 \t loss: 2.7e+01 \t w0: 2.652 \t w1: 33.92\n",
      "epoch: 89 \t loss: 2.7e+01 \t w0: 2.652 \t w1: 33.92\n",
      "epoch: 90 \t loss: 2.7e+01 \t w0: 2.652 \t w1: 33.92\n",
      "epoch: 91 \t loss: 2.7e+01 \t w0: 2.652 \t w1: 33.92\n",
      "epoch: 92 \t loss: 2.7e+01 \t w0: 2.652 \t w1: 33.92\n",
      "epoch: 93 \t loss: 2.7e+01 \t w0: 2.652 \t w1: 33.92\n",
      "epoch: 94 \t loss: 2.7e+01 \t w0: 2.652 \t w1: 33.92\n",
      "epoch: 95 \t loss: 2.7e+01 \t w0: 2.652 \t w1: 33.92\n",
      "epoch: 96 \t loss: 2.7e+01 \t w0: 2.652 \t w1: 33.92\n",
      "epoch: 97 \t loss: 2.7e+01 \t w0: 2.652 \t w1: 33.92\n",
      "epoch: 98 \t loss: 2.7e+01 \t w0: 2.652 \t w1: 33.92\n",
      "epoch: 99 \t loss: 2.7e+01 \t w0: 2.652 \t w1: 33.92\n"
     ]
    }
   ],
   "source": [
    "w0, w1 = np.random.randn(), np.random.randn()\n",
    "lr = 0.3\n",
    "n_epochs = 100\n",
    "loss = []\n",
    "for epoch in range(n_epochs):\n",
    "    # predictions\n",
    "    y_hat = linear_regression(x_train, w0, w1)\n",
    "    \n",
    "    # loss\n",
    "    e = mse(y_train, y_hat)\n",
    "    loss.append(e)\n",
    "    # gradients\n",
    "    grad_w0 = 2 * np.mean(y_hat - y_train)\n",
    "    grad_w1 = 2 * np.mean(x_train * (y_hat - y_train))\n",
    "    \n",
    "    # gradient descent\n",
    "    \n",
    "    w0 -= lr * grad_w0\n",
    "    w1 -= lr * grad_w1\n",
    "    \n",
    "    print(f\"epoch: {epoch} \\t loss: {e:.2} \\t w0: {w0:.4} \\t w1: {w1:.4}\")\n"
   ]
  },
  {
   "cell_type": "code",
   "execution_count": 87,
   "id": "ae1a8e03-4606-47d0-b25d-cece196ed760",
   "metadata": {},
   "outputs": [
    {
     "name": "stdout",
     "output_type": "stream",
     "text": [
      "w1: 33.86708459143266, w0: 2.7\n"
     ]
    }
   ],
   "source": [
    "print(f\"w1: {coef}, w0: {bias}\")"
   ]
  },
  {
   "cell_type": "code",
   "execution_count": 88,
   "id": "d27855a9-3bf6-4d27-9d26-467b9bcd794d",
   "metadata": {},
   "outputs": [
    {
     "data": {
      "text/plain": [
       "[<matplotlib.lines.Line2D at 0x7f9af4723f10>]"
      ]
     },
     "execution_count": 88,
     "metadata": {},
     "output_type": "execute_result"
    },
    {
     "data": {
      "image/png": "[encoded data removed]",
      "text/plain": [
       "<Figure size 640x480 with 1 Axes>"
      ]
     },
     "metadata": {},
     "output_type": "display_data"
    }
   ],
   "source": [
    "plt.scatter(x_train, y_train)\n",
    "plt.plot(x_train, y_hat, 'r')"
   ]
  },
  {
   "cell_type": "code",
   "execution_count": 89,
   "id": "9bcd3f1a-1708-4559-a4a8-8957f58815b7",
   "metadata": {},
   "outputs": [],
   "source": [
    "np.savetxt(\"Linear-Regression\", np.array([w0, w1]))"
   ]
  },
  {
   "cell_type": "code",
   "execution_count": 90,
   "id": "b4ba0e1c-5736-48c7-a1d4-084e84eccf0e",
   "metadata": {},
   "outputs": [
    {
     "name": "stdout",
     "output_type": "stream",
     "text": [
      "w0: 2.651940111673889\n",
      "w1: 33.92123912155274\n"
     ]
    }
   ],
   "source": [
    "w0, w1 = np.loadtxt(\"Linear-Regression\")\n",
    "print(f\"w0: {w0}\")\n",
    "print(f\"w1: {w1}\")"
   ]
  },
  {
   "cell_type": "code",
   "execution_count": 91,
   "id": "aa1bbc84-d6d1-4151-86b4-88dd5c33a72b",
   "metadata": {},
   "outputs": [
    {
     "name": "stderr",
     "output_type": "stream",
     "text": [
      "/tmp/ipykernel_2575/562274086.py:2: FutureWarning: The frame.append method is deprecated and will be removed from pandas in a future version. Use pandas.concat instead.\n",
      "  model_comp = model_comp.append(pd.DataFrame({'w0': w0,\n"
     ]
    },
    {
     "data": {
      "text/html": [
       "<div>\n",
       "<style scoped>\n",
       "    .dataframe tbody tr th:only-of-type {\n",
       "        vertical-align: middle;\n",
       "    }\n",
       "\n",
       "    .dataframe tbody tr th {\n",
       "        vertical-align: top;\n",
       "    }\n",
       "\n",
       "    .dataframe thead th {\n",
       "        text-align: right;\n",
       "    }\n",
       "</style>\n",
       "<table border=\"1\" class=\"dataframe\">\n",
       "  <thead>\n",
       "    <tr style=\"text-align: right;\">\n",
       "      <th></th>\n",
       "      <th>w0</th>\n",
       "      <th>w1</th>\n",
       "    </tr>\n",
       "  </thead>\n",
       "  <tbody>\n",
       "    <tr>\n",
       "      <th>Custom</th>\n",
       "      <td>2.65194</td>\n",
       "      <td>33.921239</td>\n",
       "    </tr>\n",
       "  </tbody>\n",
       "</table>\n",
       "</div>"
      ],
      "text/plain": [
       "             w0         w1\n",
       "Custom  2.65194  33.921239"
      ]
     },
     "execution_count": 91,
     "metadata": {},
     "output_type": "execute_result"
    }
   ],
   "source": [
    "model_comp = pd.DataFrame()\n",
    "model_comp = model_comp.append(pd.DataFrame({'w0': w0,\n",
    "                                             'w1' : w1},\n",
    "                                            index = ['Custom']), \n",
    "                               ignore_index = False)\n",
    "\n",
    "model_comp"
   ]
  },
  {
   "cell_type": "markdown",
   "id": "6cbd90c1-721e-49fd-8d26-5f28d58ee9f5",
   "metadata": {},
   "source": [
    "## Validation"
   ]
  },
  {
   "cell_type": "code",
   "execution_count": 92,
   "id": "c340b8cf-e77b-45fd-a27a-3dce25f5498d",
   "metadata": {},
   "outputs": [
    {
     "data": {
      "text/plain": [
       "(-2.7985891054607244, 2.392365265937726)"
      ]
     },
     "execution_count": 92,
     "metadata": {},
     "output_type": "execute_result"
    }
   ],
   "source": [
    "x_train.min(), x_train.max()"
   ]
  },
  {
   "cell_type": "code",
   "execution_count": 93,
   "id": "30ba81fc-a341-4b8a-ab4e-345f4261da2c",
   "metadata": {},
   "outputs": [
    {
     "data": {
      "text/plain": [
       "array([ 0.434, -2.4  , -1.55 ])"
      ]
     },
     "execution_count": 93,
     "metadata": {},
     "output_type": "execute_result"
    }
   ],
   "source": [
    "x_val = np.array([0.434, -2.4, -1.55])\n",
    "x_val"
   ]
  },
  {
   "cell_type": "code",
   "execution_count": 94,
   "id": "cbd375fc-336d-4e7f-8539-89001d0cf379",
   "metadata": {},
   "outputs": [
    {
     "data": {
      "text/plain": [
       "array([ 17.37375789, -78.75903378, -49.92598053])"
      ]
     },
     "execution_count": 94,
     "metadata": {},
     "output_type": "execute_result"
    }
   ],
   "source": [
    "y_pred_val = linear_regression(x_val, w0, w1)\n",
    "y_pred_val"
   ]
  },
  {
   "cell_type": "code",
   "execution_count": 95,
   "id": "55e4d8ed-50d3-4dd5-9c5f-d97f44f34edd",
   "metadata": {},
   "outputs": [
    {
     "data": {
      "image/png": "[encoded data removed]",
      "text/plain": [
       "<Figure size 640x480 with 1 Axes>"
      ]
     },
     "metadata": {},
     "output_type": "display_data"
    }
   ],
   "source": [
    "plt.scatter(x_train, y_train)\n",
    "plt.plot(x_train, y_hat, 'r')\n",
    "plt.scatter(x_val, y_pred_val, color = 'black')\n",
    "plt.grid()"
   ]
  },
  {
   "cell_type": "code",
   "execution_count": 96,
   "id": "7ef2fcc0-35cc-42e0-b3ab-f40c7b5e225e",
   "metadata": {},
   "outputs": [
    {
     "data": {
      "text/plain": [
       "0.9819502482138802"
      ]
     },
     "execution_count": 96,
     "metadata": {},
     "output_type": "execute_result"
    }
   ],
   "source": [
    "def r2(y, y_hat):\n",
    "    return 1 - np.sum((y - y_hat)**2) / np.sum((y - y.mean())**2)\n",
    "\n",
    "r2(y_train, y_hat)"
   ]
  },
  {
   "cell_type": "markdown",
   "id": "f0bfa3a1-8434-47b5-8459-c076a7f8a2f6",
   "metadata": {},
   "source": [
    "## train with sklearn "
   ]
  },
  {
   "cell_type": "code",
   "execution_count": 97,
   "id": "5856083f-551b-40ea-8334-b9a9b8d7e366",
   "metadata": {},
   "outputs": [],
   "source": [
    "from sklearn.linear_model import LinearRegression"
   ]
  },
  {
   "cell_type": "code",
   "execution_count": 98,
   "id": "c4a883d1-7563-4943-b491-f2a99f391750",
   "metadata": {},
   "outputs": [
    {
     "name": "stdout",
     "output_type": "stream",
     "text": [
      "w0_real: 2.7, w1_real: 33.86708459143266\n"
     ]
    }
   ],
   "source": [
    "bias = 2.7\n",
    "x_train, y_train, coef = datasets.make_regression(n_samples=100, \n",
    "                                 n_features=1, \n",
    "                                 n_informative=2, \n",
    "                                 n_targets=1, \n",
    "                                 bias=bias, \n",
    "                                 effective_rank=None, \n",
    "                                 tail_strength=0.5, \n",
    "                                 noise=5.5, \n",
    "                                 shuffle=True, \n",
    "                                 coef=True, \n",
    "                                 random_state=123)\n",
    "\n",
    "\n",
    "print(f\"w0_real: {bias}, w1_real: {coef}\")"
   ]
  },
  {
   "cell_type": "code",
   "execution_count": 99,
   "id": "cd351859-a1ff-4330-83ae-129e518ec64d",
   "metadata": {},
   "outputs": [
    {
     "data": {
      "text/plain": [
       "(100, 1)"
      ]
     },
     "execution_count": 99,
     "metadata": {},
     "output_type": "execute_result"
    }
   ],
   "source": [
    "x_train.shape"
   ]
  },
  {
   "cell_type": "code",
   "execution_count": 100,
   "id": "7c271866-f31a-4749-b8d8-86cb19413e95",
   "metadata": {},
   "outputs": [
    {
     "data": {
      "text/plain": [
       "(100,)"
      ]
     },
     "execution_count": 100,
     "metadata": {},
     "output_type": "execute_result"
    }
   ],
   "source": [
    "y_train.shape"
   ]
  },
  {
   "cell_type": "code",
   "execution_count": 101,
   "id": "74168345-536d-4422-847c-d057100c53be",
   "metadata": {},
   "outputs": [
    {
     "data": {
      "text/html": [
       "<style>#sk-container-id-2 {color: black;background-color: white;}#sk-container-id-2 pre{padding: 0;}#sk-container-id-2 div.sk-toggleable {background-color: white;}#sk-container-id-2 label.sk-toggleable__label {cursor: pointer;display: block;width: 100%;margin-bottom: 0;padding: 0.3em;box-sizing: border-box;text-align: center;}#sk-container-id-2 label.sk-toggleable__label-arrow:before {content: \"▸\";float: left;margin-right: 0.25em;color: #696969;}#sk-container-id-2 label.sk-toggleable__label-arrow:hover:before {color: black;}#sk-container-id-2 div.sk-estimator:hover label.sk-toggleable__label-arrow:before {color: black;}#sk-container-id-2 div.sk-toggleable__content {max-height: 0;max-width: 0;overflow: hidden;text-align: left;background-color: #f0f8ff;}#sk-container-id-2 div.sk-toggleable__content pre {margin: 0.2em;color: black;border-radius: 0.25em;background-color: #f0f8ff;}#sk-container-id-2 input.sk-toggleable__control:checked~div.sk-toggleable__content {max-height: 200px;max-width: 100%;overflow: auto;}#sk-container-id-2 input.sk-toggleable__control:checked~label.sk-toggleable__label-arrow:before {content: \"▾\";}#sk-container-id-2 div.sk-estimator input.sk-toggleable__control:checked~label.sk-toggleable__label {background-color: #d4ebff;}#sk-container-id-2 div.sk-label input.sk-toggleable__control:checked~label.sk-toggleable__label {background-color: #d4ebff;}#sk-container-id-2 input.sk-hidden--visually {border: 0;clip: rect(1px 1px 1px 1px);clip: rect(1px, 1px, 1px, 1px);height: 1px;margin: -1px;overflow: hidden;padding: 0;position: absolute;width: 1px;}#sk-container-id-2 div.sk-estimator {font-family: monospace;background-color: #f0f8ff;border: 1px dotted black;border-radius: 0.25em;box-sizing: border-box;margin-bottom: 0.5em;}#sk-container-id-2 div.sk-estimator:hover {background-color: #d4ebff;}#sk-container-id-2 div.sk-parallel-item::after {content: \"\";width: 100%;border-bottom: 1px solid gray;flex-grow: 1;}#sk-container-id-2 div.sk-label:hover label.sk-toggleable__label {background-color: #d4ebff;}#sk-container-id-2 div.sk-serial::before {content: \"\";position: absolute;border-left: 1px solid gray;box-sizing: border-box;top: 0;bottom: 0;left: 50%;z-index: 0;}#sk-container-id-2 div.sk-serial {display: flex;flex-direction: column;align-items: center;background-color: white;padding-right: 0.2em;padding-left: 0.2em;position: relative;}#sk-container-id-2 div.sk-item {position: relative;z-index: 1;}#sk-container-id-2 div.sk-parallel {display: flex;align-items: stretch;justify-content: center;background-color: white;position: relative;}#sk-container-id-2 div.sk-item::before, #sk-container-id-2 div.sk-parallel-item::before {content: \"\";position: absolute;border-left: 1px solid gray;box-sizing: border-box;top: 0;bottom: 0;left: 50%;z-index: -1;}#sk-container-id-2 div.sk-parallel-item {display: flex;flex-direction: column;z-index: 1;position: relative;background-color: white;}#sk-container-id-2 div.sk-parallel-item:first-child::after {align-self: flex-end;width: 50%;}#sk-container-id-2 div.sk-parallel-item:last-child::after {align-self: flex-start;width: 50%;}#sk-container-id-2 div.sk-parallel-item:only-child::after {width: 0;}#sk-container-id-2 div.sk-dashed-wrapped {border: 1px dashed gray;margin: 0 0.4em 0.5em 0.4em;box-sizing: border-box;padding-bottom: 0.4em;background-color: white;}#sk-container-id-2 div.sk-label label {font-family: monospace;font-weight: bold;display: inline-block;line-height: 1.2em;}#sk-container-id-2 div.sk-label-container {text-align: center;}#sk-container-id-2 div.sk-container {/* jupyter's `normalize.less` sets `[hidden] { display: none; }` but bootstrap.min.css set `[hidden] { display: none !important; }` so we also need the `!important` here to be able to override the default hidden behavior on the sphinx rendered scikit-learn.org. See: https://github.com/scikit-learn/scikit-learn/issues/21755 */display: inline-block !important;position: relative;}#sk-container-id-2 div.sk-text-repr-fallback {display: none;}</style><div id=\"sk-container-id-2\" class=\"sk-top-container\"><div class=\"sk-text-repr-fallback\"><pre>LinearRegression()</pre><b>In a Jupyter environment, please rerun this cell to show the HTML representation or trust the notebook. <br />On GitHub, the HTML representation is unable to render, please try loading this page with nbviewer.org.</b></div><div class=\"sk-container\" hidden><div class=\"sk-item\"><div class=\"sk-estimator sk-toggleable\"><input class=\"sk-toggleable__control sk-hidden--visually\" id=\"sk-estimator-id-2\" type=\"checkbox\" checked><label for=\"sk-estimator-id-2\" class=\"sk-toggleable__label sk-toggleable__label-arrow\">LinearRegression</label><div class=\"sk-toggleable__content\"><pre>LinearRegression()</pre></div></div></div></div></div>"
      ],
      "text/plain": [
       "LinearRegression()"
      ]
     },
     "execution_count": 101,
     "metadata": {},
     "output_type": "execute_result"
    }
   ],
   "source": [
    "model = LinearRegression()\n",
    "\n",
    "model.fit(x_train, y_train)"
   ]
  },
  {
   "cell_type": "code",
   "execution_count": 102,
   "id": "84c0990a-09b7-41d0-a128-ec265da78e32",
   "metadata": {},
   "outputs": [
    {
     "data": {
      "text/plain": [
       "array([33.92123912])"
      ]
     },
     "execution_count": 102,
     "metadata": {},
     "output_type": "execute_result"
    }
   ],
   "source": [
    "model.coef_"
   ]
  },
  {
   "cell_type": "code",
   "execution_count": 103,
   "id": "6c7f11b3-017f-4a7c-b8f7-6a8b93520169",
   "metadata": {},
   "outputs": [
    {
     "data": {
      "text/plain": [
       "2.6519401116738885"
      ]
     },
     "execution_count": 103,
     "metadata": {},
     "output_type": "execute_result"
    }
   ],
   "source": [
    "model.intercept_\n"
   ]
  },
  {
   "cell_type": "code",
   "execution_count": 104,
   "id": "dc233c77-6e5e-4a59-8e04-d6f01d5d7104",
   "metadata": {},
   "outputs": [
    {
     "name": "stderr",
     "output_type": "stream",
     "text": [
      "/tmp/ipykernel_2575/3473405800.py:1: FutureWarning: The frame.append method is deprecated and will be removed from pandas in a future version. Use pandas.concat instead.\n",
      "  model_comp = model_comp.append(pd.DataFrame({'w0': model.intercept_,\n"
     ]
    },
    {
     "data": {
      "text/html": [
       "<div>\n",
       "<style scoped>\n",
       "    .dataframe tbody tr th:only-of-type {\n",
       "        vertical-align: middle;\n",
       "    }\n",
       "\n",
       "    .dataframe tbody tr th {\n",
       "        vertical-align: top;\n",
       "    }\n",
       "\n",
       "    .dataframe thead th {\n",
       "        text-align: right;\n",
       "    }\n",
       "</style>\n",
       "<table border=\"1\" class=\"dataframe\">\n",
       "  <thead>\n",
       "    <tr style=\"text-align: right;\">\n",
       "      <th></th>\n",
       "      <th>w0</th>\n",
       "      <th>w1</th>\n",
       "    </tr>\n",
       "  </thead>\n",
       "  <tbody>\n",
       "    <tr>\n",
       "      <th>Custom</th>\n",
       "      <td>2.65194</td>\n",
       "      <td>33.921239</td>\n",
       "    </tr>\n",
       "    <tr>\n",
       "      <th>sklearn</th>\n",
       "      <td>2.65194</td>\n",
       "      <td>33.921239</td>\n",
       "    </tr>\n",
       "  </tbody>\n",
       "</table>\n",
       "</div>"
      ],
      "text/plain": [
       "              w0         w1\n",
       "Custom   2.65194  33.921239\n",
       "sklearn  2.65194  33.921239"
      ]
     },
     "execution_count": 104,
     "metadata": {},
     "output_type": "execute_result"
    }
   ],
   "source": [
    "model_comp = model_comp.append(pd.DataFrame({'w0': model.intercept_,\n",
    "                                             'w1' : model.coef_},\n",
    "                                            index = ['sklearn']), \n",
    "                               ignore_index = False)\n",
    "\n",
    "model_comp"
   ]
  },
  {
   "cell_type": "code",
   "execution_count": 105,
   "id": "ff0b44a1-299a-41ee-92eb-6e842cb8a5b8",
   "metadata": {},
   "outputs": [
    {
     "data": {
      "text/plain": [
       "0.9819502482138802"
      ]
     },
     "execution_count": 105,
     "metadata": {},
     "output_type": "execute_result"
    }
   ],
   "source": [
    "model.score(x_train, y_train)"
   ]
  },
  {
   "cell_type": "markdown",
   "id": "f1ad8618-503d-4211-a411-c83b3ea1d46a",
   "metadata": {},
   "source": [
    "## stats library"
   ]
  },
  {
   "cell_type": "code",
   "execution_count": 107,
   "id": "b98481ba-af57-4af4-a72c-bb0f31eba111",
   "metadata": {},
   "outputs": [],
   "source": [
    "import statsmodels.api as sm"
   ]
  },
  {
   "cell_type": "code",
   "execution_count": 109,
   "id": "55d4b56b-fa42-44b0-a5d0-baf561270860",
   "metadata": {},
   "outputs": [],
   "source": [
    "x_train = sm.add_constant(x_train)"
   ]
  },
  {
   "cell_type": "code",
   "execution_count": 111,
   "id": "f0a332ad-0761-4328-be42-32d4d77f5dc4",
   "metadata": {},
   "outputs": [],
   "source": [
    "model = sm.OLS(y_train, x_train)"
   ]
  },
  {
   "cell_type": "code",
   "execution_count": 112,
   "id": "130bfa80-c988-41b3-88eb-9cf4973fb189",
   "metadata": {},
   "outputs": [],
   "source": [
    "results = model.fit()"
   ]
  },
  {
   "cell_type": "code",
   "execution_count": 114,
   "id": "4679e938-3587-47de-8399-503bb2e1b280",
   "metadata": {},
   "outputs": [
    {
     "name": "stdout",
     "output_type": "stream",
     "text": [
      "                            OLS Regression Results                            \n",
      "==============================================================================\n",
      "Dep. Variable:                      y   R-squared:                       0.982\n",
      "Model:                            OLS   Adj. R-squared:                  0.982\n",
      "Method:                 Least Squares   F-statistic:                     5331.\n",
      "Date:                Fri, 20 Jan 2023   Prob (F-statistic):           2.99e-87\n",
      "Time:                        21:17:23   Log-Likelihood:                -306.54\n",
      "No. Observations:                 100   AIC:                             617.1\n",
      "Df Residuals:                      98   BIC:                             622.3\n",
      "Df Model:                           1                                         \n",
      "Covariance Type:            nonrobust                                         \n",
      "==============================================================================\n",
      "                 coef    std err          t      P>|t|      [0.025      0.975]\n",
      "------------------------------------------------------------------------------\n",
      "const          2.6519      0.524      5.058      0.000       1.611       3.692\n",
      "x1            33.9212      0.465     73.017      0.000      32.999      34.843\n",
      "==============================================================================\n",
      "Omnibus:                        0.243   Durbin-Watson:                   1.854\n",
      "Prob(Omnibus):                  0.886   Jarque-Bera (JB):                0.057\n",
      "Skew:                          -0.051   Prob(JB):                        0.972\n",
      "Kurtosis:                       3.055   Cond. No.                         1.13\n",
      "==============================================================================\n",
      "\n",
      "Notes:\n",
      "[1] Standard Errors assume that the covariance matrix of the errors is correctly specified.\n"
     ]
    }
   ],
   "source": [
    "print(results.summary())"
   ]
  },
  {
   "cell_type": "code",
   "execution_count": 116,
   "id": "24cec0c5-a2f4-43ad-9a98-437849edbb41",
   "metadata": {},
   "outputs": [
    {
     "data": {
      "text/plain": [
       "array([ 2.65194011, 33.92123912])"
      ]
     },
     "execution_count": 116,
     "metadata": {},
     "output_type": "execute_result"
    }
   ],
   "source": [
    "results.params"
   ]
  },
  {
   "cell_type": "code",
   "execution_count": 119,
   "id": "2cc0fd20-4f1a-4cf2-a4d8-1dbd3442adf8",
   "metadata": {},
   "outputs": [
    {
     "name": "stderr",
     "output_type": "stream",
     "text": [
      "/tmp/ipykernel_2575/373848473.py:1: FutureWarning: The frame.append method is deprecated and will be removed from pandas in a future version. Use pandas.concat instead.\n",
      "  model_comp = model_comp.append(pd.DataFrame({'w0': results.params[0],\n"
     ]
    },
    {
     "data": {
      "text/html": [
       "<div>\n",
       "<style scoped>\n",
       "    .dataframe tbody tr th:only-of-type {\n",
       "        vertical-align: middle;\n",
       "    }\n",
       "\n",
       "    .dataframe tbody tr th {\n",
       "        vertical-align: top;\n",
       "    }\n",
       "\n",
       "    .dataframe thead th {\n",
       "        text-align: right;\n",
       "    }\n",
       "</style>\n",
       "<table border=\"1\" class=\"dataframe\">\n",
       "  <thead>\n",
       "    <tr style=\"text-align: right;\">\n",
       "      <th></th>\n",
       "      <th>w0</th>\n",
       "      <th>w1</th>\n",
       "    </tr>\n",
       "  </thead>\n",
       "  <tbody>\n",
       "    <tr>\n",
       "      <th>Custom</th>\n",
       "      <td>2.65194</td>\n",
       "      <td>33.921239</td>\n",
       "    </tr>\n",
       "    <tr>\n",
       "      <th>sklearn</th>\n",
       "      <td>2.65194</td>\n",
       "      <td>33.921239</td>\n",
       "    </tr>\n",
       "    <tr>\n",
       "      <th>stats</th>\n",
       "      <td>2.65194</td>\n",
       "      <td>33.921239</td>\n",
       "    </tr>\n",
       "  </tbody>\n",
       "</table>\n",
       "</div>"
      ],
      "text/plain": [
       "              w0         w1\n",
       "Custom   2.65194  33.921239\n",
       "sklearn  2.65194  33.921239\n",
       "stats    2.65194  33.921239"
      ]
     },
     "execution_count": 119,
     "metadata": {},
     "output_type": "execute_result"
    }
   ],
   "source": [
    "model_comp = model_comp.append(pd.DataFrame({'w0': results.params[0],\n",
    "                                             'w1' : results.params[1]},\n",
    "                                            index = ['stats']), \n",
    "                               ignore_index = False)\n",
    "\n",
    "model_comp"
   ]
  },
  {
   "cell_type": "code",
   "execution_count": null,
   "id": "47529c2f-958a-466e-acb0-2bcf955d8c69",
   "metadata": {},
   "outputs": [],
   "source": []
  },
  {
   "cell_type": "code",
   "execution_count": null,
   "id": "ee3c4ee3-3985-4d4c-8864-f6fd384440c0",
   "metadata": {},
   "outputs": [],
   "source": []
  },
  {
   "cell_type": "code",
   "execution_count": null,
   "id": "c7f40f02-32b1-4362-b641-ad70e963b900",
   "metadata": {},
   "outputs": [],
   "source": []
  },
  {
   "cell_type": "code",
   "execution_count": null,
   "id": "e2e0cc32-f0da-45c7-b4fb-2de09a3385fe",
   "metadata": {},
   "outputs": [],
   "source": []
  },
  {
   "cell_type": "code",
   "execution_count": null,
   "id": "35dc241f-9355-41af-9cfc-91118a46ef82",
   "metadata": {},
   "outputs": [],
   "source": []
  }
 ],
 "metadata": {
  "kernelspec": {
   "display_name": "Python 3 (ipykernel)",
   "language": "python",
   "name": "python3"
  },
  "language_info": {
   "codemirror_mode": {
    "name": "ipython",
    "version": 3
   },
   "file_extension": ".py",
   "mimetype": "text/x-python",
   "name": "python",
   "nbconvert_exporter": "python",
   "pygments_lexer": "ipython3",
   "version": "3.10.6"
  }
 },
 "nbformat": 4,
 "nbformat_minor": 5
}
