{
 "cells": [
  {
   "cell_type": "markdown",
   "metadata": {
    "colab_type": "text",
    "id": "view-in-github"
   },
   "source": [
    "<a href=\"https://colab.research.google.com/github/ImanJowkar/python_for_AI/blob/main/8-built-in-functions.ipynb\" target=\"_parent\"><img src=\"https://colab.research.google.com/assets/colab-badge.svg\" alt=\"Open In Colab\"/></a>"
   ]
  },
  {
   "cell_type": "markdown",
   "metadata": {
    "id": "VLDzSwVWKs5M"
   },
   "source": [
    "# Built-in function"
   ]
  },
  {
   "cell_type": "code",
   "execution_count": 1,
   "metadata": {
    "id": "xyTCDiFwKvyQ"
   },
   "outputs": [],
   "source": [
    "a = [1, 2, -1, 4, 5]\n",
    "b = (8, 2, -1, 4, 5)\n"
   ]
  },
  {
   "cell_type": "code",
   "execution_count": 2,
   "metadata": {
    "colab": {
     "base_uri": "https://localhost:8080/"
    },
    "id": "JSOE0HVvMHCU",
    "outputId": "35b595aa-44e2-4171-8f30-c429bbf83547"
   },
   "outputs": [
    {
     "data": {
      "text/plain": [
       "(5, 5)"
      ]
     },
     "execution_count": 2,
     "metadata": {},
     "output_type": "execute_result"
    }
   ],
   "source": [
    "len(a), len(b)"
   ]
  },
  {
   "cell_type": "code",
   "execution_count": 3,
   "metadata": {
    "colab": {
     "base_uri": "https://localhost:8080/"
    },
    "id": "Mnr09HCyLn9a",
    "outputId": "3902ede4-72c0-46d5-9fa8-b0138ed9f2cf"
   },
   "outputs": [
    {
     "data": {
      "text/plain": [
       "(11, 18)"
      ]
     },
     "execution_count": 3,
     "metadata": {},
     "output_type": "execute_result"
    }
   ],
   "source": [
    "sum(a), sum(b)"
   ]
  },
  {
   "cell_type": "code",
   "execution_count": 4,
   "metadata": {
    "colab": {
     "base_uri": "https://localhost:8080/"
    },
    "id": "jzHwriEdL0D1",
    "outputId": "834d5e4b-3b1f-4c21-e86f-f968cdf1d36d"
   },
   "outputs": [
    {
     "data": {
      "text/plain": [
       "[-1, 1, 2, 4, 5]"
      ]
     },
     "execution_count": 4,
     "metadata": {},
     "output_type": "execute_result"
    }
   ],
   "source": [
    "sorted(a)"
   ]
  },
  {
   "cell_type": "code",
   "execution_count": 5,
   "metadata": {
    "colab": {
     "base_uri": "https://localhost:8080/"
    },
    "id": "YeXklyOuMoQw",
    "outputId": "3401f816-1748-4f47-dc38-91ba6c46e807"
   },
   "outputs": [
    {
     "data": {
      "text/plain": [
       "[1, 2, -1, 4, 5]"
      ]
     },
     "execution_count": 5,
     "metadata": {},
     "output_type": "execute_result"
    }
   ],
   "source": [
    "a"
   ]
  },
  {
   "cell_type": "code",
   "execution_count": 6,
   "metadata": {
    "colab": {
     "base_uri": "https://localhost:8080/"
    },
    "id": "2wzC1wnaMUYw",
    "outputId": "0ac2fcdf-302f-4ae8-fc5f-757557be97a1"
   },
   "outputs": [
    {
     "data": {
      "text/plain": [
       "[-1, 2, 4, 5, 8]"
      ]
     },
     "execution_count": 6,
     "metadata": {},
     "output_type": "execute_result"
    }
   ],
   "source": [
    "sorted(b)"
   ]
  },
  {
   "cell_type": "code",
   "execution_count": 7,
   "metadata": {
    "colab": {
     "base_uri": "https://localhost:8080/"
    },
    "id": "3Bghj4OaMWk5",
    "outputId": "728e5d34-290d-460b-8880-09e3baef46e2"
   },
   "outputs": [
    {
     "data": {
      "text/plain": [
       "(8, 2, -1, 4, 5)"
      ]
     },
     "execution_count": 7,
     "metadata": {},
     "output_type": "execute_result"
    }
   ],
   "source": [
    "b"
   ]
  },
  {
   "cell_type": "code",
   "execution_count": 8,
   "metadata": {
    "colab": {
     "base_uri": "https://localhost:8080/"
    },
    "id": "UAnPRhT6MsE8",
    "outputId": "9991ce94-8310-472d-a96f-e82116ae863d"
   },
   "outputs": [
    {
     "data": {
      "text/plain": [
       "[5, 4, 2, 1, -1]"
      ]
     },
     "execution_count": 8,
     "metadata": {},
     "output_type": "execute_result"
    }
   ],
   "source": [
    "sorted(a, reverse=True)"
   ]
  },
  {
   "cell_type": "code",
   "execution_count": 9,
   "metadata": {},
   "outputs": [
    {
     "data": {
      "text/plain": [
       "[1, 2, -1, 4, 5]"
      ]
     },
     "execution_count": 9,
     "metadata": {},
     "output_type": "execute_result"
    }
   ],
   "source": [
    "a"
   ]
  },
  {
   "cell_type": "code",
   "execution_count": 10,
   "metadata": {
    "colab": {
     "base_uri": "https://localhost:8080/"
    },
    "id": "rWdgDSMgMz77",
    "outputId": "584191bc-8492-4f72-a373-3d83491185be"
   },
   "outputs": [
    {
     "data": {
      "text/plain": [
       "(-1, -1)"
      ]
     },
     "execution_count": 10,
     "metadata": {},
     "output_type": "execute_result"
    }
   ],
   "source": [
    "min(a), min(b)"
   ]
  },
  {
   "cell_type": "code",
   "execution_count": 11,
   "metadata": {
    "colab": {
     "base_uri": "https://localhost:8080/"
    },
    "id": "4gzZfB7JM2fX",
    "outputId": "c85615ea-9f41-4a0d-bed2-467b00a897cc"
   },
   "outputs": [
    {
     "data": {
      "text/plain": [
       "(5, 8)"
      ]
     },
     "execution_count": 11,
     "metadata": {},
     "output_type": "execute_result"
    }
   ],
   "source": [
    "max(a), max(b)"
   ]
  },
  {
   "cell_type": "code",
   "execution_count": 12,
   "metadata": {
    "colab": {
     "base_uri": "https://localhost:8080/"
    },
    "id": "cUiPdJwpM_Nt",
    "outputId": "f8c2b8b7-2b60-4650-b270-5e44e3c1f4c5"
   },
   "outputs": [
    {
     "data": {
      "text/plain": [
       "1"
      ]
     },
     "execution_count": 12,
     "metadata": {},
     "output_type": "execute_result"
    }
   ],
   "source": [
    "round(1.3)"
   ]
  },
  {
   "cell_type": "code",
   "execution_count": 19,
   "metadata": {
    "colab": {
     "base_uri": "https://localhost:8080/"
    },
    "id": "ttCr02OZNHOE",
    "outputId": "5cbd1c54-40fa-493b-bf20-fcc5c68d3cc3"
   },
   "outputs": [
    {
     "data": {
      "text/plain": [
       "2"
      ]
     },
     "execution_count": 19,
     "metadata": {},
     "output_type": "execute_result"
    }
   ],
   "source": [
    "round(1.55)"
   ]
  },
  {
   "cell_type": "code",
   "execution_count": 20,
   "metadata": {
    "colab": {
     "base_uri": "https://localhost:8080/"
    },
    "id": "usWWHI-XNJMP",
    "outputId": "36f872ca-1ee0-4e06-9785-198790548b02"
   },
   "outputs": [
    {
     "data": {
      "text/plain": [
       "1.233"
      ]
     },
     "execution_count": 20,
     "metadata": {},
     "output_type": "execute_result"
    }
   ],
   "source": [
    "round(1.23324343, 3)"
   ]
  },
  {
   "cell_type": "code",
   "execution_count": 13,
   "metadata": {
    "colab": {
     "base_uri": "https://localhost:8080/"
    },
    "id": "NbA74FAkNT-X",
    "outputId": "c99fea97-1945-44ad-fa62-9836520291af"
   },
   "outputs": [
    {
     "data": {
      "text/plain": [
       "4"
      ]
     },
     "execution_count": 13,
     "metadata": {},
     "output_type": "execute_result"
    }
   ],
   "source": [
    "abs(-4)"
   ]
  },
  {
   "cell_type": "code",
   "execution_count": 14,
   "metadata": {
    "colab": {
     "base_uri": "https://localhost:8080/"
    },
    "id": "KqKKy_EANvG-",
    "outputId": "4591379f-11d3-4c71-baa7-8b487352195e"
   },
   "outputs": [
    {
     "data": {
      "text/plain": [
       "[1, 2, 1, 4, 5]"
      ]
     },
     "execution_count": 14,
     "metadata": {},
     "output_type": "execute_result"
    }
   ],
   "source": [
    "list(map(lambda x: abs(x), a))"
   ]
  },
  {
   "cell_type": "code",
   "execution_count": 15,
   "metadata": {
    "colab": {
     "base_uri": "https://localhost:8080/"
    },
    "id": "M_0iOp65N1D1",
    "outputId": "cc97c85b-c064-479b-bf6e-c95789fd42f7"
   },
   "outputs": [
    {
     "data": {
      "text/plain": [
       "[8, 2, 1, 4, 5]"
      ]
     },
     "execution_count": 15,
     "metadata": {},
     "output_type": "execute_result"
    }
   ],
   "source": [
    "list(map(lambda x: abs(x), b))"
   ]
  },
  {
   "cell_type": "markdown",
   "metadata": {
    "id": "UmYUds56OhlX"
   },
   "source": [
    "# most frequently function\n"
   ]
  },
  {
   "cell_type": "code",
   "execution_count": 16,
   "metadata": {
    "colab": {
     "base_uri": "https://localhost:8080/"
    },
    "id": "V8VlzlkFOLPH",
    "outputId": "02b127ed-0b2f-432b-8d8a-687019a37f8a"
   },
   "outputs": [
    {
     "data": {
      "text/plain": [
       "[0, 1, 2, 3, 4, 5, 6, 7, 8, 9]"
      ]
     },
     "execution_count": 16,
     "metadata": {},
     "output_type": "execute_result"
    }
   ],
   "source": [
    "list(range(10))"
   ]
  },
  {
   "cell_type": "code",
   "execution_count": 17,
   "metadata": {
    "colab": {
     "base_uri": "https://localhost:8080/"
    },
    "id": "DW7Pwcq8Ol2i",
    "outputId": "ea00d382-cb53-4d80-e4b2-142b7e2e997a"
   },
   "outputs": [
    {
     "data": {
      "text/plain": [
       "[2, 3, 4, 5, 6, 7, 8, 9]"
      ]
     },
     "execution_count": 17,
     "metadata": {},
     "output_type": "execute_result"
    }
   ],
   "source": [
    "list(range(2,10))"
   ]
  },
  {
   "cell_type": "code",
   "execution_count": 18,
   "metadata": {
    "colab": {
     "base_uri": "https://localhost:8080/"
    },
    "id": "eDZsYRRxOpb5",
    "outputId": "29840815-9211-4094-8f3e-4169f08c96b4"
   },
   "outputs": [
    {
     "data": {
      "text/plain": [
       "[2, 4, 6, 8]"
      ]
     },
     "execution_count": 18,
     "metadata": {},
     "output_type": "execute_result"
    }
   ],
   "source": [
    "list(range(2,10,2))"
   ]
  },
  {
   "cell_type": "code",
   "execution_count": 29,
   "metadata": {
    "colab": {
     "base_uri": "https://localhost:8080/"
    },
    "id": "OA5wJS31Oq-l",
    "outputId": "ff7aafbe-bd02-4c82-a9ab-7f13d31ac85f"
   },
   "outputs": [
    {
     "data": {
      "text/plain": [
       "slice(1, 10, 2)"
      ]
     },
     "execution_count": 29,
     "metadata": {},
     "output_type": "execute_result"
    }
   ],
   "source": [
    "slice(1,10,2)"
   ]
  },
  {
   "cell_type": "code",
   "execution_count": 19,
   "metadata": {
    "colab": {
     "base_uri": "https://localhost:8080/",
     "height": 165
    },
    "id": "OFGSB1NFPFu0",
    "outputId": "3d33cd8d-22c0-4ec5-e997-06cd39b9282e"
   },
   "outputs": [
    {
     "ename": "TypeError",
     "evalue": "'slice' object is not iterable",
     "output_type": "error",
     "traceback": [
      "\u001b[0;31m---------------------------------------------------------------------------\u001b[0m",
      "\u001b[0;31mTypeError\u001b[0m                                 Traceback (most recent call last)",
      "\u001b[0;32m/tmp/ipykernel_26961/982732120.py\u001b[0m in \u001b[0;36m<module>\u001b[0;34m\u001b[0m\n\u001b[0;32m----> 1\u001b[0;31m \u001b[0mlist\u001b[0m\u001b[0;34m(\u001b[0m\u001b[0mslice\u001b[0m\u001b[0;34m(\u001b[0m\u001b[0;36m1\u001b[0m\u001b[0;34m,\u001b[0m\u001b[0;36m10\u001b[0m\u001b[0;34m,\u001b[0m\u001b[0;36m2\u001b[0m\u001b[0;34m)\u001b[0m\u001b[0;34m)\u001b[0m\u001b[0;34m\u001b[0m\u001b[0;34m\u001b[0m\u001b[0m\n\u001b[0m",
      "\u001b[0;31mTypeError\u001b[0m: 'slice' object is not iterable"
     ]
    }
   ],
   "source": [
    "list(slice(1,10,2))"
   ]
  },
  {
   "cell_type": "code",
   "execution_count": 31,
   "metadata": {
    "colab": {
     "base_uri": "https://localhost:8080/"
    },
    "id": "8-mG4TycPH9w",
    "outputId": "ebb4794a-0b8e-4cb3-ed0c-f0a5bc20330f"
   },
   "outputs": [
    {
     "data": {
      "text/plain": [
       "[1, 2, -1, 4, 5]"
      ]
     },
     "execution_count": 31,
     "metadata": {},
     "output_type": "execute_result"
    }
   ],
   "source": [
    "a"
   ]
  },
  {
   "cell_type": "code",
   "execution_count": 20,
   "metadata": {
    "colab": {
     "base_uri": "https://localhost:8080/"
    },
    "id": "Q4--XeshPRcy",
    "outputId": "40863b3e-6ad3-4045-de0a-ff8128119d96"
   },
   "outputs": [
    {
     "data": {
      "text/plain": [
       "<enumerate at 0x7ff0cc44af80>"
      ]
     },
     "execution_count": 20,
     "metadata": {},
     "output_type": "execute_result"
    }
   ],
   "source": [
    "enumerate(a)"
   ]
  },
  {
   "cell_type": "code",
   "execution_count": 21,
   "metadata": {
    "colab": {
     "base_uri": "https://localhost:8080/"
    },
    "id": "RSmo4kHFPZ06",
    "outputId": "ed5c83bf-037e-48c6-82f5-e5c4dc6f52e0"
   },
   "outputs": [
    {
     "data": {
      "text/plain": [
       "[(0, 1), (1, 2), (2, -1), (3, 4), (4, 5)]"
      ]
     },
     "execution_count": 21,
     "metadata": {},
     "output_type": "execute_result"
    }
   ],
   "source": [
    "list(enumerate(a))"
   ]
  },
  {
   "cell_type": "code",
   "execution_count": 23,
   "metadata": {},
   "outputs": [
    {
     "name": "stdout",
     "output_type": "stream",
     "text": [
      "0 -10\n",
      "1 -9\n",
      "2 -8\n",
      "3 -7\n"
     ]
    }
   ],
   "source": [
    "a = list(range(-10,-6))\n",
    "for idx, val in enumerate(a):\n",
    "    print(idx, val)"
   ]
  },
  {
   "cell_type": "code",
   "execution_count": 35,
   "metadata": {
    "colab": {
     "base_uri": "https://localhost:8080/"
    },
    "id": "xlJSonTrPcb0",
    "outputId": "23066953-d4a2-499d-c63a-2d37f35581c3"
   },
   "outputs": [
    {
     "name": "stdout",
     "output_type": "stream",
     "text": [
      "index is: 0 and value is: 1\n",
      "index is: 1 and value is: 2\n",
      "index is: 2 and value is: -1\n",
      "index is: 3 and value is: 4\n",
      "index is: 4 and value is: 5\n"
     ]
    }
   ],
   "source": [
    "for idx, val in enumerate(a):\n",
    "    print(f\"index is: {idx} and value is: {val}\")"
   ]
  },
  {
   "cell_type": "code",
   "execution_count": 36,
   "metadata": {
    "colab": {
     "base_uri": "https://localhost:8080/"
    },
    "id": "S5P9guhRPpZ3",
    "outputId": "7f327078-38d3-464e-d733-bc77cd1529ef"
   },
   "outputs": [
    {
     "name": "stdout",
     "output_type": "stream",
     "text": [
      "index is: 10 and value is: 1\n",
      "index is: 11 and value is: 2\n",
      "index is: 12 and value is: -1\n",
      "index is: 13 and value is: 4\n",
      "index is: 14 and value is: 5\n"
     ]
    }
   ],
   "source": [
    "for idx, val in enumerate(a,10):\n",
    "    print(f\"index is: {idx} and value is: {val}\")"
   ]
  },
  {
   "cell_type": "code",
   "execution_count": 24,
   "metadata": {
    "colab": {
     "base_uri": "https://localhost:8080/"
    },
    "id": "1uzOgd8rP9Do",
    "outputId": "faeede2a-5e1f-46c4-e565-61d44938bdd1"
   },
   "outputs": [
    {
     "name": "stdout",
     "output_type": "stream",
     "text": [
      "[-10, -9, -8, -7]\n",
      "[9, 4, 5, 6, 3]\n"
     ]
    }
   ],
   "source": [
    "c = [9,4,5,6,3]\n",
    "print(a)\n",
    "print(c)"
   ]
  },
  {
   "cell_type": "code",
   "execution_count": 25,
   "metadata": {
    "colab": {
     "base_uri": "https://localhost:8080/"
    },
    "id": "FWaBv31sQI_z",
    "outputId": "cc4d9903-6c98-4f26-f68b-2b5159558f00"
   },
   "outputs": [
    {
     "data": {
      "text/plain": [
       "[(-10, 9), (-9, 4), (-8, 5), (-7, 6)]"
      ]
     },
     "execution_count": 25,
     "metadata": {},
     "output_type": "execute_result"
    }
   ],
   "source": [
    "list(zip(a,c))"
   ]
  },
  {
   "cell_type": "code",
   "execution_count": 26,
   "metadata": {
    "colab": {
     "base_uri": "https://localhost:8080/"
    },
    "id": "mO9r7EaaQW5C",
    "outputId": "bd1a3e02-f395-4f65-8b04-060545c8bfa0"
   },
   "outputs": [
    {
     "name": "stdout",
     "output_type": "stream",
     "text": [
      "-10 9\n",
      "-9 4\n",
      "-8 5\n",
      "-7 6\n"
     ]
    }
   ],
   "source": [
    "for ai, ci in zip(a, c):\n",
    "    print(ai, ci)"
   ]
  },
  {
   "cell_type": "code",
   "execution_count": 28,
   "metadata": {
    "colab": {
     "base_uri": "https://localhost:8080/"
    },
    "id": "ICm6DxIoQ02M",
    "outputId": "421f1b41-c53a-4a71-a0b0-04a618ae2e3f"
   },
   "outputs": [
    {
     "name": "stdout",
     "output_type": "stream",
     "text": [
      "-10 9 True\n",
      "-9 4 False\n",
      "-8 5 False\n",
      "-7 6 True\n"
     ]
    }
   ],
   "source": [
    "d = [True, False, False, True, False]\n",
    "for ai, ci, di in zip(a, c, d):\n",
    "    print(ai, ci, di)"
   ]
  },
  {
   "cell_type": "code",
   "execution_count": 29,
   "metadata": {},
   "outputs": [
    {
     "data": {
      "text/plain": [
       "[(-10, 9, True), (-9, 4, False), (-8, 5, False), (-7, 6, True)]"
      ]
     },
     "execution_count": 29,
     "metadata": {},
     "output_type": "execute_result"
    }
   ],
   "source": [
    "list(zip(a, c, d))"
   ]
  },
  {
   "cell_type": "code",
   "execution_count": 42,
   "metadata": {
    "colab": {
     "base_uri": "https://localhost:8080/"
    },
    "id": "7ulOpHu2RD1t",
    "outputId": "62362323-f9af-42e4-da92-9bc11503f08b"
   },
   "outputs": [
    {
     "name": "stdout",
     "output_type": "stream",
     "text": [
      "[1, 2, -1, 4, 5]\n",
      "[9, 4, 5, 6, 3]\n"
     ]
    }
   ],
   "source": [
    "# element-wize sum in a + b:\n",
    "print(a)\n",
    "print(c)\n"
   ]
  },
  {
   "cell_type": "code",
   "execution_count": 30,
   "metadata": {
    "colab": {
     "base_uri": "https://localhost:8080/"
    },
    "id": "yI2mKdk7ReW3",
    "outputId": "e5ed4eb4-c6db-413c-c2d0-794512a5a323"
   },
   "outputs": [
    {
     "name": "stdout",
     "output_type": "stream",
     "text": [
      "[-10, -9, -8, -7]\n",
      "[9, 4, 5, 6, 3]\n",
      "[-1, -5, -3, -1]\n"
     ]
    }
   ],
   "source": [
    "e = []\n",
    "for i,j in zip(a,c):\n",
    "    e.append(i+j)\n",
    "print(a)\n",
    "print(c)\n",
    "print(e)"
   ]
  },
  {
   "cell_type": "code",
   "execution_count": 31,
   "metadata": {
    "colab": {
     "base_uri": "https://localhost:8080/"
    },
    "id": "-9k3pDCGRkFs",
    "outputId": "7c09090c-408c-4b04-934c-e37f06ac6c6d"
   },
   "outputs": [
    {
     "data": {
      "text/plain": [
       "[(0, (-10, 8)), (1, (-9, 2)), (2, (-8, -1)), (3, (-7, 4))]"
      ]
     },
     "execution_count": 31,
     "metadata": {},
     "output_type": "execute_result"
    }
   ],
   "source": [
    "list(enumerate(zip(a,b)))"
   ]
  },
  {
   "cell_type": "code",
   "execution_count": 59,
   "metadata": {
    "id": "bPM5rMDxSqKp"
   },
   "outputs": [],
   "source": [
    "c = [54, 480, 4, 48,-87]\n",
    "a = [1, 2, -1, 4, 5]"
   ]
  },
  {
   "cell_type": "code",
   "execution_count": 32,
   "metadata": {
    "colab": {
     "base_uri": "https://localhost:8080/"
    },
    "id": "9ZHspXt1R6Mi",
    "outputId": "48618ab1-a6e6-4e91-f25b-448ead482c32"
   },
   "outputs": [
    {
     "name": "stdout",
     "output_type": "stream",
     "text": [
      "idx: 0, val: (-10, 9)\n",
      "idx: 1, val: (-9, 4)\n",
      "idx: 2, val: (-8, 5)\n",
      "idx: 3, val: (-7, 6)\n"
     ]
    }
   ],
   "source": [
    "for idx, val in enumerate(zip(a,c)):\n",
    "    print(f\"idx: {idx}, val: {val}\")"
   ]
  },
  {
   "cell_type": "code",
   "execution_count": 61,
   "metadata": {
    "colab": {
     "base_uri": "https://localhost:8080/"
    },
    "id": "qD5SVBPzSInW",
    "outputId": "78f7a8c4-f5f3-45fe-997c-f363e252702e"
   },
   "outputs": [
    {
     "name": "stdout",
     "output_type": "stream",
     "text": [
      "0 1 54\n",
      "1 2 480\n",
      "2 -1 4\n",
      "3 4 48\n",
      "4 5 -87\n"
     ]
    }
   ],
   "source": [
    "for i, (ai,bi) in enumerate(zip(a,c)):\n",
    "    print(i, ai, bi)"
   ]
  },
  {
   "cell_type": "code",
   "execution_count": 62,
   "metadata": {
    "colab": {
     "base_uri": "https://localhost:8080/"
    },
    "id": "qK00cvc0SdV7",
    "outputId": "c04060a4-70cb-4a85-ae13-0692efe18315"
   },
   "outputs": [
    {
     "data": {
      "text/plain": [
       "list"
      ]
     },
     "execution_count": 62,
     "metadata": {},
     "output_type": "execute_result"
    }
   ],
   "source": [
    "type(a)"
   ]
  },
  {
   "cell_type": "code",
   "execution_count": 63,
   "metadata": {
    "colab": {
     "base_uri": "https://localhost:8080/"
    },
    "id": "_JnupZKwTOSv",
    "outputId": "b3ba6f99-7a9b-4c02-bdfb-f3a5db4315e8"
   },
   "outputs": [
    {
     "data": {
      "text/plain": [
       "True"
      ]
     },
     "execution_count": 63,
     "metadata": {},
     "output_type": "execute_result"
    }
   ],
   "source": [
    "isinstance(a, list)"
   ]
  },
  {
   "cell_type": "markdown",
   "metadata": {
    "id": "CZ0Vz-a7ULbx"
   },
   "source": [
    "# map and filter"
   ]
  },
  {
   "cell_type": "code",
   "execution_count": 67,
   "metadata": {
    "colab": {
     "base_uri": "https://localhost:8080/"
    },
    "id": "N6NZ5tr6UKzb",
    "outputId": "c2786257-27b7-4442-e202-0314b0339a83"
   },
   "outputs": [
    {
     "data": {
      "text/plain": [
       "[1, 2, 1, 4, 5]"
      ]
     },
     "execution_count": 67,
     "metadata": {},
     "output_type": "execute_result"
    }
   ],
   "source": [
    "list(map(lambda x: abs(x), a))"
   ]
  },
  {
   "cell_type": "code",
   "execution_count": 69,
   "metadata": {
    "colab": {
     "base_uri": "https://localhost:8080/"
    },
    "id": "r7Cs8vBcTQXK",
    "outputId": "899905c1-4883-48b1-c882-53951dd6ecff"
   },
   "outputs": [
    {
     "data": {
      "text/plain": [
       "[1, 2, 1, 4, 5]"
      ]
     },
     "execution_count": 69,
     "metadata": {},
     "output_type": "execute_result"
    }
   ],
   "source": [
    "list(map(abs, a))"
   ]
  },
  {
   "cell_type": "code",
   "execution_count": 71,
   "metadata": {
    "colab": {
     "base_uri": "https://localhost:8080/"
    },
    "id": "edkUt4KrUytj",
    "outputId": "21b3a4e2-46ca-46e2-8f5c-10392ba1382c"
   },
   "outputs": [
    {
     "name": "stdout",
     "output_type": "stream",
     "text": [
      "[1, 2, -1, 4, 5]\n",
      "[54, 480, 4, 48, -87]\n"
     ]
    },
    {
     "data": {
      "text/plain": [
       "[55, 482, 3, 52, -82]"
      ]
     },
     "execution_count": 71,
     "metadata": {},
     "output_type": "execute_result"
    }
   ],
   "source": [
    "print(a)\n",
    "print(c)\n",
    "list(map(sum, zip(a,c)))"
   ]
  },
  {
   "cell_type": "code",
   "execution_count": 72,
   "metadata": {
    "colab": {
     "base_uri": "https://localhost:8080/"
    },
    "id": "0qA1ktjdVO58",
    "outputId": "fb62b2ad-bed4-42be-cd74-aba7b0b2b13b"
   },
   "outputs": [
    {
     "data": {
      "text/plain": [
       "['12', '544554', '88']"
      ]
     },
     "execution_count": 72,
     "metadata": {},
     "output_type": "execute_result"
    }
   ],
   "source": [
    "str1 = [\"12\", 'sdf','sdfewr','544554','88']\n",
    "list(filter(str.isdigit, str1))\n"
   ]
  },
  {
   "cell_type": "code",
   "execution_count": 34,
   "metadata": {
    "colab": {
     "base_uri": "https://localhost:8080/"
    },
    "id": "KYB0jtpGWxiF",
    "outputId": "4459ff19-deb1-4cab-f428-886e2e5d2bee"
   },
   "outputs": [
    {
     "name": "stdout",
     "output_type": "stream",
     "text": [
      "['12', '544554', '88']\n"
     ]
    },
    {
     "data": {
      "text/plain": [
       "[12, 544554, 88]"
      ]
     },
     "execution_count": 34,
     "metadata": {},
     "output_type": "execute_result"
    }
   ],
   "source": [
    "str1 = [\"12\", 'sdf','sdfewr','544554','88']\n",
    "digit = list(filter(str.isdigit, str1))\n",
    "print(digit)\n",
    "int1 = list(map(int, digit))\n",
    "int1"
   ]
  },
  {
   "cell_type": "code",
   "execution_count": 36,
   "metadata": {
    "colab": {
     "base_uri": "https://localhost:8080/"
    },
    "id": "ztbrKNjkXK6U",
    "outputId": "4cc80009-3183-47cd-dc89-4561bcded508"
   },
   "outputs": [
    {
     "data": {
      "text/plain": [
       "[12, 544554, 88]"
      ]
     },
     "execution_count": 36,
     "metadata": {},
     "output_type": "execute_result"
    }
   ],
   "source": [
    "list(map(int, list(filter(str.isdigit, str1))))"
   ]
  },
  {
   "cell_type": "code",
   "execution_count": 37,
   "metadata": {},
   "outputs": [
    {
     "data": {
      "text/plain": [
       "[12, 544554, 88]"
      ]
     },
     "execution_count": 37,
     "metadata": {},
     "output_type": "execute_result"
    }
   ],
   "source": [
    "list(map(int, filter(str.isdigit, str1)))"
   ]
  },
  {
   "cell_type": "code",
   "execution_count": 41,
   "metadata": {
    "colab": {
     "base_uri": "https://localhost:8080/"
    },
    "id": "LA78hQD5VuKS",
    "outputId": "e0127a7c-4a4c-414d-ab73-d6c8dc689728"
   },
   "outputs": [
    {
     "name": "stdout",
     "output_type": "stream",
     "text": [
      "[-10, -9, -8, -7]\n"
     ]
    },
    {
     "data": {
      "text/plain": [
       "[-20, -19, -18, -17]"
      ]
     },
     "execution_count": 41,
     "metadata": {},
     "output_type": "execute_result"
    }
   ],
   "source": [
    "print(a)\n",
    "list(map(lambda x: x-10 if x < 3 else x-100, a))"
   ]
  },
  {
   "cell_type": "markdown",
   "metadata": {
    "id": "mtNQYP0ZXZn2"
   },
   "source": [
    "# iter & next"
   ]
  },
  {
   "cell_type": "code",
   "execution_count": 42,
   "metadata": {
    "colab": {
     "base_uri": "https://localhost:8080/"
    },
    "id": "XdGKJEXZXZa8",
    "outputId": "be299468-04ce-4105-8182-6d8ce6a08131"
   },
   "outputs": [
    {
     "data": {
      "text/plain": [
       "<list_iterator at 0x7ff0ab5c8f70>"
      ]
     },
     "execution_count": 42,
     "metadata": {},
     "output_type": "execute_result"
    }
   ],
   "source": [
    "x = [1, 0, -1]\n",
    "iter(x)"
   ]
  },
  {
   "cell_type": "code",
   "execution_count": 43,
   "metadata": {
    "colab": {
     "base_uri": "https://localhost:8080/"
    },
    "id": "Wc_MO_VfV3uh",
    "outputId": "882d4d8c-9e19-46c2-8e1e-e219c3f5e5a7"
   },
   "outputs": [
    {
     "data": {
      "text/plain": [
       "<str_iterator at 0x7ff0ab5c9480>"
      ]
     },
     "execution_count": 43,
     "metadata": {},
     "output_type": "execute_result"
    }
   ],
   "source": [
    "x = \"Hello\"\n",
    "iter(x)"
   ]
  },
  {
   "cell_type": "code",
   "execution_count": 44,
   "metadata": {
    "id": "NBCZ_fuQX4vc"
   },
   "outputs": [],
   "source": [
    "x = [1, 0, -1]\n",
    "x_iter = iter(x)\n"
   ]
  },
  {
   "cell_type": "code",
   "execution_count": 47,
   "metadata": {
    "colab": {
     "base_uri": "https://localhost:8080/"
    },
    "id": "rv2JOGoAX_nJ",
    "outputId": "21de45fb-1867-4901-e1d8-c879b69af793"
   },
   "outputs": [
    {
     "data": {
      "text/plain": [
       "-1"
      ]
     },
     "execution_count": 47,
     "metadata": {},
     "output_type": "execute_result"
    }
   ],
   "source": [
    "next(x_iter) # run three times"
   ]
  }
 ],
 "metadata": {
  "colab": {
   "include_colab_link": true,
   "name": "Welcome To Colaboratory",
   "provenance": []
  },
  "kernelspec": {
   "display_name": "Python 3 (ipykernel)",
   "language": "python",
   "name": "python3"
  },
  "language_info": {
   "codemirror_mode": {
    "name": "ipython",
    "version": 3
   },
   "file_extension": ".py",
   "mimetype": "text/x-python",
   "name": "python",
   "nbconvert_exporter": "python",
   "pygments_lexer": "ipython3",
   "version": "3.10.6"
  }
 },
 "nbformat": 4,
 "nbformat_minor": 4
}
