{
  "cells": [
    {
      "cell_type": "markdown",
      "metadata": {
        "id": "view-in-github",
        "colab_type": "text"
      },
      "source": [
        "<a href=\"https://colab.research.google.com/github/ImanJowkar/python_for_AI/blob/main/6-tuple-sets.ipynb\" target=\"_parent\"><img src=\"https://colab.research.google.com/assets/colab-badge.svg\" alt=\"Open In Colab\"/></a>"
      ]
    },
    {
      "cell_type": "markdown",
      "source": [
        "# Tuple"
      ],
      "metadata": {
        "id": "I5vZr8xsR8v5"
      }
    },
    {
      "cell_type": "code",
      "source": [
        "tup1 = (1,2,23,4)"
      ],
      "metadata": {
        "id": "1mQeFHSUR8mZ"
      },
      "execution_count": 14,
      "outputs": []
    },
    {
      "cell_type": "markdown",
      "source": [
        "# Why Tuple\n",
        "* Tuples are faster than lists"
      ],
      "metadata": {
        "id": "wVDPRgrpSDFt"
      }
    },
    {
      "cell_type": "code",
      "source": [
        "''.join(['a','b','c','d','e','f','g'])"
      ],
      "metadata": {
        "id": "c3UqBtrER6wp",
        "outputId": "61cfa5d1-1959-423d-974c-7dbaefb65980",
        "colab": {
          "base_uri": "https://localhost:8080/",
          "height": 35
        }
      },
      "execution_count": 15,
      "outputs": [
        {
          "output_type": "execute_result",
          "data": {
            "text/plain": [
              "'abcdefg'"
            ],
            "application/vnd.google.colaboratory.intrinsic+json": {
              "type": "string"
            }
          },
          "metadata": {},
          "execution_count": 15
        }
      ]
    },
    {
      "cell_type": "code",
      "source": [
        "!python -m timeit \"for i in range(10000):\" \"     ''.join(['a','b','c','d','e','f','g'])\""
      ],
      "metadata": {
        "id": "_ipxTD0bR6zM",
        "outputId": "a486ff23-7c5a-4ed1-f5ab-3d354958047f",
        "colab": {
          "base_uri": "https://localhost:8080/"
        }
      },
      "execution_count": 16,
      "outputs": [
        {
          "output_type": "stream",
          "name": "stdout",
          "text": [
            "100 loops, best of 5: 1.95 msec per loop\n"
          ]
        }
      ]
    },
    {
      "cell_type": "code",
      "source": [
        "!python -m timeit \"for i in range(10000):\" \"     ''.join(('a','b','c','d','e','f','g'))\""
      ],
      "metadata": {
        "id": "KnBEpvZBR610",
        "outputId": "cbba4a09-e09b-4df5-eebb-358a7a2d2f67",
        "colab": {
          "base_uri": "https://localhost:8080/"
        }
      },
      "execution_count": 17,
      "outputs": [
        {
          "output_type": "stream",
          "name": "stdout",
          "text": [
            "200 loops, best of 5: 1.39 msec per loop\n"
          ]
        }
      ]
    },
    {
      "cell_type": "markdown",
      "source": [
        "* Tuple is immutable"
      ],
      "metadata": {
        "id": "4fy6UsiiTS5w"
      }
    },
    {
      "cell_type": "code",
      "source": [
        "tup1[0] = 5\n",
        "tup1"
      ],
      "metadata": {
        "id": "4f69mVAFTSX7",
        "outputId": "93fed1c1-ecc9-4117-a720-3f10de379111",
        "colab": {
          "base_uri": "https://localhost:8080/",
          "height": 183
        }
      },
      "execution_count": 18,
      "outputs": [
        {
          "output_type": "error",
          "ename": "TypeError",
          "evalue": "ignored",
          "traceback": [
            "\u001b[0;31m---------------------------------------------------------------------------\u001b[0m",
            "\u001b[0;31mTypeError\u001b[0m                                 Traceback (most recent call last)",
            "\u001b[0;32m<ipython-input-18-2a923e8fc45f>\u001b[0m in \u001b[0;36m<module>\u001b[0;34m\u001b[0m\n\u001b[0;32m----> 1\u001b[0;31m \u001b[0mtup1\u001b[0m\u001b[0;34m[\u001b[0m\u001b[0;36m0\u001b[0m\u001b[0;34m]\u001b[0m \u001b[0;34m=\u001b[0m \u001b[0;36m5\u001b[0m\u001b[0;34m\u001b[0m\u001b[0;34m\u001b[0m\u001b[0m\n\u001b[0m\u001b[1;32m      2\u001b[0m \u001b[0mtup1\u001b[0m\u001b[0;34m\u001b[0m\u001b[0;34m\u001b[0m\u001b[0m\n",
            "\u001b[0;31mTypeError\u001b[0m: 'tuple' object does not support item assignment"
          ]
        }
      ]
    },
    {
      "cell_type": "markdown",
      "source": [
        "\n",
        "* Tuple can be used as key in dictionary"
      ],
      "metadata": {
        "id": "s5_TgwPaTB5p"
      }
    },
    {
      "cell_type": "code",
      "source": [
        "d = {(1,2):3}\n",
        "d"
      ],
      "metadata": {
        "id": "JffNvufuR64B",
        "outputId": "5eadf973-179e-4432-fb45-10dbbc1b504e",
        "colab": {
          "base_uri": "https://localhost:8080/"
        }
      },
      "execution_count": 19,
      "outputs": [
        {
          "output_type": "execute_result",
          "data": {
            "text/plain": [
              "{(1, 2): 3}"
            ]
          },
          "metadata": {},
          "execution_count": 19
        }
      ]
    },
    {
      "cell_type": "markdown",
      "source": [
        "# unpack and loop"
      ],
      "metadata": {
        "id": "CDaCZALSTrIZ"
      }
    },
    {
      "cell_type": "code",
      "source": [
        "a,b,c,d = tup1\n",
        "print(tup1)\n",
        "print(a)\n",
        "print(b)\n",
        "print(c)\n",
        "print(d)"
      ],
      "metadata": {
        "id": "ZvrT7G7BToEI",
        "outputId": "b281ea1f-f275-494f-e9dc-7d8ac74b9018",
        "colab": {
          "base_uri": "https://localhost:8080/"
        }
      },
      "execution_count": 20,
      "outputs": [
        {
          "output_type": "stream",
          "name": "stdout",
          "text": [
            "(1, 2, 23, 4)\n",
            "1\n",
            "2\n",
            "23\n",
            "4\n"
          ]
        }
      ]
    },
    {
      "cell_type": "code",
      "source": [
        "a, *b = tup1\n",
        "print(tup1)\n",
        "print(a)\n",
        "print(b)\n"
      ],
      "metadata": {
        "id": "EgvCbLp3T1Mh",
        "outputId": "2f4f1382-22f8-4dc3-f23f-2c362a0e1a71",
        "colab": {
          "base_uri": "https://localhost:8080/"
        }
      },
      "execution_count": 21,
      "outputs": [
        {
          "output_type": "stream",
          "name": "stdout",
          "text": [
            "(1, 2, 23, 4)\n",
            "1\n",
            "[2, 23, 4]\n"
          ]
        }
      ]
    },
    {
      "cell_type": "code",
      "source": [
        "*a,b = tup1\n",
        "print(tup1)\n",
        "print(a)\n",
        "print(b)"
      ],
      "metadata": {
        "id": "YKmmsbhiUDTE",
        "outputId": "456e29d6-9490-4b76-ed59-1a32fa0c778d",
        "colab": {
          "base_uri": "https://localhost:8080/"
        }
      },
      "execution_count": 22,
      "outputs": [
        {
          "output_type": "stream",
          "name": "stdout",
          "text": [
            "(1, 2, 23, 4)\n",
            "[1, 2, 23]\n",
            "4\n"
          ]
        }
      ]
    },
    {
      "cell_type": "code",
      "source": [
        "tup3 = ((1,2,-1), (5,4,2),(6,4,2))\n",
        "for *i1, i2 in tup3:\n",
        "    print(i1, i2)"
      ],
      "metadata": {
        "id": "1AqFJ8-8UI9J",
        "outputId": "413fd0e1-9332-4924-89fb-d7d688bc9c4e",
        "colab": {
          "base_uri": "https://localhost:8080/"
        }
      },
      "execution_count": 23,
      "outputs": [
        {
          "output_type": "stream",
          "name": "stdout",
          "text": [
            "[1, 2] -1\n",
            "[5, 4] 2\n",
            "[6, 4] 2\n"
          ]
        }
      ]
    },
    {
      "cell_type": "code",
      "source": [
        "dict1 = {\"sara\": 23, \"ali\":15, \"Mahsa\":22}\n",
        "print(dict1.items())\n",
        "gen = [(name, age) for name, age in dict1.items() if age > 18]\n",
        "print(gen)"
      ],
      "metadata": {
        "id": "S-KTKIBCViMc",
        "outputId": "0c1d10c2-664a-464c-d682-85ff8a03487d",
        "colab": {
          "base_uri": "https://localhost:8080/"
        }
      },
      "execution_count": 28,
      "outputs": [
        {
          "output_type": "stream",
          "name": "stdout",
          "text": [
            "dict_items([('sara', 23), ('ali', 15), ('Mahsa', 22)])\n",
            "[('sara', 23), ('Mahsa', 22)]\n"
          ]
        }
      ]
    },
    {
      "cell_type": "code",
      "source": [
        "my_tup = (10,4,3,2,3,5,54,4)\n",
        "my_tup[:3] + my_tup[4:]"
      ],
      "metadata": {
        "id": "V1p84lPPV5Ms",
        "outputId": "e1aa6899-add3-4c97-a824-438a3b05ce8a",
        "colab": {
          "base_uri": "https://localhost:8080/"
        }
      },
      "execution_count": 30,
      "outputs": [
        {
          "output_type": "execute_result",
          "data": {
            "text/plain": [
              "(10, 4, 3, 3, 5, 54, 4)"
            ]
          },
          "metadata": {},
          "execution_count": 30
        }
      ]
    },
    {
      "cell_type": "markdown",
      "source": [
        "# Sets"
      ],
      "metadata": {
        "id": "2a0M8h-_XTqq"
      }
    },
    {
      "cell_type": "code",
      "source": [
        "set1 = {1,2,3,4,4,4, True}\n",
        "set2 = {'a','b','b','c'}\n",
        "print(f'set1: {set1}')\n",
        "print(f'set2: {set2}')"
      ],
      "metadata": {
        "id": "g98BcSW3WStR",
        "outputId": "b0e692b1-596a-4b56-a954-90673c7188fe",
        "colab": {
          "base_uri": "https://localhost:8080/"
        }
      },
      "execution_count": 32,
      "outputs": [
        {
          "output_type": "stream",
          "name": "stdout",
          "text": [
            "set1: {1, 2, 3, 4}\n",
            "set2: {'c', 'a', 'b'}\n"
          ]
        }
      ]
    },
    {
      "cell_type": "code",
      "source": [],
      "metadata": {
        "id": "2ul5VhuxWSwQ"
      },
      "execution_count": null,
      "outputs": []
    },
    {
      "cell_type": "code",
      "source": [],
      "metadata": {
        "id": "TvkX_RxpWSzD"
      },
      "execution_count": null,
      "outputs": []
    },
    {
      "cell_type": "code",
      "source": [],
      "metadata": {
        "id": "sCljQSSBWS1c"
      },
      "execution_count": null,
      "outputs": []
    }
  ],
  "metadata": {
    "colab": {
      "name": "Welcome To Colaboratory",
      "provenance": [],
      "include_colab_link": true
    },
    "kernelspec": {
      "display_name": "Python 3",
      "name": "python3"
    }
  },
  "nbformat": 4,
  "nbformat_minor": 0
}