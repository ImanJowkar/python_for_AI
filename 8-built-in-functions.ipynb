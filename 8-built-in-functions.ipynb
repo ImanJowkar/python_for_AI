{
  "cells": [
    {
      "cell_type": "markdown",
      "metadata": {
        "id": "view-in-github",
        "colab_type": "text"
      },
      "source": [
        "<a href=\"https://colab.research.google.com/github/ImanJowkar/python_for_AI/blob/main/8-built-in-functions.ipynb\" target=\"_parent\"><img src=\"https://colab.research.google.com/assets/colab-badge.svg\" alt=\"Open In Colab\"/></a>"
      ]
    },
    {
      "cell_type": "markdown",
      "source": [
        "# Built-in function"
      ],
      "metadata": {
        "id": "VLDzSwVWKs5M"
      }
    },
    {
      "cell_type": "code",
      "source": [
        "a = [1, 2, -1, 4, 5]\n",
        "b = (8, 2, -1, 4, 5)\n"
      ],
      "metadata": {
        "id": "xyTCDiFwKvyQ"
      },
      "execution_count": 8,
      "outputs": []
    },
    {
      "cell_type": "code",
      "source": [
        "len(a), len(b)"
      ],
      "metadata": {
        "id": "JSOE0HVvMHCU",
        "outputId": "35b595aa-44e2-4171-8f30-c429bbf83547",
        "colab": {
          "base_uri": "https://localhost:8080/"
        }
      },
      "execution_count": 10,
      "outputs": [
        {
          "output_type": "execute_result",
          "data": {
            "text/plain": [
              "(5, 5)"
            ]
          },
          "metadata": {},
          "execution_count": 10
        }
      ]
    },
    {
      "cell_type": "code",
      "source": [
        "sum(a), sum(b)"
      ],
      "metadata": {
        "id": "Mnr09HCyLn9a",
        "outputId": "3902ede4-72c0-46d5-9fa8-b0138ed9f2cf",
        "colab": {
          "base_uri": "https://localhost:8080/"
        }
      },
      "execution_count": 9,
      "outputs": [
        {
          "output_type": "execute_result",
          "data": {
            "text/plain": [
              "(11, 18)"
            ]
          },
          "metadata": {},
          "execution_count": 9
        }
      ]
    },
    {
      "cell_type": "code",
      "source": [
        "sorted(a)"
      ],
      "metadata": {
        "id": "jzHwriEdL0D1",
        "outputId": "834d5e4b-3b1f-4c21-e86f-f968cdf1d36d",
        "colab": {
          "base_uri": "https://localhost:8080/"
        }
      },
      "execution_count": 11,
      "outputs": [
        {
          "output_type": "execute_result",
          "data": {
            "text/plain": [
              "[-1, 1, 2, 4, 5]"
            ]
          },
          "metadata": {},
          "execution_count": 11
        }
      ]
    },
    {
      "cell_type": "code",
      "source": [
        "a"
      ],
      "metadata": {
        "id": "YeXklyOuMoQw",
        "outputId": "3401f816-1748-4f47-dc38-91ba6c46e807",
        "colab": {
          "base_uri": "https://localhost:8080/"
        }
      },
      "execution_count": 12,
      "outputs": [
        {
          "output_type": "execute_result",
          "data": {
            "text/plain": [
              "[1, 2, -1, 4, 5]"
            ]
          },
          "metadata": {},
          "execution_count": 12
        }
      ]
    },
    {
      "cell_type": "code",
      "source": [
        "sorted(b)"
      ],
      "metadata": {
        "id": "2wzC1wnaMUYw",
        "outputId": "0ac2fcdf-302f-4ae8-fc5f-757557be97a1",
        "colab": {
          "base_uri": "https://localhost:8080/"
        }
      },
      "execution_count": 13,
      "outputs": [
        {
          "output_type": "execute_result",
          "data": {
            "text/plain": [
              "[-1, 2, 4, 5, 8]"
            ]
          },
          "metadata": {},
          "execution_count": 13
        }
      ]
    },
    {
      "cell_type": "code",
      "source": [
        "b"
      ],
      "metadata": {
        "id": "3Bghj4OaMWk5",
        "outputId": "728e5d34-290d-460b-8880-09e3baef46e2",
        "colab": {
          "base_uri": "https://localhost:8080/"
        }
      },
      "execution_count": 14,
      "outputs": [
        {
          "output_type": "execute_result",
          "data": {
            "text/plain": [
              "(8, 2, -1, 4, 5)"
            ]
          },
          "metadata": {},
          "execution_count": 14
        }
      ]
    },
    {
      "cell_type": "code",
      "source": [
        "sorted(a, reverse=True)"
      ],
      "metadata": {
        "id": "UAnPRhT6MsE8",
        "outputId": "9991ce94-8310-472d-a96f-e82116ae863d",
        "colab": {
          "base_uri": "https://localhost:8080/"
        }
      },
      "execution_count": 15,
      "outputs": [
        {
          "output_type": "execute_result",
          "data": {
            "text/plain": [
              "[5, 4, 2, 1, -1]"
            ]
          },
          "metadata": {},
          "execution_count": 15
        }
      ]
    },
    {
      "cell_type": "code",
      "source": [
        "min(a), min(b)"
      ],
      "metadata": {
        "id": "rWdgDSMgMz77",
        "outputId": "584191bc-8492-4f72-a373-3d83491185be",
        "colab": {
          "base_uri": "https://localhost:8080/"
        }
      },
      "execution_count": 16,
      "outputs": [
        {
          "output_type": "execute_result",
          "data": {
            "text/plain": [
              "(-1, -1)"
            ]
          },
          "metadata": {},
          "execution_count": 16
        }
      ]
    },
    {
      "cell_type": "code",
      "source": [
        "max(a), max(b)"
      ],
      "metadata": {
        "id": "4gzZfB7JM2fX",
        "outputId": "c85615ea-9f41-4a0d-bed2-467b00a897cc",
        "colab": {
          "base_uri": "https://localhost:8080/"
        }
      },
      "execution_count": 17,
      "outputs": [
        {
          "output_type": "execute_result",
          "data": {
            "text/plain": [
              "(5, 8)"
            ]
          },
          "metadata": {},
          "execution_count": 17
        }
      ]
    },
    {
      "cell_type": "code",
      "source": [
        "round(1.3)"
      ],
      "metadata": {
        "id": "cUiPdJwpM_Nt",
        "outputId": "f8c2b8b7-2b60-4650-b270-5e44e3c1f4c5",
        "colab": {
          "base_uri": "https://localhost:8080/"
        }
      },
      "execution_count": 18,
      "outputs": [
        {
          "output_type": "execute_result",
          "data": {
            "text/plain": [
              "1"
            ]
          },
          "metadata": {},
          "execution_count": 18
        }
      ]
    },
    {
      "cell_type": "code",
      "source": [
        "round(1.55)"
      ],
      "metadata": {
        "id": "ttCr02OZNHOE",
        "outputId": "5cbd1c54-40fa-493b-bf20-fcc5c68d3cc3",
        "colab": {
          "base_uri": "https://localhost:8080/"
        }
      },
      "execution_count": 19,
      "outputs": [
        {
          "output_type": "execute_result",
          "data": {
            "text/plain": [
              "2"
            ]
          },
          "metadata": {},
          "execution_count": 19
        }
      ]
    },
    {
      "cell_type": "code",
      "source": [
        "round(1.23324343, 3)"
      ],
      "metadata": {
        "id": "usWWHI-XNJMP",
        "outputId": "36f872ca-1ee0-4e06-9785-198790548b02",
        "colab": {
          "base_uri": "https://localhost:8080/"
        }
      },
      "execution_count": 20,
      "outputs": [
        {
          "output_type": "execute_result",
          "data": {
            "text/plain": [
              "1.233"
            ]
          },
          "metadata": {},
          "execution_count": 20
        }
      ]
    },
    {
      "cell_type": "code",
      "source": [
        "abs(-4)"
      ],
      "metadata": {
        "id": "NbA74FAkNT-X",
        "outputId": "c99fea97-1945-44ad-fa62-9836520291af",
        "colab": {
          "base_uri": "https://localhost:8080/"
        }
      },
      "execution_count": 21,
      "outputs": [
        {
          "output_type": "execute_result",
          "data": {
            "text/plain": [
              "4"
            ]
          },
          "metadata": {},
          "execution_count": 21
        }
      ]
    },
    {
      "cell_type": "code",
      "source": [
        "list(map(lambda x: abs(x), a))"
      ],
      "metadata": {
        "id": "KqKKy_EANvG-",
        "outputId": "4591379f-11d3-4c71-baa7-8b487352195e",
        "colab": {
          "base_uri": "https://localhost:8080/"
        }
      },
      "execution_count": 23,
      "outputs": [
        {
          "output_type": "execute_result",
          "data": {
            "text/plain": [
              "[1, 2, 1, 4, 5]"
            ]
          },
          "metadata": {},
          "execution_count": 23
        }
      ]
    },
    {
      "cell_type": "code",
      "source": [
        "list(map(lambda x: abs(x), b))"
      ],
      "metadata": {
        "id": "M_0iOp65N1D1",
        "outputId": "cc97c85b-c064-479b-bf6e-c95789fd42f7",
        "colab": {
          "base_uri": "https://localhost:8080/"
        }
      },
      "execution_count": 24,
      "outputs": [
        {
          "output_type": "execute_result",
          "data": {
            "text/plain": [
              "[8, 2, 1, 4, 5]"
            ]
          },
          "metadata": {},
          "execution_count": 24
        }
      ]
    },
    {
      "cell_type": "markdown",
      "source": [
        "# most frequently function\n"
      ],
      "metadata": {
        "id": "UmYUds56OhlX"
      }
    },
    {
      "cell_type": "code",
      "source": [
        "list(range(10))"
      ],
      "metadata": {
        "id": "V8VlzlkFOLPH",
        "outputId": "02b127ed-0b2f-432b-8d8a-687019a37f8a",
        "colab": {
          "base_uri": "https://localhost:8080/"
        }
      },
      "execution_count": 26,
      "outputs": [
        {
          "output_type": "execute_result",
          "data": {
            "text/plain": [
              "[0, 1, 2, 3, 4, 5, 6, 7, 8, 9]"
            ]
          },
          "metadata": {},
          "execution_count": 26
        }
      ]
    },
    {
      "cell_type": "code",
      "source": [
        "list(range(2,10))"
      ],
      "metadata": {
        "id": "DW7Pwcq8Ol2i",
        "outputId": "ea00d382-cb53-4d80-e4b2-142b7e2e997a",
        "colab": {
          "base_uri": "https://localhost:8080/"
        }
      },
      "execution_count": 27,
      "outputs": [
        {
          "output_type": "execute_result",
          "data": {
            "text/plain": [
              "[2, 3, 4, 5, 6, 7, 8, 9]"
            ]
          },
          "metadata": {},
          "execution_count": 27
        }
      ]
    },
    {
      "cell_type": "code",
      "source": [
        "list(range(2,10,2))"
      ],
      "metadata": {
        "id": "eDZsYRRxOpb5",
        "outputId": "29840815-9211-4094-8f3e-4169f08c96b4",
        "colab": {
          "base_uri": "https://localhost:8080/"
        }
      },
      "execution_count": 28,
      "outputs": [
        {
          "output_type": "execute_result",
          "data": {
            "text/plain": [
              "[2, 4, 6, 8]"
            ]
          },
          "metadata": {},
          "execution_count": 28
        }
      ]
    },
    {
      "cell_type": "code",
      "source": [
        "slice(1,10,2)"
      ],
      "metadata": {
        "id": "OA5wJS31Oq-l",
        "outputId": "ff7aafbe-bd02-4c82-a9ab-7f13d31ac85f",
        "colab": {
          "base_uri": "https://localhost:8080/"
        }
      },
      "execution_count": 29,
      "outputs": [
        {
          "output_type": "execute_result",
          "data": {
            "text/plain": [
              "slice(1, 10, 2)"
            ]
          },
          "metadata": {},
          "execution_count": 29
        }
      ]
    },
    {
      "cell_type": "code",
      "source": [
        "list(slice(1,10,2))"
      ],
      "metadata": {
        "id": "OFGSB1NFPFu0",
        "outputId": "3d33cd8d-22c0-4ec5-e997-06cd39b9282e",
        "colab": {
          "base_uri": "https://localhost:8080/",
          "height": 165
        }
      },
      "execution_count": 30,
      "outputs": [
        {
          "output_type": "error",
          "ename": "TypeError",
          "evalue": "ignored",
          "traceback": [
            "\u001b[0;31m---------------------------------------------------------------------------\u001b[0m",
            "\u001b[0;31mTypeError\u001b[0m                                 Traceback (most recent call last)",
            "\u001b[0;32m<ipython-input-30-d9e7731cdaa6>\u001b[0m in \u001b[0;36m<module>\u001b[0;34m\u001b[0m\n\u001b[0;32m----> 1\u001b[0;31m \u001b[0mlist\u001b[0m\u001b[0;34m(\u001b[0m\u001b[0mslice\u001b[0m\u001b[0;34m(\u001b[0m\u001b[0;36m1\u001b[0m\u001b[0;34m,\u001b[0m\u001b[0;36m10\u001b[0m\u001b[0;34m,\u001b[0m\u001b[0;36m2\u001b[0m\u001b[0;34m)\u001b[0m\u001b[0;34m)\u001b[0m\u001b[0;34m\u001b[0m\u001b[0;34m\u001b[0m\u001b[0m\n\u001b[0m",
            "\u001b[0;31mTypeError\u001b[0m: 'slice' object is not iterable"
          ]
        }
      ]
    },
    {
      "cell_type": "code",
      "source": [
        "a"
      ],
      "metadata": {
        "id": "8-mG4TycPH9w",
        "outputId": "ebb4794a-0b8e-4cb3-ed0c-f0a5bc20330f",
        "colab": {
          "base_uri": "https://localhost:8080/"
        }
      },
      "execution_count": 31,
      "outputs": [
        {
          "output_type": "execute_result",
          "data": {
            "text/plain": [
              "[1, 2, -1, 4, 5]"
            ]
          },
          "metadata": {},
          "execution_count": 31
        }
      ]
    },
    {
      "cell_type": "code",
      "source": [
        "enumerate(a)"
      ],
      "metadata": {
        "id": "Q4--XeshPRcy",
        "outputId": "40863b3e-6ad3-4045-de0a-ff8128119d96",
        "colab": {
          "base_uri": "https://localhost:8080/"
        }
      },
      "execution_count": 33,
      "outputs": [
        {
          "output_type": "execute_result",
          "data": {
            "text/plain": [
              "<enumerate at 0x7f455bf369c0>"
            ]
          },
          "metadata": {},
          "execution_count": 33
        }
      ]
    },
    {
      "cell_type": "code",
      "source": [
        "list(enumerate(a))"
      ],
      "metadata": {
        "id": "RSmo4kHFPZ06",
        "outputId": "ed5c83bf-037e-48c6-82f5-e5c4dc6f52e0",
        "colab": {
          "base_uri": "https://localhost:8080/"
        }
      },
      "execution_count": 34,
      "outputs": [
        {
          "output_type": "execute_result",
          "data": {
            "text/plain": [
              "[(0, 1), (1, 2), (2, -1), (3, 4), (4, 5)]"
            ]
          },
          "metadata": {},
          "execution_count": 34
        }
      ]
    },
    {
      "cell_type": "code",
      "source": [
        "for idx, val in enumerate(a):\n",
        "    print(f\"index is: {idx} and value is: {val}\")"
      ],
      "metadata": {
        "id": "xlJSonTrPcb0",
        "outputId": "23066953-d4a2-499d-c63a-2d37f35581c3",
        "colab": {
          "base_uri": "https://localhost:8080/"
        }
      },
      "execution_count": 35,
      "outputs": [
        {
          "output_type": "stream",
          "name": "stdout",
          "text": [
            "index is: 0 and value is: 1\n",
            "index is: 1 and value is: 2\n",
            "index is: 2 and value is: -1\n",
            "index is: 3 and value is: 4\n",
            "index is: 4 and value is: 5\n"
          ]
        }
      ]
    },
    {
      "cell_type": "code",
      "source": [
        "for idx, val in enumerate(a,10):\n",
        "    print(f\"index is: {idx} and value is: {val}\")"
      ],
      "metadata": {
        "id": "S5P9guhRPpZ3",
        "outputId": "7f327078-38d3-464e-d733-bc77cd1529ef",
        "colab": {
          "base_uri": "https://localhost:8080/"
        }
      },
      "execution_count": 36,
      "outputs": [
        {
          "output_type": "stream",
          "name": "stdout",
          "text": [
            "index is: 10 and value is: 1\n",
            "index is: 11 and value is: 2\n",
            "index is: 12 and value is: -1\n",
            "index is: 13 and value is: 4\n",
            "index is: 14 and value is: 5\n"
          ]
        }
      ]
    },
    {
      "cell_type": "code",
      "source": [
        "c = [9,4,5,6,3]\n",
        "print(a)\n",
        "print(c)"
      ],
      "metadata": {
        "id": "1uzOgd8rP9Do",
        "outputId": "faeede2a-5e1f-46c4-e565-61d44938bdd1",
        "colab": {
          "base_uri": "https://localhost:8080/"
        }
      },
      "execution_count": 38,
      "outputs": [
        {
          "output_type": "stream",
          "name": "stdout",
          "text": [
            "[1, 2, -1, 4, 5]\n",
            "[9, 4, 5, 6, 3]\n"
          ]
        }
      ]
    },
    {
      "cell_type": "code",
      "source": [
        "list(zip(a,c))"
      ],
      "metadata": {
        "id": "FWaBv31sQI_z",
        "outputId": "cc4d9903-6c98-4f26-f68b-2b5159558f00",
        "colab": {
          "base_uri": "https://localhost:8080/"
        }
      },
      "execution_count": 39,
      "outputs": [
        {
          "output_type": "execute_result",
          "data": {
            "text/plain": [
              "[(1, 9), (2, 4), (-1, 5), (4, 6), (5, 3)]"
            ]
          },
          "metadata": {},
          "execution_count": 39
        }
      ]
    },
    {
      "cell_type": "code",
      "source": [
        "for ai, ci in zip(a, c):\n",
        "    print(ai, ci)"
      ],
      "metadata": {
        "id": "mO9r7EaaQW5C",
        "outputId": "bd1a3e02-f395-4f65-8b04-060545c8bfa0",
        "colab": {
          "base_uri": "https://localhost:8080/"
        }
      },
      "execution_count": 40,
      "outputs": [
        {
          "output_type": "stream",
          "name": "stdout",
          "text": [
            "1 9\n",
            "2 4\n",
            "-1 5\n",
            "4 6\n",
            "5 3\n"
          ]
        }
      ]
    },
    {
      "cell_type": "code",
      "source": [
        "d = [True, False, False, True, False]\n",
        "for ai, ci, di in zip(a, c, d):\n",
        "    print(ai, ci, di)"
      ],
      "metadata": {
        "id": "ICm6DxIoQ02M",
        "outputId": "421f1b41-c53a-4a71-a0b0-04a618ae2e3f",
        "colab": {
          "base_uri": "https://localhost:8080/"
        }
      },
      "execution_count": 41,
      "outputs": [
        {
          "output_type": "stream",
          "name": "stdout",
          "text": [
            "1 9 True\n",
            "2 4 False\n",
            "-1 5 False\n",
            "4 6 True\n",
            "5 3 False\n"
          ]
        }
      ]
    },
    {
      "cell_type": "code",
      "source": [
        "# element-wize sum in a + b:\n",
        "print(a)\n",
        "print(c)\n"
      ],
      "metadata": {
        "id": "7ulOpHu2RD1t",
        "outputId": "62362323-f9af-42e4-da92-9bc11503f08b",
        "colab": {
          "base_uri": "https://localhost:8080/"
        }
      },
      "execution_count": 42,
      "outputs": [
        {
          "output_type": "stream",
          "name": "stdout",
          "text": [
            "[1, 2, -1, 4, 5]\n",
            "[9, 4, 5, 6, 3]\n"
          ]
        }
      ]
    },
    {
      "cell_type": "code",
      "source": [
        "e = []\n",
        "for i,j in zip(a,c):\n",
        "    e.append(i+j)\n",
        "print(e)"
      ],
      "metadata": {
        "id": "yI2mKdk7ReW3",
        "outputId": "e5ed4eb4-c6db-413c-c2d0-794512a5a323",
        "colab": {
          "base_uri": "https://localhost:8080/"
        }
      },
      "execution_count": 44,
      "outputs": [
        {
          "output_type": "stream",
          "name": "stdout",
          "text": [
            "[10, 6, 4, 10, 8]\n"
          ]
        }
      ]
    },
    {
      "cell_type": "code",
      "source": [
        "list(enumerate(zip(a,b)))"
      ],
      "metadata": {
        "id": "-9k3pDCGRkFs",
        "outputId": "7c09090c-408c-4b04-934c-e37f06ac6c6d",
        "colab": {
          "base_uri": "https://localhost:8080/"
        }
      },
      "execution_count": 48,
      "outputs": [
        {
          "output_type": "execute_result",
          "data": {
            "text/plain": [
              "[(0, (1, 8)), (1, (2, 2)), (2, (-1, -1)), (3, (4, 4)), (4, (5, 5))]"
            ]
          },
          "metadata": {},
          "execution_count": 48
        }
      ]
    },
    {
      "cell_type": "code",
      "source": [
        "c = [54, 480, 4, 48,-87]\n",
        "a = [1, 2, -1, 4, 5]"
      ],
      "metadata": {
        "id": "bPM5rMDxSqKp"
      },
      "execution_count": 59,
      "outputs": []
    },
    {
      "cell_type": "code",
      "source": [
        "for i, b in enumerate(zip(a,c)):\n",
        "    print(i)\n",
        "    print(b)"
      ],
      "metadata": {
        "id": "9ZHspXt1R6Mi",
        "outputId": "48618ab1-a6e6-4e91-f25b-448ead482c32",
        "colab": {
          "base_uri": "https://localhost:8080/"
        }
      },
      "execution_count": 60,
      "outputs": [
        {
          "output_type": "stream",
          "name": "stdout",
          "text": [
            "0\n",
            "(1, 54)\n",
            "1\n",
            "(2, 480)\n",
            "2\n",
            "(-1, 4)\n",
            "3\n",
            "(4, 48)\n",
            "4\n",
            "(5, -87)\n"
          ]
        }
      ]
    },
    {
      "cell_type": "code",
      "source": [
        "for i, (ai,bi) in enumerate(zip(a,c)):\n",
        "    print(i, ai, bi)"
      ],
      "metadata": {
        "id": "qD5SVBPzSInW",
        "outputId": "78f7a8c4-f5f3-45fe-997c-f363e252702e",
        "colab": {
          "base_uri": "https://localhost:8080/"
        }
      },
      "execution_count": 61,
      "outputs": [
        {
          "output_type": "stream",
          "name": "stdout",
          "text": [
            "0 1 54\n",
            "1 2 480\n",
            "2 -1 4\n",
            "3 4 48\n",
            "4 5 -87\n"
          ]
        }
      ]
    },
    {
      "cell_type": "code",
      "source": [
        "type(a)"
      ],
      "metadata": {
        "id": "qK00cvc0SdV7",
        "outputId": "c04060a4-70cb-4a85-ae13-0692efe18315",
        "colab": {
          "base_uri": "https://localhost:8080/"
        }
      },
      "execution_count": 62,
      "outputs": [
        {
          "output_type": "execute_result",
          "data": {
            "text/plain": [
              "list"
            ]
          },
          "metadata": {},
          "execution_count": 62
        }
      ]
    },
    {
      "cell_type": "code",
      "source": [
        "isinstance(a, list)"
      ],
      "metadata": {
        "id": "_JnupZKwTOSv",
        "outputId": "b3ba6f99-7a9b-4c02-bdfb-f3a5db4315e8",
        "colab": {
          "base_uri": "https://localhost:8080/"
        }
      },
      "execution_count": 63,
      "outputs": [
        {
          "output_type": "execute_result",
          "data": {
            "text/plain": [
              "True"
            ]
          },
          "metadata": {},
          "execution_count": 63
        }
      ]
    },
    {
      "cell_type": "markdown",
      "source": [
        "# map and filter"
      ],
      "metadata": {
        "id": "CZ0Vz-a7ULbx"
      }
    },
    {
      "cell_type": "code",
      "source": [
        "list(map(lambda x: abs(x), a))"
      ],
      "metadata": {
        "id": "N6NZ5tr6UKzb",
        "outputId": "c2786257-27b7-4442-e202-0314b0339a83",
        "colab": {
          "base_uri": "https://localhost:8080/"
        }
      },
      "execution_count": 67,
      "outputs": [
        {
          "output_type": "execute_result",
          "data": {
            "text/plain": [
              "[1, 2, 1, 4, 5]"
            ]
          },
          "metadata": {},
          "execution_count": 67
        }
      ]
    },
    {
      "cell_type": "code",
      "source": [
        "list(map(abs, a))"
      ],
      "metadata": {
        "id": "r7Cs8vBcTQXK",
        "outputId": "899905c1-4883-48b1-c882-53951dd6ecff",
        "colab": {
          "base_uri": "https://localhost:8080/"
        }
      },
      "execution_count": 69,
      "outputs": [
        {
          "output_type": "execute_result",
          "data": {
            "text/plain": [
              "[1, 2, 1, 4, 5]"
            ]
          },
          "metadata": {},
          "execution_count": 69
        }
      ]
    },
    {
      "cell_type": "code",
      "source": [
        "print(a)\n",
        "print(c)\n",
        "list(map(sum, zip(a,c)))"
      ],
      "metadata": {
        "id": "edkUt4KrUytj",
        "outputId": "21b3a4e2-46ca-46e2-8f5c-10392ba1382c",
        "colab": {
          "base_uri": "https://localhost:8080/"
        }
      },
      "execution_count": 71,
      "outputs": [
        {
          "output_type": "stream",
          "name": "stdout",
          "text": [
            "[1, 2, -1, 4, 5]\n",
            "[54, 480, 4, 48, -87]\n"
          ]
        },
        {
          "output_type": "execute_result",
          "data": {
            "text/plain": [
              "[55, 482, 3, 52, -82]"
            ]
          },
          "metadata": {},
          "execution_count": 71
        }
      ]
    },
    {
      "cell_type": "code",
      "source": [
        "str1 = [\"12\", 'sdf','sdfewr','544554','88']\n",
        "list(filter(str.isdigit, str1))\n"
      ],
      "metadata": {
        "id": "0qA1ktjdVO58",
        "outputId": "fb62b2ad-bed4-42be-cd74-aba7b0b2b13b",
        "colab": {
          "base_uri": "https://localhost:8080/"
        }
      },
      "execution_count": 72,
      "outputs": [
        {
          "output_type": "execute_result",
          "data": {
            "text/plain": [
              "['12', '544554', '88']"
            ]
          },
          "metadata": {},
          "execution_count": 72
        }
      ]
    },
    {
      "cell_type": "code",
      "source": [
        "str1 = [\"12\", 'sdf','sdfewr','544554','88']\n",
        "digit = list(filter(str.isdigit, str1))\n",
        "print(digit)\n",
        "int1 = list(map(int, digit))\n",
        "int1"
      ],
      "metadata": {
        "id": "KYB0jtpGWxiF",
        "outputId": "4459ff19-deb1-4cab-f428-886e2e5d2bee",
        "colab": {
          "base_uri": "https://localhost:8080/"
        }
      },
      "execution_count": 79,
      "outputs": [
        {
          "output_type": "stream",
          "name": "stdout",
          "text": [
            "['12', '544554', '88']\n"
          ]
        },
        {
          "output_type": "execute_result",
          "data": {
            "text/plain": [
              "[12, 544554, 88]"
            ]
          },
          "metadata": {},
          "execution_count": 79
        }
      ]
    },
    {
      "cell_type": "code",
      "source": [
        "list(map(int, filter(str.isdigit, str1)))"
      ],
      "metadata": {
        "id": "ztbrKNjkXK6U",
        "outputId": "4cc80009-3183-47cd-dc89-4561bcded508",
        "colab": {
          "base_uri": "https://localhost:8080/"
        }
      },
      "execution_count": 80,
      "outputs": [
        {
          "output_type": "execute_result",
          "data": {
            "text/plain": [
              "[12, 544554, 88]"
            ]
          },
          "metadata": {},
          "execution_count": 80
        }
      ]
    },
    {
      "cell_type": "code",
      "source": [
        "print(a)\n",
        "list(filter(lambda x: x if x > 3 else x-100, a))"
      ],
      "metadata": {
        "id": "LA78hQD5VuKS",
        "outputId": "e0127a7c-4a4c-414d-ab73-d6c8dc689728",
        "colab": {
          "base_uri": "https://localhost:8080/"
        }
      },
      "execution_count": 77,
      "outputs": [
        {
          "output_type": "stream",
          "name": "stdout",
          "text": [
            "[1, 2, -1, 4, 5]\n"
          ]
        },
        {
          "output_type": "execute_result",
          "data": {
            "text/plain": [
              "[1, 2, -1, 4, 5]"
            ]
          },
          "metadata": {},
          "execution_count": 77
        }
      ]
    },
    {
      "cell_type": "markdown",
      "source": [
        "# iter & next"
      ],
      "metadata": {
        "id": "mtNQYP0ZXZn2"
      }
    },
    {
      "cell_type": "code",
      "source": [
        "x = [1, 0, -1]\n",
        "iter(x)"
      ],
      "metadata": {
        "id": "XdGKJEXZXZa8",
        "outputId": "be299468-04ce-4105-8182-6d8ce6a08131",
        "colab": {
          "base_uri": "https://localhost:8080/"
        }
      },
      "execution_count": 81,
      "outputs": [
        {
          "output_type": "execute_result",
          "data": {
            "text/plain": [
              "<list_iterator at 0x7f455c0afb80>"
            ]
          },
          "metadata": {},
          "execution_count": 81
        }
      ]
    },
    {
      "cell_type": "code",
      "source": [
        "x = \"Hello\"\n",
        "iter(x)"
      ],
      "metadata": {
        "id": "Wc_MO_VfV3uh",
        "outputId": "882d4d8c-9e19-46c2-8e1e-e219c3f5e5a7",
        "colab": {
          "base_uri": "https://localhost:8080/"
        }
      },
      "execution_count": 82,
      "outputs": [
        {
          "output_type": "execute_result",
          "data": {
            "text/plain": [
              "<str_iterator at 0x7f455bfd5280>"
            ]
          },
          "metadata": {},
          "execution_count": 82
        }
      ]
    },
    {
      "cell_type": "code",
      "source": [
        "x = [1, 0, -1]\n",
        "x_iter = iter(x)\n"
      ],
      "metadata": {
        "id": "NBCZ_fuQX4vc"
      },
      "execution_count": 88,
      "outputs": []
    },
    {
      "cell_type": "code",
      "source": [
        "next(x_iter) # run three times"
      ],
      "metadata": {
        "id": "rv2JOGoAX_nJ",
        "outputId": "21de45fb-1867-4901-e1d8-c879b69af793",
        "colab": {
          "base_uri": "https://localhost:8080/"
        }
      },
      "execution_count": 91,
      "outputs": [
        {
          "output_type": "execute_result",
          "data": {
            "text/plain": [
              "-1"
            ]
          },
          "metadata": {},
          "execution_count": 91
        }
      ]
    },
    {
      "cell_type": "code",
      "source": [],
      "metadata": {
        "id": "OM-_LrbDYBIR"
      },
      "execution_count": null,
      "outputs": []
    }
  ],
  "metadata": {
    "colab": {
      "name": "Welcome To Colaboratory",
      "provenance": [],
      "include_colab_link": true
    },
    "kernelspec": {
      "display_name": "Python 3",
      "name": "python3"
    }
  },
  "nbformat": 4,
  "nbformat_minor": 0
}