{
 "cells": [
  {
   "cell_type": "code",
   "execution_count": 1,
   "id": "fa991451-cfa8-4ebe-9ffd-be1ffd074992",
   "metadata": {},
   "outputs": [
    {
     "name": "stdout",
     "output_type": "stream",
     "text": [
      "Defaulting to user installation because normal site-packages is not writeable\n",
      "Requirement already satisfied: numpy==1.23.4 in /home/iman/.local/lib/python3.10/site-packages (1.23.4)\n",
      "Note: you may need to restart the kernel to use updated packages.\n"
     ]
    },
    {
     "data": {
      "text/plain": [
       "'1.23.4'"
      ]
     },
     "execution_count": 1,
     "metadata": {},
     "output_type": "execute_result"
    }
   ],
   "source": [
    "%pip install numpy==1.23.4\n",
    "import numpy as np\n",
    "np.__version__"
   ]
  },
  {
   "cell_type": "markdown",
   "id": "14d2f9fb-d895-4a91-84b1-62b58f875c63",
   "metadata": {
    "tags": []
   },
   "source": [
    "# Numpy array"
   ]
  },
  {
   "cell_type": "code",
   "execution_count": 3,
   "id": "02ae5b5d-005e-444d-8b93-d60909eb3415",
   "metadata": {},
   "outputs": [
    {
     "data": {
      "text/plain": [
       "array([ 0,  1,  2,  3,  4,  5,  6,  7,  8,  9, 10, 11, 12, 13, 14, 15, 16,\n",
       "       17, 18, 19])"
      ]
     },
     "execution_count": 3,
     "metadata": {},
     "output_type": "execute_result"
    }
   ],
   "source": [
    "np.arange(20)"
   ]
  },
  {
   "cell_type": "code",
   "execution_count": 4,
   "id": "78435d75-bb34-4a0a-9d5f-6ae4e7ef6606",
   "metadata": {},
   "outputs": [
    {
     "data": {
      "text/plain": [
       "array(3)"
      ]
     },
     "execution_count": 4,
     "metadata": {},
     "output_type": "execute_result"
    }
   ],
   "source": [
    "scaler = np.array(3)\n",
    "scaler"
   ]
  },
  {
   "cell_type": "code",
   "execution_count": 13,
   "id": "9e4f2c56-04e5-4979-ace5-0cdaa35cb84a",
   "metadata": {},
   "outputs": [
    {
     "data": {
      "text/plain": [
       "array([1, 2, 3, 4, 4])"
      ]
     },
     "execution_count": 13,
     "metadata": {},
     "output_type": "execute_result"
    }
   ],
   "source": [
    "row_vec = np.array([1,2,3,4,4])\n",
    "row_vec"
   ]
  },
  {
   "cell_type": "code",
   "execution_count": 14,
   "id": "29656594-7b73-4e94-9e5e-8ecc19d8f7ce",
   "metadata": {},
   "outputs": [
    {
     "data": {
      "text/plain": [
       "array([[5],\n",
       "       [8],\n",
       "       [7]])"
      ]
     },
     "execution_count": 14,
     "metadata": {},
     "output_type": "execute_result"
    }
   ],
   "source": [
    "col_vec = np.array([[5],\n",
    "                    [8],\n",
    "                    [7]])\n",
    "col_vec"
   ]
  },
  {
   "cell_type": "code",
   "execution_count": 3,
   "id": "f57c922e-d30f-4c27-9985-a20cb55924dd",
   "metadata": {},
   "outputs": [
    {
     "data": {
      "text/plain": [
       "array([[1, 2, 3, 4],\n",
       "       [4, 3, 2, 6],\n",
       "       [5, 4, 3, 7],\n",
       "       [1, 2, 3, 4]])"
      ]
     },
     "execution_count": 3,
     "metadata": {},
     "output_type": "execute_result"
    }
   ],
   "source": [
    "mat1 = np.array([[1,2,3,4],\n",
    "                 [4,3,2,6],\n",
    "                 [5,4,3,7],\n",
    "                 [1,2,3,4]])\n",
    "mat1"
   ]
  },
  {
   "cell_type": "code",
   "execution_count": 4,
   "id": "2a3593e6-668a-487f-8302-76ea4ab2935e",
   "metadata": {},
   "outputs": [
    {
     "data": {
      "text/plain": [
       "2"
      ]
     },
     "execution_count": 4,
     "metadata": {},
     "output_type": "execute_result"
    }
   ],
   "source": [
    "mat1.ndim"
   ]
  },
  {
   "cell_type": "code",
   "execution_count": 5,
   "id": "a7b8d6f6-6120-41f5-a838-a3df4e0ca345",
   "metadata": {},
   "outputs": [
    {
     "data": {
      "text/plain": [
       "3"
      ]
     },
     "execution_count": 5,
     "metadata": {},
     "output_type": "execute_result"
    }
   ],
   "source": [
    "# rank\n",
    "np.linalg.matrix_rank(mat1)"
   ]
  },
  {
   "cell_type": "code",
   "execution_count": 6,
   "id": "a2570522-e8e0-488a-a10b-611398c799da",
   "metadata": {},
   "outputs": [
    {
     "data": {
      "text/plain": [
       "array([[[0.37222236, 0.92965838],\n",
       "        [0.89500618, 0.34655633]],\n",
       "\n",
       "       [[0.09006434, 0.75491554],\n",
       "        [0.27571259, 0.24370484]],\n",
       "\n",
       "       [[0.6109002 , 0.30211865],\n",
       "        [0.85670873, 0.61584906]]])"
      ]
     },
     "execution_count": 6,
     "metadata": {},
     "output_type": "execute_result"
    }
   ],
   "source": [
    "tensor = np.random.rand(3,2,2)\n",
    "tensor"
   ]
  },
  {
   "cell_type": "code",
   "execution_count": 7,
   "id": "9b2dc091-2332-4095-a517-0099257ec269",
   "metadata": {},
   "outputs": [
    {
     "data": {
      "text/plain": [
       "array([2, 2, 2])"
      ]
     },
     "execution_count": 7,
     "metadata": {},
     "output_type": "execute_result"
    }
   ],
   "source": [
    "np.linalg.matrix_rank(tensor)"
   ]
  },
  {
   "cell_type": "code",
   "execution_count": 8,
   "id": "fba7e67a-07cd-4561-b352-e737a7c2cfe4",
   "metadata": {},
   "outputs": [
    {
     "data": {
      "text/plain": [
       "3"
      ]
     },
     "execution_count": 8,
     "metadata": {},
     "output_type": "execute_result"
    }
   ],
   "source": [
    "tensor.ndim"
   ]
  },
  {
   "cell_type": "code",
   "execution_count": 9,
   "id": "92f4fa2d-50d3-4970-9621-79e078ecea2e",
   "metadata": {},
   "outputs": [
    {
     "data": {
      "text/plain": [
       "(3, 2, 2)"
      ]
     },
     "execution_count": 9,
     "metadata": {},
     "output_type": "execute_result"
    }
   ],
   "source": [
    "tensor.shape"
   ]
  },
  {
   "cell_type": "code",
   "execution_count": 10,
   "id": "44e417da-2a34-4325-a319-7e5707c78dce",
   "metadata": {},
   "outputs": [
    {
     "data": {
      "text/plain": [
       "12"
      ]
     },
     "execution_count": 10,
     "metadata": {},
     "output_type": "execute_result"
    }
   ],
   "source": [
    "tensor.size"
   ]
  },
  {
   "cell_type": "code",
   "execution_count": 11,
   "id": "bcf8fedb-14ea-4bdb-aff5-b3320df28cd2",
   "metadata": {},
   "outputs": [
    {
     "data": {
      "text/plain": [
       "dtype('float64')"
      ]
     },
     "execution_count": 11,
     "metadata": {},
     "output_type": "execute_result"
    }
   ],
   "source": [
    "tensor.dtype"
   ]
  },
  {
   "cell_type": "code",
   "execution_count": 15,
   "id": "5bc2f3e7-b855-4de9-88c0-3d75716a6be3",
   "metadata": {},
   "outputs": [
    {
     "data": {
      "text/plain": [
       "dtype('int64')"
      ]
     },
     "execution_count": 15,
     "metadata": {},
     "output_type": "execute_result"
    }
   ],
   "source": [
    "row_vec.dtype"
   ]
  },
  {
   "cell_type": "code",
   "execution_count": 16,
   "id": "022ab5bc-3cd3-47cb-9afa-62c3f311b44e",
   "metadata": {},
   "outputs": [
    {
     "data": {
      "text/plain": [
       "96"
      ]
     },
     "execution_count": 16,
     "metadata": {},
     "output_type": "execute_result"
    }
   ],
   "source": [
    "tensor.nbytes # bytes "
   ]
  },
  {
   "cell_type": "markdown",
   "id": "b1d757c0-d871-4856-ab9f-12fbef376926",
   "metadata": {},
   "source": [
    "## numpy data types\n",
    "\n",
    "### 1 byte == 8 bit\n",
    "### int8 ==> 8 bit ==> 1 byte ==> (-128 ~ 127)\n",
    "### int16 ==> 16 bit ==> 2 byte ==> (-32768 ~ 32767)\n",
    "### int32 ===> 32 bit ==> 4 byte ===> (very large)\n",
    "\n",
    "\n",
    "### by default numpy use int64 and float 64\n",
    "\n",
    "\n",
    "\n",
    "### uint8 ==> 8 bit ===> 1 byte ===> (0 ~ 255)\n",
    "### uint16 ==> 16bit ===> 2 byte ===> (0 ~ 65535)\n",
    "\n",
    "\n",
    "### float_ ===> shorthand for float64\n",
    "### int_   ====> shorthand for int32"
   ]
  },
  {
   "cell_type": "code",
   "execution_count": 18,
   "id": "016e7189-3f7d-443a-878a-bf6f1c18aacd",
   "metadata": {},
   "outputs": [
    {
     "data": {
      "text/plain": [
       "(dtype('int64'), dtype('float64'))"
      ]
     },
     "execution_count": 18,
     "metadata": {},
     "output_type": "execute_result"
    }
   ],
   "source": [
    "vec1 = np.array([1,2,3,4])\n",
    "vec2 = np.array([1., 2., 3,4])\n",
    "vec1.dtype, vec2.dtype"
   ]
  },
  {
   "cell_type": "code",
   "execution_count": 21,
   "id": "72f38781-6a93-42b2-8e6f-a1e97d55ab88",
   "metadata": {},
   "outputs": [
    {
     "data": {
      "text/plain": [
       "(dtype('float64'), dtype('int64'))"
      ]
     },
     "execution_count": 21,
     "metadata": {},
     "output_type": "execute_result"
    }
   ],
   "source": [
    "vec1 = np.array([1,2,3,4], dtype=np.float_)\n",
    "vec2 = np.array([1., 2., 3,4], dtype=np.int_)\n",
    "vec1.dtype, vec2.dtype"
   ]
  },
  {
   "cell_type": "code",
   "execution_count": 20,
   "id": "0a46c3fc-8c63-442a-80b5-bb264ec500e5",
   "metadata": {},
   "outputs": [
    {
     "name": "stdout",
     "output_type": "stream",
     "text": [
      "[1. 2. 3. 4.]\n",
      "float16\n"
     ]
    }
   ],
   "source": [
    "vec3 = np.array([1,2,3,4], dtype=np.float16)\n",
    "print(vec3)\n",
    "print(vec3.dtype)"
   ]
  },
  {
   "cell_type": "code",
   "execution_count": 22,
   "id": "e9e777d8-4d3e-4f9d-b992-7996f97d8d44",
   "metadata": {},
   "outputs": [
    {
     "name": "stdout",
     "output_type": "stream",
     "text": [
      "[   1    2    3 -126]\n",
      "int8\n"
     ]
    }
   ],
   "source": [
    "vec4 = np.array([1,2,3,130], dtype=np.int8)\n",
    "print(vec4)\n",
    "print(vec4.dtype)"
   ]
  },
  {
   "cell_type": "code",
   "execution_count": 23,
   "id": "eece7b0d-45be-4ccd-9d9d-c8aa4550bbce",
   "metadata": {},
   "outputs": [
    {
     "name": "stdout",
     "output_type": "stream",
     "text": [
      "[  1   2 253 130]\n",
      "uint8\n"
     ]
    }
   ],
   "source": [
    "vec5 = np.array([1,2,-3,130], dtype=np.uint8)\n",
    "print(vec5)\n",
    "print(vec5.dtype)"
   ]
  },
  {
   "cell_type": "code",
   "execution_count": 25,
   "id": "013ff831-4337-4fdf-85ee-7fac0518b98d",
   "metadata": {},
   "outputs": [
    {
     "name": "stdout",
     "output_type": "stream",
     "text": [
      "[ True  True  True  True]\n",
      "bool\n"
     ]
    }
   ],
   "source": [
    "vec6 = np.array([1,2,-3,130], dtype=np.bool8)\n",
    "print(vec6)\n",
    "print(vec6.dtype)"
   ]
  },
  {
   "cell_type": "code",
   "execution_count": 27,
   "id": "b3875a3e-42d9-4e6e-8beb-37e9d35613bf",
   "metadata": {},
   "outputs": [
    {
     "name": "stdout",
     "output_type": "stream",
     "text": [
      "[1. 2. 3. 4.] float64\n",
      "[1 2 3 4] int64\n"
     ]
    }
   ],
   "source": [
    "# for change data type\n",
    "vec6 = np.array([1,2,3,4], dtype=np.float_)\n",
    "print(vec6, vec6.dtype)\n",
    "vec6 = vec6.astype(np.int_)\n",
    "print(vec6, vec6.dtype)"
   ]
  },
  {
   "cell_type": "markdown",
   "id": "ed88f7ef-fa86-4d3b-b2c9-ecf9de096685",
   "metadata": {},
   "source": [
    "## Special array"
   ]
  },
  {
   "cell_type": "code",
   "execution_count": 33,
   "id": "9e2463c6-425f-4799-9da4-8b72c7fb7291",
   "metadata": {},
   "outputs": [
    {
     "data": {
      "text/plain": [
       "array([0., 0., 0., 0., 0.])"
      ]
     },
     "execution_count": 33,
     "metadata": {},
     "output_type": "execute_result"
    }
   ],
   "source": [
    "np.zeros((5))"
   ]
  },
  {
   "cell_type": "code",
   "execution_count": 34,
   "id": "301f88ef-7fcf-4a85-bd93-dbd99e4dfbaf",
   "metadata": {},
   "outputs": [
    {
     "data": {
      "text/plain": [
       "array([[0.],\n",
       "       [0.],\n",
       "       [0.],\n",
       "       [0.],\n",
       "       [0.]])"
      ]
     },
     "execution_count": 34,
     "metadata": {},
     "output_type": "execute_result"
    }
   ],
   "source": [
    "np.zeros((5,1))"
   ]
  },
  {
   "cell_type": "code",
   "execution_count": 35,
   "id": "b9c073cf-43d9-441e-ba40-b2bd2ddc08bc",
   "metadata": {},
   "outputs": [
    {
     "data": {
      "text/plain": [
       "array([[0., 0., 0., 0.],\n",
       "       [0., 0., 0., 0.],\n",
       "       [0., 0., 0., 0.],\n",
       "       [0., 0., 0., 0.],\n",
       "       [0., 0., 0., 0.]])"
      ]
     },
     "execution_count": 35,
     "metadata": {},
     "output_type": "execute_result"
    }
   ],
   "source": [
    "np.zeros((5,4))"
   ]
  },
  {
   "cell_type": "code",
   "execution_count": 36,
   "id": "f1ac18db-da67-49ef-b463-c02ab1e0751a",
   "metadata": {},
   "outputs": [
    {
     "data": {
      "text/plain": [
       "array([[[0., 0., 0., 0., 0.],\n",
       "        [0., 0., 0., 0., 0.],\n",
       "        [0., 0., 0., 0., 0.],\n",
       "        [0., 0., 0., 0., 0.]],\n",
       "\n",
       "       [[0., 0., 0., 0., 0.],\n",
       "        [0., 0., 0., 0., 0.],\n",
       "        [0., 0., 0., 0., 0.],\n",
       "        [0., 0., 0., 0., 0.]],\n",
       "\n",
       "       [[0., 0., 0., 0., 0.],\n",
       "        [0., 0., 0., 0., 0.],\n",
       "        [0., 0., 0., 0., 0.],\n",
       "        [0., 0., 0., 0., 0.]]])"
      ]
     },
     "execution_count": 36,
     "metadata": {},
     "output_type": "execute_result"
    }
   ],
   "source": [
    "np.zeros((3,4,5))"
   ]
  },
  {
   "cell_type": "code",
   "execution_count": 37,
   "id": "8043f9dc-887d-4495-9da5-8de4d2a87e29",
   "metadata": {},
   "outputs": [
    {
     "data": {
      "text/plain": [
       "array([[[[0., 0., 0., 0., 0., 0.],\n",
       "         [0., 0., 0., 0., 0., 0.],\n",
       "         [0., 0., 0., 0., 0., 0.],\n",
       "         [0., 0., 0., 0., 0., 0.],\n",
       "         [0., 0., 0., 0., 0., 0.]],\n",
       "\n",
       "        [[0., 0., 0., 0., 0., 0.],\n",
       "         [0., 0., 0., 0., 0., 0.],\n",
       "         [0., 0., 0., 0., 0., 0.],\n",
       "         [0., 0., 0., 0., 0., 0.],\n",
       "         [0., 0., 0., 0., 0., 0.]],\n",
       "\n",
       "        [[0., 0., 0., 0., 0., 0.],\n",
       "         [0., 0., 0., 0., 0., 0.],\n",
       "         [0., 0., 0., 0., 0., 0.],\n",
       "         [0., 0., 0., 0., 0., 0.],\n",
       "         [0., 0., 0., 0., 0., 0.]],\n",
       "\n",
       "        [[0., 0., 0., 0., 0., 0.],\n",
       "         [0., 0., 0., 0., 0., 0.],\n",
       "         [0., 0., 0., 0., 0., 0.],\n",
       "         [0., 0., 0., 0., 0., 0.],\n",
       "         [0., 0., 0., 0., 0., 0.]]],\n",
       "\n",
       "\n",
       "       [[[0., 0., 0., 0., 0., 0.],\n",
       "         [0., 0., 0., 0., 0., 0.],\n",
       "         [0., 0., 0., 0., 0., 0.],\n",
       "         [0., 0., 0., 0., 0., 0.],\n",
       "         [0., 0., 0., 0., 0., 0.]],\n",
       "\n",
       "        [[0., 0., 0., 0., 0., 0.],\n",
       "         [0., 0., 0., 0., 0., 0.],\n",
       "         [0., 0., 0., 0., 0., 0.],\n",
       "         [0., 0., 0., 0., 0., 0.],\n",
       "         [0., 0., 0., 0., 0., 0.]],\n",
       "\n",
       "        [[0., 0., 0., 0., 0., 0.],\n",
       "         [0., 0., 0., 0., 0., 0.],\n",
       "         [0., 0., 0., 0., 0., 0.],\n",
       "         [0., 0., 0., 0., 0., 0.],\n",
       "         [0., 0., 0., 0., 0., 0.]],\n",
       "\n",
       "        [[0., 0., 0., 0., 0., 0.],\n",
       "         [0., 0., 0., 0., 0., 0.],\n",
       "         [0., 0., 0., 0., 0., 0.],\n",
       "         [0., 0., 0., 0., 0., 0.],\n",
       "         [0., 0., 0., 0., 0., 0.]]],\n",
       "\n",
       "\n",
       "       [[[0., 0., 0., 0., 0., 0.],\n",
       "         [0., 0., 0., 0., 0., 0.],\n",
       "         [0., 0., 0., 0., 0., 0.],\n",
       "         [0., 0., 0., 0., 0., 0.],\n",
       "         [0., 0., 0., 0., 0., 0.]],\n",
       "\n",
       "        [[0., 0., 0., 0., 0., 0.],\n",
       "         [0., 0., 0., 0., 0., 0.],\n",
       "         [0., 0., 0., 0., 0., 0.],\n",
       "         [0., 0., 0., 0., 0., 0.],\n",
       "         [0., 0., 0., 0., 0., 0.]],\n",
       "\n",
       "        [[0., 0., 0., 0., 0., 0.],\n",
       "         [0., 0., 0., 0., 0., 0.],\n",
       "         [0., 0., 0., 0., 0., 0.],\n",
       "         [0., 0., 0., 0., 0., 0.],\n",
       "         [0., 0., 0., 0., 0., 0.]],\n",
       "\n",
       "        [[0., 0., 0., 0., 0., 0.],\n",
       "         [0., 0., 0., 0., 0., 0.],\n",
       "         [0., 0., 0., 0., 0., 0.],\n",
       "         [0., 0., 0., 0., 0., 0.],\n",
       "         [0., 0., 0., 0., 0., 0.]]]])"
      ]
     },
     "execution_count": 37,
     "metadata": {},
     "output_type": "execute_result"
    }
   ],
   "source": [
    "np.zeros((3,4,5,6))"
   ]
  },
  {
   "cell_type": "code",
   "execution_count": 39,
   "id": "aae1d2a2-5b2b-4bc2-8a75-4e96eb1ada08",
   "metadata": {},
   "outputs": [
    {
     "data": {
      "text/plain": [
       "array([1., 1., 1., 1., 1., 1.])"
      ]
     },
     "execution_count": 39,
     "metadata": {},
     "output_type": "execute_result"
    }
   ],
   "source": [
    "np.ones(6)"
   ]
  },
  {
   "cell_type": "code",
   "execution_count": 40,
   "id": "8e7d086e-14a8-47e6-943b-5b8b0346c2f0",
   "metadata": {},
   "outputs": [
    {
     "data": {
      "text/plain": [
       "array([[1.],\n",
       "       [1.],\n",
       "       [1.],\n",
       "       [1.],\n",
       "       [1.]])"
      ]
     },
     "execution_count": 40,
     "metadata": {},
     "output_type": "execute_result"
    }
   ],
   "source": [
    "np.ones((5,1))"
   ]
  },
  {
   "cell_type": "code",
   "execution_count": 41,
   "id": "6809ae5e-c9b7-449e-bec6-dc6aa5280c24",
   "metadata": {},
   "outputs": [
    {
     "data": {
      "text/plain": [
       "array([[1., 1., 1.],\n",
       "       [1., 1., 1.]])"
      ]
     },
     "execution_count": 41,
     "metadata": {},
     "output_type": "execute_result"
    }
   ],
   "source": [
    "np.ones((2,3))"
   ]
  },
  {
   "cell_type": "code",
   "execution_count": 42,
   "id": "d42e657a-b181-425e-a7a0-1c70121aa1dd",
   "metadata": {},
   "outputs": [
    {
     "data": {
      "text/plain": [
       "array([[1., 0., 0., 0., 0.],\n",
       "       [0., 1., 0., 0., 0.],\n",
       "       [0., 0., 1., 0., 0.],\n",
       "       [0., 0., 0., 1., 0.],\n",
       "       [0., 0., 0., 0., 1.]])"
      ]
     },
     "execution_count": 42,
     "metadata": {},
     "output_type": "execute_result"
    }
   ],
   "source": [
    "np.eye(5)"
   ]
  },
  {
   "cell_type": "code",
   "execution_count": 43,
   "id": "d84df1d0-8503-4892-9495-b0bb39c768dc",
   "metadata": {},
   "outputs": [
    {
     "data": {
      "text/plain": [
       "array([[1., 0., 0., 0.],\n",
       "       [0., 1., 0., 0.],\n",
       "       [0., 0., 1., 0.],\n",
       "       [0., 0., 0., 1.]])"
      ]
     },
     "execution_count": 43,
     "metadata": {},
     "output_type": "execute_result"
    }
   ],
   "source": [
    "np.eye(4,4)"
   ]
  },
  {
   "cell_type": "code",
   "execution_count": 44,
   "id": "753f4468-7dfe-4744-87ce-33e6fdf8d473",
   "metadata": {},
   "outputs": [
    {
     "data": {
      "text/plain": [
       "array([[1., 0., 0., 0., 0.],\n",
       "       [0., 1., 0., 0., 0.],\n",
       "       [0., 0., 1., 0., 0.],\n",
       "       [0., 0., 0., 1., 0.]])"
      ]
     },
     "execution_count": 44,
     "metadata": {},
     "output_type": "execute_result"
    }
   ],
   "source": [
    "np.eye(4,5)"
   ]
  },
  {
   "cell_type": "code",
   "execution_count": 45,
   "id": "f375d7bb-8f06-4c02-9105-f3b2e0d0dc32",
   "metadata": {},
   "outputs": [
    {
     "data": {
      "text/plain": [
       "array([[[4.67389328e-310, 0.00000000e+000, 6.90657996e-310,\n",
       "         6.90657983e-310],\n",
       "        [6.90657996e-310, 6.90658133e-310, 6.90657998e-310,\n",
       "         6.90657984e-310],\n",
       "        [6.90658132e-310, 6.90657982e-310, 6.90657983e-310,\n",
       "         6.90657984e-310]],\n",
       "\n",
       "       [[6.90657996e-310, 6.90658133e-310, 6.90658132e-310,\n",
       "         6.90658131e-310],\n",
       "        [6.90658129e-310, 6.90658012e-310, 6.90658013e-310,\n",
       "         6.90657984e-310],\n",
       "        [6.90658013e-310, 6.90658007e-310, 6.90658120e-310,\n",
       "         6.90657984e-310]]])"
      ]
     },
     "execution_count": 45,
     "metadata": {},
     "output_type": "execute_result"
    }
   ],
   "source": [
    "np.empty((2,3,4))"
   ]
  },
  {
   "cell_type": "code",
   "execution_count": 46,
   "id": "93e545b3-041f-4599-b948-03d9a273e4b2",
   "metadata": {},
   "outputs": [
    {
     "data": {
      "text/plain": [
       "array([[9., 9., 9., 9., 9.],\n",
       "       [9., 9., 9., 9., 9.]], dtype=float128)"
      ]
     },
     "execution_count": 46,
     "metadata": {},
     "output_type": "execute_result"
    }
   ],
   "source": [
    "np.full((2,5), 9, dtype=np.float128)"
   ]
  },
  {
   "cell_type": "code",
   "execution_count": 47,
   "id": "86eea657-714b-4943-99f6-ffc93f8b0761",
   "metadata": {},
   "outputs": [
    {
     "data": {
      "text/plain": [
       "array([[inf, inf, inf],\n",
       "       [inf, inf, inf]])"
      ]
     },
     "execution_count": 47,
     "metadata": {},
     "output_type": "execute_result"
    }
   ],
   "source": [
    "np.full((2,3), np.inf)"
   ]
  },
  {
   "cell_type": "code",
   "execution_count": 48,
   "id": "58626c23-5ed1-431e-a19c-608321aa5fd0",
   "metadata": {},
   "outputs": [
    {
     "data": {
      "text/plain": [
       "array([ 1.       ,  2.3      ,  3.6      ,  4.8999996,  6.2      ,\n",
       "        7.5      ,  8.799999 , 10.099999 , 11.4      , 12.7      ,\n",
       "       14.       , 15.299999 , 16.599998 , 17.9      , 19.199999 ,\n",
       "       20.5      , 21.8      ], dtype=float32)"
      ]
     },
     "execution_count": 48,
     "metadata": {},
     "output_type": "execute_result"
    }
   ],
   "source": [
    "np.arange(start = 1, stop=23, step=1.3, dtype=np.float32)"
   ]
  },
  {
   "cell_type": "code",
   "execution_count": 49,
   "id": "6d9b4462-c128-4343-8d46-bbdd9a29eae2",
   "metadata": {},
   "outputs": [
    {
     "data": {
      "text/plain": [
       "array([-2.        , -2.12244898, -2.24489796, -2.36734694, -2.48979592,\n",
       "       -2.6122449 , -2.73469388, -2.85714286, -2.97959184, -3.10204082,\n",
       "       -3.2244898 , -3.34693878, -3.46938776, -3.59183673, -3.71428571,\n",
       "       -3.83673469, -3.95918367, -4.08163265, -4.20408163, -4.32653061,\n",
       "       -4.44897959, -4.57142857, -4.69387755, -4.81632653, -4.93877551,\n",
       "       -5.06122449, -5.18367347, -5.30612245, -5.42857143, -5.55102041,\n",
       "       -5.67346939, -5.79591837, -5.91836735, -6.04081633, -6.16326531,\n",
       "       -6.28571429, -6.40816327, -6.53061224, -6.65306122, -6.7755102 ,\n",
       "       -6.89795918, -7.02040816, -7.14285714, -7.26530612, -7.3877551 ,\n",
       "       -7.51020408, -7.63265306, -7.75510204, -7.87755102, -8.        ])"
      ]
     },
     "execution_count": 49,
     "metadata": {},
     "output_type": "execute_result"
    }
   ],
   "source": [
    "np.linspace(start = -2, stop = -8, num=50)"
   ]
  },
  {
   "cell_type": "code",
   "execution_count": 50,
   "id": "12c2fc09-d6bf-4838-99e1-2a94120d0de8",
   "metadata": {},
   "outputs": [
    {
     "data": {
      "text/plain": [
       "array([0.        , 0.01010101, 0.02020202, 0.03030303, 0.04040404,\n",
       "       0.05050505, 0.06060606, 0.07070707, 0.08080808, 0.09090909,\n",
       "       0.1010101 , 0.11111111, 0.12121212, 0.13131313, 0.14141414,\n",
       "       0.15151515, 0.16161616, 0.17171717, 0.18181818, 0.19191919,\n",
       "       0.2020202 , 0.21212121, 0.22222222, 0.23232323, 0.24242424,\n",
       "       0.25252525, 0.26262626, 0.27272727, 0.28282828, 0.29292929,\n",
       "       0.3030303 , 0.31313131, 0.32323232, 0.33333333, 0.34343434,\n",
       "       0.35353535, 0.36363636, 0.37373737, 0.38383838, 0.39393939,\n",
       "       0.4040404 , 0.41414141, 0.42424242, 0.43434343, 0.44444444,\n",
       "       0.45454545, 0.46464646, 0.47474747, 0.48484848, 0.49494949,\n",
       "       0.50505051, 0.51515152, 0.52525253, 0.53535354, 0.54545455,\n",
       "       0.55555556, 0.56565657, 0.57575758, 0.58585859, 0.5959596 ,\n",
       "       0.60606061, 0.61616162, 0.62626263, 0.63636364, 0.64646465,\n",
       "       0.65656566, 0.66666667, 0.67676768, 0.68686869, 0.6969697 ,\n",
       "       0.70707071, 0.71717172, 0.72727273, 0.73737374, 0.74747475,\n",
       "       0.75757576, 0.76767677, 0.77777778, 0.78787879, 0.7979798 ,\n",
       "       0.80808081, 0.81818182, 0.82828283, 0.83838384, 0.84848485,\n",
       "       0.85858586, 0.86868687, 0.87878788, 0.88888889, 0.8989899 ,\n",
       "       0.90909091, 0.91919192, 0.92929293, 0.93939394, 0.94949495,\n",
       "       0.95959596, 0.96969697, 0.97979798, 0.98989899, 1.        ])"
      ]
     },
     "execution_count": 50,
     "metadata": {},
     "output_type": "execute_result"
    }
   ],
   "source": [
    "np.linspace(0,1, 100)"
   ]
  },
  {
   "cell_type": "code",
   "execution_count": 58,
   "id": "06184973-35b9-46f1-9d96-69a598df70e8",
   "metadata": {},
   "outputs": [
    {
     "name": "stdout",
     "output_type": "stream",
     "text": [
      "[[7 7 7 7]\n",
      " [7 7 7 7]\n",
      " [7 7 7 7]]\n",
      "int64\n"
     ]
    },
    {
     "data": {
      "text/plain": [
       "(None, None)"
      ]
     },
     "execution_count": 58,
     "metadata": {},
     "output_type": "execute_result"
    }
   ],
   "source": [
    "mat = np.full((3,4), 7)\n",
    "print(mat), print(mat.dtype)"
   ]
  },
  {
   "cell_type": "code",
   "execution_count": 59,
   "id": "08e33fa6-8c04-4b88-9bc6-57138f8b7985",
   "metadata": {},
   "outputs": [
    {
     "name": "stdout",
     "output_type": "stream",
     "text": [
      "[[0 0 0 0]\n",
      " [0 0 0 0]\n",
      " [0 0 0 0]]\n"
     ]
    }
   ],
   "source": [
    "mat1 = np.zeros_like(mat)\n",
    "print(mat1)"
   ]
  },
  {
   "cell_type": "markdown",
   "id": "0d04aa5f-1f51-47d7-aff3-67582773bbad",
   "metadata": {},
   "source": [
    "### Random Array"
   ]
  },
  {
   "cell_type": "code",
   "execution_count": 61,
   "id": "fd158a8f-105d-4643-94fa-3a245c3a7a5d",
   "metadata": {},
   "outputs": [
    {
     "data": {
      "text/plain": [
       "array([[0.41071085, 0.96058373],\n",
       "       [0.2739281 , 0.50791255],\n",
       "       [0.86114673, 0.2670766 ]])"
      ]
     },
     "execution_count": 61,
     "metadata": {},
     "output_type": "execute_result"
    }
   ],
   "source": [
    "from numpy import random\n",
    "random.rand(3,2)"
   ]
  },
  {
   "cell_type": "code",
   "execution_count": 62,
   "id": "e234571b-8cba-4169-8e61-6c86c00fb708",
   "metadata": {},
   "outputs": [
    {
     "data": {
      "text/plain": [
       "array([0.741557  , 0.1642168 , 0.57432223, 0.38514567])"
      ]
     },
     "execution_count": 62,
     "metadata": {},
     "output_type": "execute_result"
    }
   ],
   "source": [
    "# uniform random between 0 ~ 1\n",
    "random.rand(4)"
   ]
  },
  {
   "cell_type": "code",
   "execution_count": 66,
   "id": "e95eeec1-746f-46b5-8b12-6708fce96e8d",
   "metadata": {},
   "outputs": [
    {
     "data": {
      "text/plain": [
       "array([8.50461185, 1.87586011, 9.04441376, 8.38332802, 4.45856881])"
      ]
     },
     "execution_count": 66,
     "metadata": {},
     "output_type": "execute_result"
    }
   ],
   "source": [
    "# uniform random between 0 ~ 10\n",
    "random.rand(5) * 10 "
   ]
  },
  {
   "cell_type": "code",
   "execution_count": 75,
   "id": "c30cf0e1-7bb5-47e5-bd13-48b8597e6369",
   "metadata": {},
   "outputs": [
    {
     "data": {
      "text/plain": [
       "array([-2.95026155, -1.48927044, -3.07699515, -2.37272012, -3.61549476,\n",
       "        4.84846061])"
      ]
     },
     "execution_count": 75,
     "metadata": {},
     "output_type": "execute_result"
    }
   ],
   "source": [
    "# uniform random between -5 ~ +5\n",
    "(random.rand(6) * 10) - 5"
   ]
  },
  {
   "cell_type": "code",
   "execution_count": 79,
   "id": "aa8b4626-5658-4673-94a7-869789546d68",
   "metadata": {},
   "outputs": [
    {
     "data": {
      "image/png": "[encoded data removed]",
      "text/plain": [
       "<Figure size 432x288 with 1 Axes>"
      ]
     },
     "metadata": {
      "needs_background": "light"
     },
     "output_type": "display_data"
    }
   ],
   "source": [
    "import matplotlib.pyplot as plt\n",
    "vec = (random.rand(2323) * 10) - 5\n",
    "plt.hist(vec, density=True)\n",
    "plt.show()"
   ]
  },
  {
   "cell_type": "code",
   "execution_count": 85,
   "id": "899b562f-4f93-4651-8caf-5649abdc5b84",
   "metadata": {},
   "outputs": [
    {
     "data": {
      "text/plain": [
       "array([5, 2, 4, 1, 5, 4, 3, 1, 4, 1, 3, 5, 1, 3, 1, 4, 1, 3, 3, 3, 4, 2,\n",
       "       4, 3, 3, 3, 2, 1, 3, 4])"
      ]
     },
     "execution_count": 85,
     "metadata": {},
     "output_type": "execute_result"
    }
   ],
   "source": [
    "# uniform integer\n",
    "vec = random.randint(low=1, high=6, size=30)\n",
    "vec"
   ]
  },
  {
   "cell_type": "code",
   "execution_count": 87,
   "id": "9cb7703d-72a9-4f43-a85a-c637c3feb21f",
   "metadata": {},
   "outputs": [
    {
     "name": "stdout",
     "output_type": "stream",
     "text": [
      "1 5\n"
     ]
    }
   ],
   "source": [
    "print(np.min(vec), np.max(vec))"
   ]
  },
  {
   "cell_type": "code",
   "execution_count": 88,
   "id": "58862690-2b3d-49dd-9021-ffa9c9c96bc2",
   "metadata": {},
   "outputs": [
    {
     "data": {
      "text/plain": [
       "array([[3, 4, 3],\n",
       "       [4, 2, 4],\n",
       "       [4, 1, 2],\n",
       "       [5, 3, 2]])"
      ]
     },
     "execution_count": 88,
     "metadata": {},
     "output_type": "execute_result"
    }
   ],
   "source": [
    "# uniform integer\n",
    "vec = random.randint(low=1, high=6, size=(4,3))\n",
    "vec"
   ]
  },
  {
   "cell_type": "code",
   "execution_count": 89,
   "id": "b945b07b-b18c-4d91-ba92-f1d14fff6bde",
   "metadata": {},
   "outputs": [
    {
     "data": {
      "text/plain": [
       "array([3, 2, 0, 1])"
      ]
     },
     "execution_count": 89,
     "metadata": {},
     "output_type": "execute_result"
    }
   ],
   "source": [
    "random.permutation(4)"
   ]
  },
  {
   "cell_type": "code",
   "execution_count": 90,
   "id": "5d2df21e-4633-4ed3-8259-a0474a73c164",
   "metadata": {},
   "outputs": [
    {
     "data": {
      "text/plain": [
       "array([21,  4, 27, 22, 20,  8, 14, 16,  5, 18, 25, 15, 30, 10, 29,  6,  3,\n",
       "       26,  9, 31, 19, 12,  1,  2, 24,  7, 17,  0, 11, 28, 23, 13])"
      ]
     },
     "execution_count": 90,
     "metadata": {},
     "output_type": "execute_result"
    }
   ],
   "source": [
    "random.permutation(32)"
   ]
  },
  {
   "cell_type": "code",
   "execution_count": 108,
   "id": "bfd4f362-f85e-4832-bdf7-5fa3cd63cf89",
   "metadata": {},
   "outputs": [
    {
     "name": "stdout",
     "output_type": "stream",
     "text": [
      "[[1 1 2 2]\n",
      " [1 1 2 2]\n",
      " [2 2 1 1]]\n",
      "-----\n",
      "[[1 1 2 2]\n",
      " [2 2 1 1]\n",
      " [1 1 2 2]]\n"
     ]
    }
   ],
   "source": [
    "mat = random.randint(1,3,(3,4))\n",
    "print(mat)\n",
    "random.shuffle(mat)\n",
    "print('-----')\n",
    "print(mat)"
   ]
  },
  {
   "cell_type": "code",
   "execution_count": 118,
   "id": "fbde5f87-8e5f-4071-a543-f9b7f6a21bf1",
   "metadata": {},
   "outputs": [
    {
     "data": {
      "text/plain": [
       "array([[3, 3, 2],\n",
       "       [2, 1, 1],\n",
       "       [3, 2, 3],\n",
       "       [1, 2, 3]])"
      ]
     },
     "execution_count": 118,
     "metadata": {},
     "output_type": "execute_result"
    }
   ],
   "source": [
    "random.seed(4)\n",
    "random.randint(1,4,(4,3))"
   ]
  },
  {
   "cell_type": "code",
   "execution_count": 129,
   "id": "0216fa27-9eaa-4fc6-85f9-2f97a19166ab",
   "metadata": {},
   "outputs": [
    {
     "data": {
      "text/plain": [
       "array([-0.19262851,  0.01311127,  1.87315333, -0.23018136])"
      ]
     },
     "execution_count": 129,
     "metadata": {},
     "output_type": "execute_result"
    }
   ],
   "source": [
    "# standard normal distribution\n",
    "random.randn(4)"
   ]
  },
  {
   "cell_type": "code",
   "execution_count": 132,
   "id": "c4a9eaa3-8d92-48c3-8231-1766a748b452",
   "metadata": {},
   "outputs": [
    {
     "data": {
      "image/png": "[encoded data removed]",
      "text/plain": [
       "<Figure size 432x288 with 1 Axes>"
      ]
     },
     "metadata": {
      "needs_background": "light"
     },
     "output_type": "display_data"
    }
   ],
   "source": [
    "import matplotlib.pyplot as plt\n",
    "normal_vec = 3 + 2.5 * np.random.randn(20000)\n",
    "plt.hist(normal_vec, density=True, bins=40)\n",
    "plt.grid()\n",
    "plt.show()"
   ]
  },
  {
   "cell_type": "code",
   "execution_count": null,
   "id": "dc74ca16-9773-4e6e-9c93-858748b35286",
   "metadata": {},
   "outputs": [],
   "source": []
  },
  {
   "cell_type": "code",
   "execution_count": null,
   "id": "a9e26b5d-7a97-4971-afff-656d36ee5087",
   "metadata": {},
   "outputs": [],
   "source": []
  },
  {
   "cell_type": "code",
   "execution_count": null,
   "id": "1a0ca8ae-9116-4fdd-a6c4-7ea3a8defea8",
   "metadata": {},
   "outputs": [],
   "source": []
  },
  {
   "cell_type": "code",
   "execution_count": null,
   "id": "9ac9b53c-437b-470f-bf17-1e8b804d88d2",
   "metadata": {},
   "outputs": [],
   "source": []
  },
  {
   "cell_type": "code",
   "execution_count": null,
   "id": "7a6049cc-d5b3-41f5-90ff-29302bedbc3e",
   "metadata": {},
   "outputs": [],
   "source": []
  },
  {
   "cell_type": "code",
   "execution_count": null,
   "id": "ae2f797c-20d9-437d-a269-53105cc6f6e7",
   "metadata": {},
   "outputs": [],
   "source": []
  },
  {
   "cell_type": "code",
   "execution_count": null,
   "id": "3baca613-5148-4d3b-b17d-c6b8ccc3dfe8",
   "metadata": {},
   "outputs": [],
   "source": []
  }
 ],
 "metadata": {
  "kernelspec": {
   "display_name": "Python 3 (ipykernel)",
   "language": "python",
   "name": "python3"
  },
  "language_info": {
   "codemirror_mode": {
    "name": "ipython",
    "version": 3
   },
   "file_extension": ".py",
   "mimetype": "text/x-python",
   "name": "python",
   "nbconvert_exporter": "python",
   "pygments_lexer": "ipython3",
   "version": "3.10.6"
  }
 },
 "nbformat": 4,
 "nbformat_minor": 5
}
